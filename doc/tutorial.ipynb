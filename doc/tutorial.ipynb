{
 "metadata": {
  "name": "",
  "signature": "sha256:8a49184a5669b972ae72eb900514412ae2f84e07797d3e6e20cac78682afa1e8"
 },
 "nbformat": 3,
 "nbformat_minor": 0,
 "worksheets": [
  {
   "cells": [
    {
     "cell_type": "heading",
     "level": 1,
     "metadata": {},
     "source": [
      "Introduction to pyrpl"
     ]
    },
    {
     "cell_type": "heading",
     "level": 2,
     "metadata": {},
     "source": [
      "Introduction"
     ]
    },
    {
     "cell_type": "markdown",
     "metadata": {},
     "source": [
      "The RedPitaya is an affordable FPGA board with fast analog inputs and outputs. This makes it interesting also for quantum optics experiments. The software package PyRPL (Python RedPitaya Lockbox) is an implementation of many devices that are needed for optics experiments every day. The user interface and all high-level functionality is written in python, but an essential part of the software is hidden in a custom FPGA design (based on the official RedPitaya software version 0.95). While most users probably never want to touch the FPGA design, the Verilog source code is provided together with this package and may be modified to customize the software to your needs. "
     ]
    },
    {
     "cell_type": "heading",
     "level": 2,
     "metadata": {},
     "source": [
      "Installation"
     ]
    },
    {
     "cell_type": "heading",
     "level": 4,
     "metadata": {},
     "source": [
      "Option 3: Simple clone from GitHub (developers)"
     ]
    },
    {
     "cell_type": "markdown",
     "metadata": {},
     "source": [
      "If instead you plan to synchronize with github on a regular basis, you can also leave the downloaded code where it is and add the parent directory of the pyrpl folder to the PYTHONPATH environment variable as described in this thread: http://stackoverflow.com/questions/3402168/permanently-add-a-directory-to-pythonpath. For all beta-testers and developers, this is the preferred option. So the typical PYTHONPATH environment variable should look somewhat like this:\n",
      "$\\texttt{PYTHONPATH=C:\\OTHER_MODULE;C:\\GITHUB\\PYRPL}$\n",
      "\n",
      "If you are experiencing problems with the dependencies on other python packages, executing the following command in the pyrpl directory might help:\n",
      "\n",
      "$\\texttt{python setup.py install develop}$\n",
      "\n",
      "If at a later point, you have the impression that updates from github are not reflected in the program's behavior, try this: "
     ]
    },
    {
     "cell_type": "code",
     "collapsed": false,
     "input": [
      "import pyrpl\n",
      "print pyrpl.__file__"
     ],
     "language": "python",
     "metadata": {},
     "outputs": [
      {
       "output_type": "stream",
       "stream": "stdout",
       "text": [
        "C:\\lneuhaus\\github\\pyrpl\\pyrpl\\__init__.pyc\n"
       ]
      }
     ],
     "prompt_number": 1
    },
    {
     "cell_type": "markdown",
     "metadata": {},
     "source": [
      "Should the directory not be the one of your local github installation, you might have an older version of pyrpl installed. Just delete any such directories other than your principal github clone and everything should work. "
     ]
    },
    {
     "cell_type": "heading",
     "level": 4,
     "metadata": {},
     "source": [
      "Option 2: from GitHub using setuptools (beta version)"
     ]
    },
    {
     "cell_type": "markdown",
     "metadata": {},
     "source": [
      "Download the code manually from https://github.com/lneuhaus/pyrpl/archive/master.zip and unzip it or get it directly from git by typing \n",
      "\n",
      "$\\texttt{git clone https://github.com/lneuhaus/pyrpl.git YOUR_DESTINATIONFOLDER}$\n",
      "\n",
      "In a command line shell, navigate into your new local pyrplockbox directory and execute\n",
      "\n",
      "$\\texttt{python setup.py install}$\n",
      "\n",
      "This copies the files into the side-package directory of python. The setup should make sure that you have the python libraries paramiko (http://www.paramiko.org/installing.html) and scp (https://pypi.python.org/pypi/scp) installed. If this is not the case you will get a corresponding error message in a later step of this tutorial. "
     ]
    },
    {
     "cell_type": "heading",
     "level": 4,
     "metadata": {},
     "source": [
      "Option 1: with pip (coming soon)"
     ]
    },
    {
     "cell_type": "markdown",
     "metadata": {},
     "source": [
      "If you have pip correctly installed, executing the following line in a command line should install pyrplockbox and all dependencies: \n",
      "\n",
      "$\\texttt{pip install pyrpl}$"
     ]
    },
    {
     "cell_type": "code",
     "collapsed": false,
     "input": [
      "!pip install pyrpl #if you look at this file in ipython notebook, just execute this cell to install pyrplockbox"
     ],
     "language": "python",
     "metadata": {},
     "outputs": []
    },
    {
     "cell_type": "heading",
     "level": 3,
     "metadata": {},
     "source": [
      "Compiling the server application (optional)"
     ]
    },
    {
     "cell_type": "markdown",
     "metadata": {},
     "source": [
      "The software comes with a precompiled version of the server application (written in C) that runs on the RedPitaya. This application is uploaded automatically when you start the connection. If you made changes to this file, you can recompile it by typing\n",
      "\n",
      "$\\texttt{python setup.py compile_server}$\n",
      "\n",
      "For this to work, you must have gcc and the cross-compiling libraries installed. Basically, if you can compile any of the official RedPitaya software written in C, then this should work, too. \n",
      "If you do not have a working cross-compiler installed on your UserPC, you can also compile directly on the RedPitaya (tested with ecosystem v0.95). To do so, you must upload the directory pyrpl/monitor_server on the redpitaya, and launch the compilation with the command\n",
      "$\\texttt{make CROSS_COMPILE=}$\n",
      "\n"
     ]
    },
    {
     "cell_type": "heading",
     "level": 3,
     "metadata": {},
     "source": [
      "Compiling the FPGA bitfile (optional)"
     ]
    },
    {
     "cell_type": "markdown",
     "metadata": {},
     "source": [
      "If you would like to modify the FPGA code or just make sure that it can be compiled, you should have a working installation of Vivado 2015.4. For windows users it is recommended to set up a virtual machine with Ubuntu on which the compiler can be run in order to avoid any compatibility problems. For the FPGA part, you only need the /fpga subdirectory of this software. Make sure it is somewhere in the file system of the machine with the vivado installation. Then type the following commands. You should adapt the path in the first and second commands to the locations of the Vivado installation / the fpga directory in your filesystem: \n",
      "\n",
      "$\\texttt{source /opt/Xilinx/Vivado/2015.4/settings64.sh}$\n",
      "\n",
      "$\\texttt{cd /home/myusername/fpga}$\n",
      "\n",
      "$\\texttt{make}$\n",
      "\n",
      "The compilation should take between 15 and 30 minutes. The result will be the file $\\texttt{fpga/red_pitaya.bin}$. To test the new FPGA design, make sure that this file  in the fpga subdirectory of your pyrpl code directory. That is, if you used a virtual machine for the compilation, you must copy the file back to the original machine on which you run pyrpl."
     ]
    },
    {
     "cell_type": "heading",
     "level": 3,
     "metadata": {},
     "source": [
      "Unitary tests (optional)"
     ]
    },
    {
     "cell_type": "markdown",
     "metadata": {},
     "source": [
      "In order to make sure that any recent changes do not affect prior functionality, a large number of automated tests have been implemented. Every push to the github repository is automatically installed tested on an empty virtual linux system. However, the testing server has currently no RedPitaya available to run tests directly on the FPGA. Therefore it is also useful to run these tests on your local machine in case you modified the code. \n",
      "\n",
      "Currently, the tests confirm that \n",
      "- all pyrpl modules can be loaded in python\n",
      "- all designated registers can be read and written\n",
      "- future: functionality of all major submodules against reference benchmarks\n",
      "\n",
      "To run the test, navigate in command line into the pyrpl directory and type\n",
      "\n",
      "$\\texttt{set REDPITAYA=192.168.1.100}$ (in windows) or \n",
      "\n",
      "$\\texttt{export REDPITAYA=192.168.1.100}$ (in linux)\n",
      "\n",
      "$\\texttt{python setup.py nosetests}$\n",
      "\n",
      "The first command tells the test at which IP address it can find a RedPitaya. The last command runs the actual test. After a few seconds, there should be some output saying that the software has passed more than 140 tests. \n",
      "\n",
      "After you have implemented additional features, you are encouraged to add unitary tests to consolidate the changes. If you immediately validate your changes with unitary tests, this will result in a huge productivity improvement for you. You can find all test files in the folder $\\texttt{pyrpl/pyrpl/test}$, and the existing examples (notably $\\texttt{test_example.py}$) should give you a good point to start. As long as you add a function starting with 'test_' in one of these files, your test should automatically run along with the others. As you add more tests, you will see the number of total tests increase when you run the test launcher. "
     ]
    },
    {
     "cell_type": "heading",
     "level": 3,
     "metadata": {},
     "source": [
      "Workflow to submit code changes (for developers)"
     ]
    },
    {
     "cell_type": "markdown",
     "metadata": {},
     "source": [
      "As soon as the code will have reached version 0.9.0.1 (high-level unitary tests implemented and passing, approx. end of May 2016), we will consider the master branch of the github repository as the stable pre-release version. The goal is that the master branch will guarantee functionality at all times. \n",
      "\n",
      "Any changes to the code, if they do not pass the unitary tests or have not been tested, are to be submitted as pull-requests in order not to endanger the stability of the master branch. We will briefly desribe how to properly submit your changes in that scenario. \n",
      "\n",
      "Let's say you already changed the code of your local clone of pyrpl. Instead of directly committing the change to the master branch, you should create your own branch. In the windows application of github, when you are looking at the pyrpl repository, there is a small symbol looking like a steet bifurcation in the upper left corner, that says \"Create new branch\" when you hold the cursor over it. Click it and enter the name of your branch \"leos development branch\" or similar. The program will automatically switch to that branch. Now you can commit your changes, and then hit the \"publish\" or \"sync\" button in the upper right. That will upload your changes so everyone can see and test them. \n",
      "\n",
      "You can continue working on your branch, add more commits and sync them with the online repository until your change is working. If the master branch has changed in the meantime, just click 'sync' to download them, and then the button \"update from master\" (upper left corner of the window) that will insert the most recent changes of the master branch into your branch. If the button doesn't work, that means that there are no changes available. This way you can benefit from the updates of the stable pre-release version, as long as they don't conflict with the changes you have been working on. If there are conflicts, github will wait for you to resolve them. In case you have been recompiling the fpga, there will always be a conflict w.r.t. the file 'red_pitaya.bin' (since it is a binary file, github cannot simply merge the differences you implemented). The best way to deal with this problem is to recompile the fpga bitfile after the 'update from master'. This way the binary file in your repository will correspond to the fpga code of the merged verilog files, and github will understand from the most recent modification date of the file that your local version of red_pitaya.bin is the one to keep. \n",
      "\n",
      "At some point, you might want to insert your changes into the master branch, because they have been well-tested and are going to be useful for everyone else, too. To do so, after having committed and synced all recent changes to your branch, click on \"Pull request\" in the upper right corner, enter a title and description concerning the changes you have made, and click \"Send pull request\". Now your job is done. I will review and test the modifications of your code once again, possibly fix incompatibility issues, and merge it into the master branch once all is well. After the merge, you can delete your development branch. If you plan to continue working on related changes, you can also keep the branch and send pull requests later on. If you plan to work on a different feature, I recommend you create a new branch with a name related to the new feature, since this will make the evolution history of the feature more understandable for others. Or, if you would like to go back to following the master branch, click on the little downward arrow besides the name of your branch close to the street bifurcation symbol in the upper left of the github window. You will be able to choose which branch to work on, and to select master. \n",
      "\n",
      "Let's all try to stick to this protocol. It might seem a little complicated at first, but you will quikly appreciate the fact that other people's mistakes won't be able to endanger your working code, and that by following the commits of the master branch alone, you will realize if an update is incompatible with your work."
     ]
    },
    {
     "cell_type": "heading",
     "level": 2,
     "metadata": {},
     "source": [
      "First steps"
     ]
    },
    {
     "cell_type": "markdown",
     "metadata": {},
     "source": [
      "If the installation went well, you should now be able to load the package in python. If that works you can pass directly to the next section 'Connecting to the RedPitaya'."
     ]
    },
    {
     "cell_type": "code",
     "collapsed": false,
     "input": [
      "from pyrpl import RedPitaya"
     ],
     "language": "python",
     "metadata": {},
     "outputs": [],
     "prompt_number": 1
    },
    {
     "cell_type": "markdown",
     "metadata": {},
     "source": [
      "Sometimes, python has problems finding the path to pyrplockbox. In that case you should add the pyrplockbox directory to your pythonpath environment variable (http://stackoverflow.com/questions/3402168/permanently-add-a-directory-to-pythonpath). If you do not know how to do that, just manually navigate the ipython console to the directory, for example: "
     ]
    },
    {
     "cell_type": "code",
     "collapsed": false,
     "input": [
      "cd c:\\lneuhaus\\github\\pyrpl"
     ],
     "language": "python",
     "metadata": {},
     "outputs": [
      {
       "output_type": "stream",
       "stream": "stdout",
       "text": [
        "c:\\lneuhaus\\github\\pyrpl\n"
       ]
      }
     ],
     "prompt_number": 2
    },
    {
     "cell_type": "markdown",
     "metadata": {},
     "source": [
      "Now retry to load the module. It should really work now. "
     ]
    },
    {
     "cell_type": "code",
     "collapsed": false,
     "input": [
      "from pyrpl import RedPitaya"
     ],
     "language": "python",
     "metadata": {},
     "outputs": [],
     "prompt_number": 1
    },
    {
     "cell_type": "heading",
     "level": 3,
     "metadata": {},
     "source": [
      "Connecting to the RedPitaya"
     ]
    },
    {
     "cell_type": "markdown",
     "metadata": {},
     "source": [
      "You should have a working SD card (any version of the SD card content is okay) in your RedPitaya (for instructions see http://redpitaya.com/quick-start/). The RedPitaya should be connected via ethernet to your computer. To set this up, there is plenty of instructions on the RedPitaya website (http://redpitaya.com/quick-start/). If you type the ip address of your module in a browser, you should be able to start the different apps from the manufacturer. The default address is http://192.168.1.100.\n",
      "If this works, we can load the python interface of pyrplockbox by specifying the RedPitaya's ip address. "
     ]
    },
    {
     "cell_type": "code",
     "collapsed": false,
     "input": [
      "from pyrpl import RedPitaya\n",
      "r = RedPitaya(hostname=\"192.168.1.100\")"
     ],
     "language": "python",
     "metadata": {},
     "outputs": [
      {
       "output_type": "stream",
       "stream": "stdout",
       "text": [
        ">\n",
        ">"
       ]
      },
      {
       "output_type": "stream",
       "stream": "stdout",
       "text": [
        "\n",
        "Server application started on port"
       ]
      },
      {
       "output_type": "stream",
       "stream": "stdout",
       "text": [
        " 2222\n",
        "Client started with success"
       ]
      },
      {
       "output_type": "stream",
       "stream": "stdout",
       "text": [
        "\n"
       ]
      }
     ],
     "prompt_number": 29
    },
    {
     "cell_type": "markdown",
     "metadata": {},
     "source": [
      "If you see at least one '>' symbol, your computer has successfully connected to your RedPitaya via SSH. This means that your connection works. The message 'Server application started on port 2222' means that your computer has sucessfully installed and started a server application on your RedPitaya. Once you get 'Client started with success', your python session has successfully connected to that server and all things are in place to get started."
     ]
    },
    {
     "cell_type": "heading",
     "level": 3,
     "metadata": {},
     "source": [
      "Basic communication with your RedPitaya"
     ]
    },
    {
     "cell_type": "code",
     "collapsed": false,
     "input": [
      "#check the value of input1\n",
      "print r.scope.voltage1"
     ],
     "language": "python",
     "metadata": {},
     "outputs": [
      {
       "output_type": "stream",
       "stream": "stdout",
       "text": [
        "-0.0203857421875\n"
       ]
      }
     ],
     "prompt_number": 2
    },
    {
     "cell_type": "markdown",
     "metadata": {},
     "source": [
      "With the last command, you have successfully retrieved a value from an FPGA register. This operation takes about 300 \u00b5s on my computer. So there is enough time to repeat the reading n times."
     ]
    },
    {
     "cell_type": "code",
     "collapsed": false,
     "input": [
      "#see how the adc reading fluctuates over time\n",
      "import time\n",
      "times,data = [],[]\n",
      "t0 = time.time()\n",
      "n = 3000\n",
      "for i in range(n):\n",
      "    times.append(time.time()-t0)\n",
      "    data.append(r.scope.voltage1)\n",
      "print \"Rough time to read one FPGA register: \", (time.time()-t0)/n*1e6, \"\u00b5s\"\n",
      "%matplotlib inline\n",
      "f, axarr = plt.subplots(1,2, sharey=True)\n",
      "axarr[0].plot(times, data, \"+\");\n",
      "axarr[0].set_title(\"ADC voltage vs time\");\n",
      "axarr[1].hist(data, bins=10,normed=True, orientation=\"horizontal\");\n",
      "axarr[1].set_title(\"ADC voltage histogram\");"
     ],
     "language": "python",
     "metadata": {},
     "outputs": [
      {
       "output_type": "stream",
       "stream": "stdout",
       "text": [
        "Rough time to read one FPGA register:  381.666660309 \u00b5s\n"
       ]
      },
      {
       "metadata": {},
       "output_type": "display_data",
       "png": "[encoded data removed]",
       "text": [
        "<matplotlib.figure.Figure at 0x80378d0>"
       ]
      }
     ],
     "prompt_number": 27
    },
    {
     "cell_type": "markdown",
     "metadata": {},
     "source": [
      "You see that the input values are not exactly zero. This is normal with all RedPitayas as some offsets are hard to keep zero when the environment changes (temperature etc.). So we will have to compensate for the offsets with our software. Another thing is that you see quite a bit of scatter beetween the points - almost as much that you do not see that the datapoints are quantized. The conclusion here is that the input noise is typically not totally negligible. Therefore we will need to use every trick at hand to get optimal noise performance. \n",
      "\n",
      "After reading from the RedPitaya, let's now try to write to the register controlling the first 8 yellow LED's on the board. The number written to the LED register is displayed on the LED array in binary representation. You should see some fast flashing of the yellow leds for a few seconds when you execute the next block."
     ]
    },
    {
     "cell_type": "code",
     "collapsed": false,
     "input": [
      "#blink some leds for 5 seconds\n",
      "from time import sleep\n",
      "for i in range(1025):\n",
      "    r.hk.led=i\n",
      "    sleep(0.005)"
     ],
     "language": "python",
     "metadata": {},
     "outputs": [],
     "prompt_number": 4
    },
    {
     "cell_type": "code",
     "collapsed": false,
     "input": [
      "# now feel free to play around a little to get familiar with binary representation by looking at the leds.\n",
      "from time import sleep\n",
      "r.hk.led = 0b00000001\n",
      "for i in range(10):\n",
      "    r.hk.led = ~r.hk.led>>1\n",
      "    sleep(0.2)"
     ],
     "language": "python",
     "metadata": {},
     "outputs": [],
     "prompt_number": 107
    },
    {
     "cell_type": "code",
     "collapsed": false,
     "input": [
      "import random\n",
      "for i in range(100):\n",
      "    r.hk.led = random.randint(0,255)\n",
      "    sleep(0.02)"
     ],
     "language": "python",
     "metadata": {},
     "outputs": [],
     "prompt_number": 100
    },
    {
     "cell_type": "heading",
     "level": 3,
     "metadata": {},
     "source": [
      "The different modules"
     ]
    },
    {
     "cell_type": "markdown",
     "metadata": {},
     "source": [
      "Let's now look a bit closer at the class RedPitaya. Besides managing the communication with your board, it contains different modules that represent the different sections of the FPGA. You already encountered two of them in the example above: \"hk\" and \"scope\". Here is the full list of modules:"
     ]
    },
    {
     "cell_type": "code",
     "collapsed": false,
     "input": [
      "r.hk #\"housekeeping\" = LEDs and digital inputs/outputs\n",
      "r.ams #\"analog mixed signals\" = auxiliary ADCs and DACs.\n",
      "\n",
      "r.scope #oscilloscope interface\n",
      "\n",
      "r.asg1 #\"arbitrary signal generator\" channel 1\n",
      "r.asg2 #\"arbitrary signal generator\" channel 2\n",
      "\n",
      "r.pid0 #first of four PID modules\n",
      "r.pid1\n",
      "r.pid2\n",
      "r.pid3\n",
      "\n",
      "r.iq0 #first of three I+Q quadrature demodulation/modulation modules\n",
      "r.iq1\n",
      "r.iq2\n",
      "\n",
      "r.iir #\"infinite impules response\" filter module that can realize complex transfer functions"
     ],
     "language": "python",
     "metadata": {},
     "outputs": [
      {
       "metadata": {},
       "output_type": "pyout",
       "prompt_number": 7,
       "text": [
        "<pyrpl.redpitaya_modules.IIR at 0x7b00c90>"
       ]
      }
     ],
     "prompt_number": 7
    },
    {
     "cell_type": "heading",
     "level": 3,
     "metadata": {},
     "source": [
      "ASG and Scope module"
     ]
    },
    {
     "cell_type": "heading",
     "level": 4,
     "metadata": {},
     "source": [
      "Arbitrary Signal Generator"
     ]
    },
    {
     "cell_type": "markdown",
     "metadata": {},
     "source": [
      "There are two Arbitrary Signal Generator modules: asg1 and asg2. For these modules, any waveform composed of $2^{14}$ programmable points is sent to the output with arbitrary frequency and start phase upon a trigger event. "
     ]
    },
    {
     "cell_type": "code",
     "collapsed": true,
     "input": [
      "asg = r.asg1 # make a shortcut\n",
      "print \"Trigger sources:\", asg.trigger_sources\n",
      "print \"Output options: \", asg.outputs"
     ],
     "language": "python",
     "metadata": {},
     "outputs": [
      {
       "output_type": "stream",
       "stream": "stdout",
       "text": [
        "Trigger sources: ['immediately', 'ext_negative_edge', 'advanced_trigger', 'off', 'ext_positive_edge']\n",
        "Output options:  ['both', 'out2', 'off', 'out1']\n"
       ]
      }
     ],
     "prompt_number": 108
    },
    {
     "cell_type": "markdown",
     "metadata": {},
     "source": [
      "Let's set up the ASG to output a sawtooth signal of amplitude 0.8 V (peak-to-peak 1.6 V) at 1 MHz on output 2:"
     ]
    },
    {
     "cell_type": "code",
     "collapsed": false,
     "input": [
      "asg.output = 'out2'\n",
      "asg.setup(waveform='halframp', frequency=20e4, amplitude=0.8, offset=0, trigger_source='immediately')"
     ],
     "language": "python",
     "metadata": {},
     "outputs": [],
     "prompt_number": 3
    },
    {
     "cell_type": "heading",
     "level": 4,
     "metadata": {},
     "source": [
      "Oscilloscope"
     ]
    },
    {
     "cell_type": "markdown",
     "metadata": {},
     "source": [
      "The scope is works similar to the ASG but in reverse: Two channels are available. A table of $2^{14}$ datapoints for each channel is filled with the time series of incoming data. Downloading a full trace takes about 10 ms over standard ethernet. The rate at which the memory is filled is the sampling rate (125 MHz) divided by the value of 'decimation'. The property 'average' decides whether each datapoint is a single sample or the average of all samples over the decimation interval. "
     ]
    },
    {
     "cell_type": "code",
     "collapsed": false,
     "input": [
      "s = r.scope # shortcut\n",
      "print \"Available decimation factors:\", s.decimations\n",
      "print \"Trigger sources:\", s.trigger_sources\n",
      "print \"Available inputs: \", s.inputs"
     ],
     "language": "python",
     "metadata": {},
     "outputs": [
      {
       "output_type": "stream",
       "stream": "stdout",
       "text": [
        "Available decimation factors: [8192, 1, 65536, 8, 64, 1024]\n",
        "Trigger sources: ['asg_negative_edge', 'ch1_positive_edge', 'ch2_negative_edge', 'off', 'ext_positive_edge', 'ch1_negative_edge', 'immediately', 'asg_positive_edge', 'ext_negative_edge', 'ch2_positive_edge']\n",
        "Available inputs:  ['iir', 'dac1', 'iq1', 'iq0', 'iq2', 'asg1', 'asg2', 'adc2', 'adc1', 'pid1', 'pid0', 'dac2', 'pid2', 'pid3']\n"
       ]
      }
     ],
     "prompt_number": 4
    },
    {
     "cell_type": "markdown",
     "metadata": {},
     "source": [
      "Let's have a look at a signal generated by asg1. Later we will use convenience functions to reduce the amount of code necessary to set up the scope:"
     ]
    },
    {
     "cell_type": "code",
     "collapsed": false,
     "input": [
      "from time import sleep\n",
      "from pyrpl import RedPitaya\n",
      "\n",
      "#reload everything\n",
      "#r = RedPitaya(hostname=\"192.168.1.100\")\n",
      "asg = r.asg1\n",
      "s=r.scope\n",
      "\n",
      "# turn off asg so the scope has a chance to measure its \"off-state\" as well \n",
      "asg.on=False\n",
      "\n",
      "# setup scope\n",
      "s.input1 = 'asg1'\n",
      "\n",
      "# pass asg signal through pid0 with a simple integrator - just for fun (detailed explanations for pid will follow)\n",
      "r.pid0.input = 'asg1' \n",
      "r.pid0.ival = 0 # reset the integrator to zero\n",
      "r.pid0.i = 1000 # unity gain frequency of 1000 hz\n",
      "r.pid0.p = 1.0 # proportional gain of 1.0\n",
      "r.pid0.inputfilter = [0,0,0,0] # leave input filter disabled for now\n",
      "\n",
      "# show pid output on channel2\n",
      "s.input2 = 'pid0'\n",
      "\n",
      "# turn off the trigger while we configure\n",
      "s.trigger_armed = False\n",
      "\n",
      "# reset everything\n",
      "s.reset_writestate_machine=True\n",
      "\n",
      "# trig at zero volt crossing\n",
      "s.threshold_ch1 = 0 \n",
      "\n",
      "# positive/negative slope is detected by waiting for input to \n",
      "# sweept through hysteresis around the trigger threshold in \n",
      "# the right direction \n",
      "s.hysteresis_ch1 = 0.01\n",
      "\n",
      "# trigger on the input signal positive slope\n",
      "s.trigger_source = 'ch1_positive_edge'\n",
      "\n",
      "# take data symetrically around the trigger event\n",
      "s.trigger_delay=s.data_length//2 \n",
      "\n",
      "# set decimation factor to 8 -> full scope trace is 8ns * 2^14 * decimation = 1ms long\n",
      "s.decimation = 64\n",
      "\n",
      "# arm the trigger - start filling the buffer\n",
      "s.trigger_armed = True\n",
      "\n",
      "# make sure the scope buffer is completely overwritten by new data\n",
      "sleep(0.01)\n",
      "\n",
      "print \"\\nBefore turning on asg:\"\n",
      "print \"Trigger armed:\", s.trigger_armed # trigger should still be armed\n",
      "print \"Trigger source:\",s.trigger_source\n",
      "\n",
      "# turn on asg and leave enough time for the scope to record the data\n",
      "asg.setup(frequency=1e3,amplitude=0.3,start_phase=90,waveform='halframp',trigger_source='immediately')\n",
      "sleep(0.010)\n",
      "\n",
      "# check that the trigger has been disarmed\n",
      "print \"\\nAfter turning on asg:\"\n",
      "print \"Trigger armed:\", s.trigger_armed\n",
      "print \"Trigger source:\",s.trigger_source # disarmed trigger sets trigger source to 'off'\n",
      "print \"Trigger event age [ms]:\",8e-9*((s.current_timestamp&0xFFFFFFFFFFFFFFFF) - s.trigger_timestamp)*1000\n",
      "\n",
      "# plot the data\n",
      "%matplotlib inline\n",
      "plt.plot(s.times*1e3,s.data_ch1,s.times*1e3,s.data_ch2);\n",
      "plt.xlabel(\"Time [ms]\");\n",
      "plt.ylabel(\"Voltage\");"
     ],
     "language": "python",
     "metadata": {},
     "outputs": [
      {
       "output_type": "stream",
       "stream": "stdout",
       "text": [
        "\n",
        "Before turning on asg:\n",
        "Trigger armed: True\n",
        "Trigger source: ch1_positive_edge\n",
        "\n",
        "After turning on asg:\n",
        "Trigger armed: False\n",
        "Trigger source: off\n",
        "Trigger event age [ms]: 10.654792\n"
       ]
      },
      {
       "metadata": {},
       "output_type": "display_data",
       "png": "[encoded data removed]",
       "text": [
        "<matplotlib.figure.Figure at 0x8024530>"
       ]
      }
     ],
     "prompt_number": 126
    },
    {
     "cell_type": "markdown",
     "metadata": {},
     "source": [
      "What do we see? The blue trace for channel 1 shows just the output signal of the asg. The time=0 corresponds to the trigger event. One can see that the trigger was not activated by the constant signal of 0 at the beginning, since it did not cross the hysteresis interval. One can also see a 'bug': After setting up the asg, it outputs the first value of its data table until its waveform output is triggered. For the halframp signal, as it is implemented in pyrpl, this is the maximally negative value. However, we passed the argument start_phase=90 to the asg.setup function, which shifts the first point by a quarter period. Can you guess what happens when we set start_phase=180? You should try it out!\n",
      "\n",
      "In green, we see the same signal, filtered through the pid module. The nonzero proportional gain leads to instant jumps along with the asg signal. The integrator is responsible for the constant decrease rate at the beginning, and the low-pass that smoothens the asg waveform a little. One can also foresee that, if we are not paying attention, too large an integrator gain will quickly saturate the outputs. "
     ]
    },
    {
     "cell_type": "code",
     "collapsed": false,
     "input": [
      "# useful functions for scope diagnostics\n",
      "print \"Trigger armed:\", s.trigger_armed\n",
      "print \"Trigger source:\",s.trigger_source\n",
      "print \"Trigger threshold [V]:\",s.threshold_ch1\n",
      "print \"Averaging:\",s.average\n",
      "print \"Trigger delay [cycles]:\",s.trigger_delay\n",
      "print \"Trace duration [s]: \",s.duration\n",
      "print \"Trigger hysteresis [V]\", s.hysteresis_ch1\n",
      "print \"Current scope time [cycles]:\",hex(s.current_timestamp)\n",
      "print \"Trigger time [cycles]:\",hex(s.trigger_timestamp)\n",
      "print \"Current voltage on channel 1 [V]:\", r.scope.voltage1\n",
      "print \"First point in data buffer 1 [V]:\", s.ch1_firstpoint"
     ],
     "language": "python",
     "metadata": {},
     "outputs": [
      {
       "output_type": "stream",
       "stream": "stdout",
       "text": [
        "Trigger armed: False\n",
        "Trigger source: off\n",
        "Trigger threshold [V]: 0.0\n",
        "Averaging: True\n",
        "Trigger delay [cycles]: 8192\n",
        "Trace duration [s]:  0.008388608\n",
        "Trigger hysteresis [V] 0.010009765625\n",
        "Current scope time [cycles]: 0x10fc84ed000000c089c11d97L\n",
        "Trigger time [cycles]: 0x8c10fc84edL\n",
        "Current voltage on channel 1 [V]: -1.0\n",
        "First point in data buffer 1 [V]: 0.0439453125\n"
       ]
      }
     ],
     "prompt_number": 141
    },
    {
     "cell_type": "heading",
     "level": 3,
     "metadata": {},
     "source": [
      "PID module"
     ]
    },
    {
     "cell_type": "markdown",
     "metadata": {},
     "source": [
      "We have already seen some use of the pid module above. There are four PID modules available: pid0 to pid3. "
     ]
    },
    {
     "cell_type": "code",
     "collapsed": false,
     "input": [
      "print r.pid0.help()"
     ],
     "language": "python",
     "metadata": {},
     "outputs": [
      {
       "output_type": "stream",
       "stream": "stdout",
       "text": [
        "setpoint: pid setpoint [volts]\r\n",
        "\r\n",
        "i: pid integral unity-gain frequency [Hz]\r\n",
        "\r\n",
        "p: pid proportional gain [1]\r\n",
        "\r\n",
        "\n"
       ]
      }
     ],
     "prompt_number": 128
    },
    {
     "cell_type": "code",
     "collapsed": false,
     "input": [
      "#how do the proportional and integral gains behave?\n",
      "\n",
      "#make shortcut\n",
      "pid = r.pid0\n",
      "\n",
      "#turn off by setting gains to zero\n",
      "pid.p,pid.i = 0,0\n",
      "print \"P/I gain when turned off:\", pid.i,pid.p"
     ],
     "language": "python",
     "metadata": {},
     "outputs": [
      {
       "output_type": "stream",
       "stream": "stdout",
       "text": [
        "P/I gain when turned off: 0.0 0.0\n"
       ]
      }
     ],
     "prompt_number": 30
    },
    {
     "cell_type": "code",
     "collapsed": false,
     "input": [
      "# small nonzero numbers set gain to minimum value - avoids rounding off to zero gain\n",
      "pid.p = 1e-100\n",
      "pid.i = 1e-100\n",
      "print \"Minimum proportional gain: \",pid.p\n",
      "print \"Minimum integral unity-gain frequency [Hz]: \",pid.i"
     ],
     "language": "python",
     "metadata": {},
     "outputs": [
      {
       "output_type": "stream",
       "stream": "stdout",
       "text": [
        "Minimum proportional gain:  0.000244140625\n",
        "Minimum integral unity-gain frequency [Hz]:  0.0046320184801\n"
       ]
      }
     ],
     "prompt_number": 31
    },
    {
     "cell_type": "code",
     "collapsed": false,
     "input": [
      "# saturation at maximum values\n",
      "pid.p = 1e100\n",
      "pid.i = 1e100\n",
      "print \"Maximum proportional gain: \",pid.p\n",
      "print \"Maximum integral unity-gain frequency [Hz]: \",pid.i"
     ],
     "language": "python",
     "metadata": {},
     "outputs": [
      {
       "output_type": "stream",
       "stream": "stdout",
       "text": [
        "Maximum proportional gain:  2047.99975586\n",
        "Maximum integral unity-gain frequency [Hz]:  38856.1826463\n"
       ]
      }
     ],
     "prompt_number": 32
    },
    {
     "cell_type": "code",
     "collapsed": false,
     "input": [
      "#make shortcut\n",
      "pid = r.pid0\n",
      "\n",
      "# set input to asg1\n",
      "pid.input = \"asg1\"\n",
      "\n",
      "# set asg to constant 0.1 Volts\n",
      "r.asg1.setup(waveform=\"DC\", offset = 0.1)\n",
      "\n",
      "# set scope ch1 to pid0\n",
      "r.scope.input1 = 'pid0'\n",
      "\n",
      "#turn off the gains for now\n",
      "pid.p,pid.i = 0, 0\n",
      "\n",
      "#set integral value to zero\n",
      "pid.ival = 0\n",
      "\n",
      "#prepare data recording\n",
      "from time import time\n",
      "times, ivals, outputs = [], [], []\n",
      "\n",
      "# turn on integrator to whatever negative gain\n",
      "pid.i = -10\n",
      "\n",
      "# set integral value above the maximum positive voltage\n",
      "pid.ival = 1.5 \n",
      "\n",
      "#take 1000 points - jitter of the ethernet delay will add a noise here but we dont care\n",
      "for n in range(1000):\n",
      "    times.append(time())\n",
      "    ivals.append(pid.ival)\n",
      "    outputs.append(r.scope.voltage1)\n",
      "\n",
      "#plot\n",
      "import matplotlib.pyplot as plt\n",
      "%matplotlib inline\n",
      "times = np.array(times)-min(times)\n",
      "plt.plot(times,ivals,times,outputs);\n",
      "plt.xlabel(\"Time [s]\");\n",
      "plt.ylabel(\"Voltage\");"
     ],
     "language": "python",
     "metadata": {},
     "outputs": [
      {
       "metadata": {},
       "output_type": "display_data",
       "png": "[encoded data removed]",
       "text": [
        "<matplotlib.figure.Figure at 0x7deefb0>"
       ]
      }
     ],
     "prompt_number": 137
    },
    {
     "cell_type": "markdown",
     "metadata": {},
     "source": [
      "Again, what do we see? We set up the pid module with a constant (positive) input from the ASG. We then turned on the integrator (with negative gain), which will inevitably lead to a slow drift of the output towards negative voltages (blue trace). We had set the integral value above the positive saturation voltage, such that it takes longer until it reaches the negative saturation voltage. The output of the pid module is bound to saturate at +- 1 Volts, which is clearly visible in the green trace. The value of the integral is internally represented by a 32 bit number, so it can practically take arbitrarily large values compared to the 14 bit output. You can set it within the range from +4 to -4V, for example if you want to exloit the delay, or even if you want to compensate it with proportional gain. "
     ]
    },
    {
     "cell_type": "heading",
     "level": 4,
     "metadata": {},
     "source": [
      "Input filters"
     ]
    },
    {
     "cell_type": "markdown",
     "metadata": {},
     "source": [
      "The pid module has one more feature: A bank of 4 input filters in series. These filters can be either off (bandwidth=0), lowpass (bandwidth positive) or highpass (bandwidth negative). The way these filters were implemented demands that the filter bandwidths can only take values that scale as the powers of 2. "
     ]
    },
    {
     "cell_type": "code",
     "collapsed": false,
     "input": [
      "# off by default\n",
      "r.pid0.inputfilter"
     ],
     "language": "python",
     "metadata": {},
     "outputs": [
      {
       "metadata": {},
       "output_type": "pyout",
       "prompt_number": 119,
       "text": [
        "[0, 0, 0, 0]"
       ]
      }
     ],
     "prompt_number": 119
    },
    {
     "cell_type": "code",
     "collapsed": false,
     "input": [
      "# minimum cutoff frequency is 2 Hz, maximum 77 kHz (for now)\n",
      "r.pid0.inputfilter = [1,1e10,-1,-1e10]\n",
      "print r.pid0.inputfilter"
     ],
     "language": "python",
     "metadata": {},
     "outputs": [
      {
       "output_type": "stream",
       "stream": "stdout",
       "text": [
        "[2.371593461809983, 77712.37455658952, -2.371593461809983, -77712.37455658952]\n"
       ]
      }
     ],
     "prompt_number": 115
    },
    {
     "cell_type": "code",
     "collapsed": false,
     "input": [
      "# not setting a coefficient turns that filter off\n",
      "r.pid0.inputfilter = [0,4,8]\n",
      "print r.pid0.inputfilter"
     ],
     "language": "python",
     "metadata": {},
     "outputs": [
      {
       "output_type": "stream",
       "stream": "stdout",
       "text": [
        "[0, 4.743186923619966, 9.486373847239932, 0]\n"
       ]
      }
     ],
     "prompt_number": 138
    },
    {
     "cell_type": "code",
     "collapsed": false,
     "input": [
      "# setting without list also works\n",
      "r.pid0.inputfilter = -2000\n",
      "print r.pid0.inputfilter"
     ],
     "language": "python",
     "metadata": {},
     "outputs": [
      {
       "output_type": "stream",
       "stream": "stdout",
       "text": [
        "[-2428.5117048934226, 0, 0, 0]\n"
       ]
      }
     ],
     "prompt_number": 139
    },
    {
     "cell_type": "code",
     "collapsed": false,
     "input": [
      "# turn off again\n",
      "r.pid0.inputfilter = []\n",
      "print r.pid0.inputfilter"
     ],
     "language": "python",
     "metadata": {},
     "outputs": [
      {
       "output_type": "stream",
       "stream": "stdout",
       "text": [
        "[0, 0, 0, 0]\n"
       ]
      }
     ],
     "prompt_number": 140
    },
    {
     "cell_type": "markdown",
     "metadata": {},
     "source": [
      "You should now go back to the Scope and ASG example above and play around with the setting of these filters to convince yourself that they do what they are supposed to. "
     ]
    },
    {
     "cell_type": "heading",
     "level": 3,
     "metadata": {},
     "source": [
      "IQ module"
     ]
    },
    {
     "cell_type": "markdown",
     "metadata": {},
     "source": [
      "Demodulation of a signal means convolving it with a sine and cosine at the 'carrier frequency'. The two resulting signals are usually low-pass filtered and named quadratures I and Q. Based on this simple idea, the IQ module of pyrpl can implement several functionalities, depending on the particular setting of the various registers. In most cases, the configuration can be completely carried out through the setup function of the module. "
     ]
    },
    {
     "cell_type": "markdown",
     "metadata": {},
     "source": [
      "<img src=\"IQmodule.png\">"
     ]
    },
    {
     "cell_type": "code",
     "collapsed": false,
     "input": [
      "# example of a PDH detection\n",
      "\n",
      "#reload to make sure settings are default ones\n",
      "from pyrpl import RedPitaya\n",
      "r = RedPitaya(hostname=\"192.168.1.100\")\n",
      "\n",
      "#shortcut\n",
      "iq = r.iq0\n",
      "\n",
      "# modulation/demodulation frequency 50 MHz\n",
      "# two lowpass filters with 10 and 20 kHz bandwidth\n",
      "# input signal is analog input 1\n",
      "# input AC-coupled with cutoff frequency near 50 kHz\n",
      "# modulation amplitude 0.1 V\n",
      "# modulation goes to out1\n",
      "# output_signal is the demodulated quadrature 1\n",
      "# quadrature_1 is amplified by 10\n",
      "iq.setup(frequency=1e3, bandwidth=[10e3,20e3], gain=0.0, \n",
      "         phase=0, acbandwidth=50000, amplitude=0.5, \n",
      "         input='adc1', output_direct='out1', \n",
      "         output_signal='quadrature', quadrature_factor=10)"
     ],
     "language": "python",
     "metadata": {},
     "outputs": [
      {
       "output_type": "stream",
       "stream": "stdout",
       "text": [
        ">\n",
        ">"
       ]
      },
      {
       "output_type": "stream",
       "stream": "stdout",
       "text": [
        "\n",
        "Server application started on port"
       ]
      },
      {
       "output_type": "stream",
       "stream": "stdout",
       "text": [
        " 2222\n",
        "Client started with success"
       ]
      },
      {
       "output_type": "stream",
       "stream": "stdout",
       "text": [
        "\n"
       ]
      }
     ],
     "prompt_number": 33
    },
    {
     "cell_type": "code",
     "collapsed": false,
     "input": [
      "iq.setup(frequency=1000e3, bandwidth=[10e3,20e3], gain=0.0, \n",
      "         phase=0, acbandwidth=50000, amplitude=0.4, \n",
      "         input='adc1', output_direct='out1', \n",
      "         output_signal='output_direct', quadrature_factor=0)"
     ],
     "language": "python",
     "metadata": {},
     "outputs": [],
     "prompt_number": 76
    },
    {
     "cell_type": "code",
     "collapsed": false,
     "input": [
      "iq.frequency=10"
     ],
     "language": "python",
     "metadata": {},
     "outputs": [],
     "prompt_number": 68
    },
    {
     "cell_type": "code",
     "collapsed": false,
     "input": [
      "r.scope.input1='adc1'"
     ],
     "language": "python",
     "metadata": {},
     "outputs": [],
     "prompt_number": 69
    },
    {
     "cell_type": "markdown",
     "metadata": {},
     "source": [
      "At the present time, the functionality of a PDH-like detection as the one set up above cannot be conveniently tested without external components. We plan to upgrade the IQ-module to VCO functionality in the near future, which will also enable testing the PDH functionality. "
     ]
    },
    {
     "cell_type": "heading",
     "level": 4,
     "metadata": {},
     "source": [
      "Network analyzer"
     ]
    },
    {
     "cell_type": "markdown",
     "metadata": {},
     "source": [
      "In our daily work with the RedPitaya, the network analyzer module is by far the most useful tool for diagnostics. The network analyzer is able to probe the transfer function of any other module or external device under test by exciting the device with a sine of variable frequency and analyzing the resulting output from that device. This is done by demodulating the device output (=network analyzer input) with the same sine that was used for the excitation and a corresponding cosine, lowpass-filtering, and averaging the two quadratures for a well-defined number of cycles. From the two quadratures, one can extract the magnitude and phase shift of the device's transfer function at the probed frequencies. Let's illustrate the behaviour:"
     ]
    },
    {
     "cell_type": "code",
     "collapsed": false,
     "input": [
      "# shortcut for na\n",
      "na = r.iq1\n",
      "\n",
      "# pid1 will be our device under test\n",
      "pid = r.pid0\n",
      "pid.input = 'iq1'\n",
      "pid.i = 0\n",
      "pid.ival = 0\n",
      "pid.p = 1.0\n",
      "pid.setpoint = 0\n",
      "pid.inputfilter = []#[-1e3, 5e3, 20e3, 80e3]\n",
      "\n",
      "# take the transfer function through pid1, this will take a few seconds...\n",
      "x,y = na.na_trace(start=0,stop=200e3,points=101,rbw=100,avg=1,amplitude=0.5,input='iq1',output_direct='off', acbandwidth=0)\n",
      "\n",
      "#plot\n",
      "import matplotlib.pyplot as plt\n",
      "%matplotlib inline\n",
      "import numpy as np\n",
      "plt.plot(x*1e-3,np.abs(y)**2);\n",
      "plt.xlabel(\"Frequency [kHz]\");\n",
      "plt.ylabel(\"|S21|\");"
     ],
     "language": "python",
     "metadata": {},
     "outputs": [
      {
       "output_type": "stream",
       "stream": "stdout",
       "text": [
        "Estimated acquisition time: 1.515 s\n"
       ]
      },
      {
       "metadata": {},
       "output_type": "display_data",
       "png": "[encoded data removed]",
       "text": [
        "<matplotlib.figure.Figure at 0x81edff0>"
       ]
      }
     ],
     "prompt_number": 48
    },
    {
     "cell_type": "code",
     "collapsed": false,
     "input": [
      "na.output_signal"
     ],
     "language": "python",
     "metadata": {},
     "outputs": [
      {
       "metadata": {},
       "output_type": "pyout",
       "prompt_number": 59,
       "text": [
        "'output_direct'"
       ]
      }
     ],
     "prompt_number": 59
    },
    {
     "cell_type": "heading",
     "level": 3,
     "metadata": {},
     "source": [
      "First attempts at locking"
     ]
    },
    {
     "cell_type": "markdown",
     "metadata": {},
     "source": [
      "Now lets go for a first attempt to lock something. Say you connect the error signal (transmission or reflection) of your setup to input 1. Make sure that the peak-to-peak of the error signal coincides with the maximum voltages the RedPitaya can handle (-1 to +1 V if the jumpers are set to LV). This is important for getting optimal noise performance. If your signal is too low, amplify it. If it is too high, you should build a voltage divider with 2 resistors of the order of a few kOhm (that way, the input impedance of the RedPitaya of 1 MOhm does not interfere). \n",
      "\n",
      "Next, connect output 1 to the standard actuator at your hand, e.g. a piezo. Again, you should try to exploit the full -1 to +1 V output range. If the voltage at the actuator must be kept below 0.5V for example, you should make another voltage divider for this. Make sure that you take the input impedance of your actuator into consideration here. If you output needs to be amplified, it is best practice to put the voltage divider after the amplifier as to also attenuate the noise added by the amplifier. Hovever, when this poses a problem (limited bandwidth because of capacity of the actuator), you have to put the voltage divider before the amplifier. Also, this is the moment when you should think about low-pass filtering the actuator voltage. Because of DAC noise, analog low-pass filters are usually more effective than digital ones. A 3dB bandwidth of the order of 100 Hz is a good starting point for most piezos. \n",
      "\n",
      "You often need two actuators to control your cavity. This is because the output resolution of 14 bits can only realize 16384 different values. This would mean that with a finesse of 15000, you would only be able to set it to resonance or a linewidth away from it, but nothing in between. To solve this, use a coarse actuator to cover at least one free spectral range which brings you near the resonance, and a fine one whose range is 1000 or 10000 times smaller and who gives you lots of graduation around the resonance. The coarse actuator should be strongly low-pass filtered (typical bandwidth of 1Hz or even less), the fine actuator can have 100 Hz or even higher bandwidth. Do not get confused here: the unity-gain frequency of your final lock can be 10- or even 100-fold above the 3dB bandwidth of the analog filter at the output - it suffices to increase the proportional gain of the RedPitaya Lockbox. \n",
      "\n",
      "Once everything is connected, let's grab a PID module, make a shortcut to it and print its helpstring. All modules have a metho help() which prints all available registers and their description:"
     ]
    },
    {
     "cell_type": "code",
     "collapsed": false,
     "input": [
      "pid = r.pid0\n",
      "print pid.help()\n",
      "pid.ival #bug: help forgets about pid.ival: current integrator value [volts]"
     ],
     "language": "python",
     "metadata": {},
     "outputs": [
      {
       "output_type": "stream",
       "stream": "stdout",
       "text": [
        "setpoint: pid setpoint [volts]\r\n",
        "i: pid integral unity-gain frequency [Hz]\r\n",
        "p: pid proportional gain [1]\r\n",
        "\n"
       ]
      },
      {
       "metadata": {},
       "output_type": "pyout",
       "prompt_number": 25,
       "text": [
        "0.0"
       ]
      }
     ],
     "prompt_number": 25
    },
    {
     "cell_type": "markdown",
     "metadata": {},
     "source": [
      "We need to inform our RedPitaya about which connections we want to make. The cabling discussed above translates into:"
     ]
    },
    {
     "cell_type": "code",
     "collapsed": false,
     "input": [
      "pid.input = 'adc1'\n",
      "pid.output = 'out1'\n",
      "\n",
      "#see other available options just for curiosity:\n",
      "print pid.inputs\n",
      "print pid.outputs"
     ],
     "language": "python",
     "metadata": {},
     "outputs": [
      {
       "output_type": "stream",
       "stream": "stdout",
       "text": [
        "['iir', 'dac1', 'iq1', 'iq0', 'iq2', 'asg1', 'asg2', 'adc2', 'adc1', 'pid1', 'pid0', 'dac2', 'pid2', 'pid3']\n"
       ]
      }
     ],
     "prompt_number": 35
    },
    {
     "cell_type": "markdown",
     "metadata": {},
     "source": [
      "Finally, we need to define a setpoint. Lets first measure the offset when the laser is away from the resonance, and then measure or estimate how much light gets through on resonance. "
     ]
    },
    {
     "cell_type": "code",
     "collapsed": false,
     "input": [
      "# turn on the laser\n",
      "offresonant = r.scope.adc1 #volts at analog input 1 with the unlocked cavity"
     ],
     "language": "python",
     "metadata": {},
     "outputs": [],
     "prompt_number": 53
    },
    {
     "cell_type": "code",
     "collapsed": false,
     "input": [
      "# make a guess of what voltage you will measure at an optical resonance\n",
      "resonant = 0.5 #Volts at analog input 1"
     ],
     "language": "python",
     "metadata": {},
     "outputs": [],
     "prompt_number": 54
    },
    {
     "cell_type": "code",
     "collapsed": false,
     "input": [
      "# set the setpoint at relative reflection of 0.75 / rel. transmission of 0.25\n",
      "pid.setpoint = 0.75*offresonant + 0.25*resonant"
     ],
     "language": "python",
     "metadata": {},
     "outputs": [],
     "prompt_number": 58
    },
    {
     "cell_type": "markdown",
     "metadata": {},
     "source": [
      "Now lets start to approach the resonance. We need to figure out from which side we are coming. The choice is made such that a simple integrator will naturally drift into the resonance and stay there:"
     ]
    },
    {
     "cell_type": "code",
     "collapsed": false,
     "input": [
      "pid.i = 0 # make sure gain is off\n",
      "pid.p = 0\n",
      "#errorsignal = adc1 - setpoint \n",
      "if resonant > offresonant: # when we are away from resonance, error is negative. \n",
      "    slopesign = 1.0 # therefore, near resonance, the slope is positive as the error crosses zero. \n",
      "else:\n",
      "    slopesign = -1.0\n",
      "gainsign = -slopesign #the gain must be the opposite to stabilize\n",
      "# the effectove gain will in any case slopesign*gainsign = -1. \n",
      "\n",
      "#Therefore we must start at the maximum positive voltage, so the negative effective gain leads to a decreasing output\n",
      "pid.ival = 1.0 #sets the integrator value = output voltage to maximum\n",
      "\n",
      "from time import sleep\n",
      "sleep(1.0) #wait for the voltage to stabilize (adjust for a few times the lowpass filter bandwidth)\n",
      "\n",
      "#finally, turn on the integrator\n",
      "pid.i = gainsign * 0.1"
     ],
     "language": "python",
     "metadata": {},
     "outputs": [],
     "prompt_number": 59
    },
    {
     "cell_type": "code",
     "collapsed": false,
     "input": [
      "#with a bit of luck, this should work\n",
      "from time import time\n",
      "t0 = time()\n",
      "while True:\n",
      "    relative_error = abs((r.scope.adc1-pid.setpoint)/(offresonant-resonant))\n",
      "    if time()-t0 > 2: #diagnostics every 2 seconds\n",
      "        print \"relative error:\",relative_error\n",
      "        t0 = time()\n",
      "    if relative_error < 0.1:\n",
      "        break\n",
      "    sleep(0.01)\n",
      "    if pid.ival <= -1:\n",
      "        print \"Resonance missed. Trying again slower..\"\n",
      "        pid.ival = 1.2 #overshoot a little\n",
      "        pid.i /= 2\n",
      "print \"Resonance approch successful\""
     ],
     "language": "python",
     "metadata": {},
     "outputs": [
      {
       "output_type": "stream",
       "stream": "stdout",
       "text": [
        "relative error: 0.249648711944\n",
        "relative error:"
       ]
      },
      {
       "output_type": "stream",
       "stream": "stdout",
       "text": [
        " 0.248243559719\n",
        "relative error:"
       ]
      },
      {
       "output_type": "stream",
       "stream": "stdout",
       "text": [
        " 0.251053864169\n",
        "relative error:"
       ]
      },
      {
       "output_type": "stream",
       "stream": "stdout",
       "text": [
        " 0.248946135831\n",
        "relative error:"
       ]
      },
      {
       "output_type": "stream",
       "stream": "stdout",
       "text": [
        " 0.249648711944\n",
        "relative error:"
       ]
      },
      {
       "output_type": "stream",
       "stream": "stdout",
       "text": [
        " 0.249414519906\n",
        "relative error:"
       ]
      },
      {
       "output_type": "stream",
       "stream": "stdout",
       "text": [
        " 0.249648711944\n",
        "relative error:"
       ]
      },
      {
       "output_type": "stream",
       "stream": "stdout",
       "text": [
        " 0.250351288056\n"
       ]
      },
      {
       "ename": "KeyboardInterrupt",
       "evalue": "",
       "output_type": "pyerr",
       "traceback": [
        "\u001b[1;31m---------------------------------------------------------------------------\u001b[0m\n\u001b[1;31mKeyboardInterrupt\u001b[0m                         Traceback (most recent call last)",
        "\u001b[1;32m<ipython-input-62-cd042de58c84>\u001b[0m in \u001b[0;36m<module>\u001b[1;34m()\u001b[0m\n\u001b[0;32m      9\u001b[0m     \u001b[1;32mif\u001b[0m \u001b[0mrelative_error\u001b[0m \u001b[1;33m<\u001b[0m \u001b[1;36m0.1\u001b[0m\u001b[1;33m:\u001b[0m\u001b[1;33m\u001b[0m\u001b[0m\n\u001b[0;32m     10\u001b[0m         \u001b[1;32mbreak\u001b[0m\u001b[1;33m\u001b[0m\u001b[0m\n\u001b[1;32m---> 11\u001b[1;33m     \u001b[0msleep\u001b[0m\u001b[1;33m(\u001b[0m\u001b[1;36m0.01\u001b[0m\u001b[1;33m)\u001b[0m\u001b[1;33m\u001b[0m\u001b[0m\n\u001b[0m\u001b[0;32m     12\u001b[0m     \u001b[1;32mif\u001b[0m \u001b[0mpid\u001b[0m\u001b[1;33m.\u001b[0m\u001b[0mival\u001b[0m \u001b[1;33m<=\u001b[0m \u001b[1;33m-\u001b[0m\u001b[1;36m1\u001b[0m\u001b[1;33m:\u001b[0m\u001b[1;33m\u001b[0m\u001b[0m\n\u001b[0;32m     13\u001b[0m         \u001b[1;32mprint\u001b[0m \u001b[1;34m\"Resonance missed. Trying again slower..\"\u001b[0m\u001b[1;33m\u001b[0m\u001b[0m\n",
        "\u001b[1;31mKeyboardInterrupt\u001b[0m: "
       ]
      }
     ],
     "prompt_number": 62
    },
    {
     "cell_type": "heading",
     "level": 3,
     "metadata": {},
     "source": [
      "More to come"
     ]
    },
    {
     "cell_type": "code",
     "collapsed": false,
     "input": [],
     "language": "python",
     "metadata": {},
     "outputs": []
    },
    {
     "cell_type": "code",
     "collapsed": false,
     "input": [
      "r.pid0.input"
     ],
     "language": "python",
     "metadata": {},
     "outputs": [
      {
       "metadata": {},
       "output_type": "pyout",
       "prompt_number": 10,
       "text": [
        "'adc1'"
       ]
      }
     ],
     "prompt_number": 10
    },
    {
     "cell_type": "code",
     "collapsed": false,
     "input": [
      "r.pid0.output"
     ],
     "language": "python",
     "metadata": {},
     "outputs": [
      {
       "metadata": {},
       "output_type": "pyout",
       "prompt_number": 11,
       "text": [
        "'off'"
       ]
      }
     ],
     "prompt_number": 11
    },
    {
     "cell_type": "code",
     "collapsed": false,
     "input": [
      "r.pid0.output='out2'"
     ],
     "language": "python",
     "metadata": {},
     "outputs": [],
     "prompt_number": 12
    },
    {
     "cell_type": "code",
     "collapsed": false,
     "input": [
      "pid = r.pid0"
     ],
     "language": "python",
     "metadata": {},
     "outputs": [],
     "prompt_number": 13
    },
    {
     "cell_type": "code",
     "collapsed": false,
     "input": [
      "pid.i = 0.005\n",
      "pid.i"
     ],
     "language": "python",
     "metadata": {},
     "outputs": [
      {
       "metadata": {},
       "output_type": "pyout",
       "prompt_number": 28,
       "text": [
        "0.004632018480097623"
       ]
      }
     ],
     "prompt_number": 28
    },
    {
     "cell_type": "code",
     "collapsed": false,
     "input": [
      "pid.p,pid.i,pid.d"
     ],
     "language": "python",
     "metadata": {},
     "outputs": [
      {
       "metadata": {},
       "output_type": "pyout",
       "prompt_number": 14,
       "text": [
        "(0.0, 0.0, 0.0)"
       ]
      }
     ],
     "prompt_number": 14
    },
    {
     "cell_type": "code",
     "collapsed": false,
     "input": [
      "r.pid1.input = 'adc1'\n",
      "r.pid1.output='off'\n",
      "\n",
      "r.pid0.input='pid1'\n",
      "r.pid0.output='out1'\n",
      "\n",
      "\n"
     ],
     "language": "python",
     "metadata": {},
     "outputs": [],
     "prompt_number": 15
    },
    {
     "cell_type": "code",
     "collapsed": false,
     "input": [
      "real_proportional_gain = float(pid.p)/pid._PSR\n",
      "print real_proportional_gain\n"
     ],
     "language": "python",
     "metadata": {},
     "outputs": [
      {
       "output_type": "stream",
       "stream": "stdout",
       "text": [
        "0.0833333333333\n"
       ]
      }
     ],
     "prompt_number": 45
    },
    {
     "cell_type": "code",
     "collapsed": false,
     "input": [
      "pid.unitygainfrequency_i_Hz"
     ],
     "language": "python",
     "metadata": {},
     "outputs": [
      {
       "metadata": {},
       "output_type": "pyout",
       "prompt_number": 56,
       "text": [
        "0.0"
       ]
      }
     ],
     "prompt_number": 56
    },
    {
     "cell_type": "code",
     "collapsed": false,
     "input": [
      "pid.i"
     ],
     "language": "python",
     "metadata": {},
     "outputs": [
      {
       "metadata": {},
       "output_type": "pyout",
       "prompt_number": 52,
       "text": [
        "0"
       ]
      }
     ],
     "prompt_number": 52
    },
    {
     "cell_type": "code",
     "collapsed": false,
     "input": [
      "r.pid1.i #bug"
     ],
     "language": "python",
     "metadata": {},
     "outputs": [
      {
       "metadata": {},
       "output_type": "pyout",
       "prompt_number": 55,
       "text": [
        "0"
       ]
      }
     ],
     "prompt_number": 55
    },
    {
     "cell_type": "code",
     "collapsed": false,
     "input": [
      "r.scope.input# bug"
     ],
     "language": "python",
     "metadata": {},
     "outputs": [
      {
       "ename": "AttributeError",
       "evalue": "'Scope' object has no attribute 'input'",
       "output_type": "pyerr",
       "traceback": [
        "\u001b[1;31m---------------------------------------------------------------------------\u001b[0m\n\u001b[1;31mAttributeError\u001b[0m                            Traceback (most recent call last)",
        "\u001b[1;32m<ipython-input-57-068e9365f985>\u001b[0m in \u001b[0;36m<module>\u001b[1;34m()\u001b[0m\n\u001b[1;32m----> 1\u001b[1;33m \u001b[0mr\u001b[0m\u001b[1;33m.\u001b[0m\u001b[0mscope\u001b[0m\u001b[1;33m.\u001b[0m\u001b[0minput\u001b[0m\u001b[1;33m\u001b[0m\u001b[0m\n\u001b[0m",
        "\u001b[1;31mAttributeError\u001b[0m: 'Scope' object has no attribute 'input'"
       ]
      }
     ],
     "prompt_number": 57
    },
    {
     "cell_type": "code",
     "collapsed": false,
     "input": [
      "%timeit r.scope.adc1"
     ],
     "language": "python",
     "metadata": {},
     "outputs": [
      {
       "output_type": "stream",
       "stream": "stdout",
       "text": [
        "1000 loops, best of 3: 350 \u00b5s per loop\n"
       ]
      }
     ],
     "prompt_number": 90
    },
    {
     "cell_type": "code",
     "collapsed": false,
     "input": [
      "%timeit r.scope.data_ch1"
     ],
     "language": "python",
     "metadata": {},
     "outputs": [
      {
       "output_type": "stream",
       "stream": "stdout",
       "text": [
        "100 loops, best of 3: 6.83 ms per loop\n"
       ]
      }
     ],
     "prompt_number": 96
    },
    {
     "cell_type": "code",
     "collapsed": false,
     "input": [
      "r.scope.setup(frequency=1000,trigger_source=1) #bug: specify 10s a tel freq. d'echantillonage"
     ],
     "language": "python",
     "metadata": {},
     "outputs": [],
     "prompt_number": 93
    },
    {
     "cell_type": "code",
     "collapsed": false,
     "input": [
      "r.scope.trigger_source()\n"
     ],
     "language": "python",
     "metadata": {},
     "outputs": [
      {
       "ename": "AttributeError",
       "evalue": "'Scope' object has no attribute 'trigger_sources'",
       "output_type": "pyerr",
       "traceback": [
        "\u001b[1;31m---------------------------------------------------------------------------\u001b[0m\n\u001b[1;31mAttributeError\u001b[0m                            Traceback (most recent call last)",
        "\u001b[1;32m<ipython-input-92-1da9c6ed9dc5>\u001b[0m in \u001b[0;36m<module>\u001b[1;34m()\u001b[0m\n\u001b[1;32m----> 1\u001b[1;33m \u001b[0mr\u001b[0m\u001b[1;33m.\u001b[0m\u001b[0mscope\u001b[0m\u001b[1;33m.\u001b[0m\u001b[0mtrigger_sources\u001b[0m\u001b[1;33m\u001b[0m\u001b[0m\n\u001b[0m",
        "\u001b[1;31mAttributeError\u001b[0m: 'Scope' object has no attribute 'trigger_sources'"
       ]
      }
     ],
     "prompt_number": 92
    },
    {
     "cell_type": "code",
     "collapsed": false,
     "input": [
      "Questions to users: what parameters do you know?\n",
      "    finesse of the cavity? 1000\n",
      "    length? 1.57m\n",
      "    what error signals are available? transmission direct, reflection AC -> directement pdh analogique\n",
      "    \n",
      "    are modulators available n/a\n",
      "    \n",
      "    what cavity length / laser frequency actuators are available? PZT mephisto DC - 10kHz, 48MHz opt./V, V_rp apmplifie x20\n",
      "    temperature du laser <1 Hz 2.5~GHz/V, apres AOM\n",
      "    \n",
      "    what is known about them (displacement, bandwidth, amplifiers)?\n",
      "    \n",
      "    what analog filters are present? YAG PZT a 10kHz\n",
      "    \n",
      "    imposer le design des sorties\n",
      "    \n",
      "    \n",
      "    "
     ],
     "language": "python",
     "metadata": {},
     "outputs": [
      {
       "ename": "IndentationError",
       "evalue": "unexpected indent (<ipython-input-9-dc215f617ef3>, line 2)",
       "output_type": "pyerr",
       "traceback": [
        "\u001b[1;36m  File \u001b[1;32m\"<ipython-input-9-dc215f617ef3>\"\u001b[1;36m, line \u001b[1;32m2\u001b[0m\n\u001b[1;33m    finesse of the cavity? 1000\u001b[0m\n\u001b[1;37m    ^\u001b[0m\n\u001b[1;31mIndentationError\u001b[0m\u001b[1;31m:\u001b[0m unexpected indent\n"
       ]
      }
     ],
     "prompt_number": 9
    },
    {
     "cell_type": "code",
     "collapsed": false,
     "input": [
      "r.iq0.set()"
     ],
     "language": "python",
     "metadata": {},
     "outputs": []
    },
    {
     "cell_type": "code",
     "collapsed": false,
     "input": [],
     "language": "python",
     "metadata": {},
     "outputs": []
    }
   ],
   "metadata": {}
  }
 ]
}