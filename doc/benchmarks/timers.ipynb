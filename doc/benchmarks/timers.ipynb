{
 "cells": [
  {
   "cell_type": "code",
   "execution_count": null,
   "metadata": {
    "collapsed": false
   },
   "outputs": [],
   "source": [
    "%pylab qt"
   ]
  },
  {
   "cell_type": "code",
   "execution_count": null,
   "metadata": {
    "collapsed": false
   },
   "outputs": [],
   "source": [
    "from PyQt4 import QtCore, QtGui\n",
    "n_calc = [0]\n",
    "def calculate():\n",
    "    sin(rand(1000))\n",
    "    n_calc[0]+=1\n",
    "    timer.start()\n",
    "\n",
    "timer = QtCore.QTimer()\n",
    "timer.setInterval(0)\n",
    "timer.setSingleShot(True)\n",
    "timer.timeout.connect(calculate)"
   ]
  },
  {
   "cell_type": "code",
   "execution_count": null,
   "metadata": {
    "collapsed": false
   },
   "outputs": [],
   "source": [
    "from PyQt4 import QtCore, QtGui\n",
    "from psutil import cpu_percent\n",
    "from time import sleep\n",
    "from timeit import default_timer\n",
    "APP = QtGui.QApplication.instance()\n",
    "\n",
    "close('all')\n",
    "\n",
    "n_calc[0] = 0\n",
    "\n",
    "from time import time\n",
    "def sleep_loop(delay):\n",
    "   loop = QtCore.QEventLoop()\n",
    "   timer = QtCore.QTimer()\n",
    "   timer.setInterval(delay*1000)\n",
    "   timer.setSingleShot(True)\n",
    "   timer.timeout.connect(loop.quit)\n",
    "   timer.start()\n",
    "   loop.exec() # la loop prend en charge elle-même l'évenement du timer qui va la faire mourir après delay.\n",
    "\n",
    "def sleep_pe(delay):\n",
    "   tic = default_timer()\n",
    "   while(default_timer()<tic+delay):\n",
    "       APP.processEvents()\n",
    "\n",
    "def my_sleep(delay):\n",
    "    tic = default_timer()\n",
    "    if delay>1e-3:\n",
    "        sleep_loop(delay - 1e-3)\n",
    "    while(default_timer()<tic+delay):\n",
    "        APP.processEvents()\n",
    "        \n",
    "import asyncio\n",
    "\n",
    "async def sleep_coroutine(delay):\n",
    "    await asyncio.sleep(delay)\n",
    "    loop.stop()\n",
    "\n",
    "loop = asyncio.get_event_loop()\n",
    "\n",
    "def sleep_asyncio(delay):\n",
    "    asyncio.ensure_future(sleep_coroutine(delay))\n",
    "    loop.run_forever()\n",
    "   \n",
    "MAX_TIME = 0.005\n",
    "\n",
    "for timer_on_off in (False, True):\n",
    "    for index, (func, label) in enumerate([ (sleep_asyncio, \"asyncio\"),\n",
    "                                            (sleep_loop, \"qeventloop\"),\n",
    "                                            (sleep_pe, \"processEvents\"),\n",
    "                                            (sleep, \"time.sleep\"),\n",
    "                                            (my_sleep, \"my_sleep\"), \n",
    "                                           ]):\n",
    "        if timer_on_off:\n",
    "            timer.start()\n",
    "        fig = figure()\n",
    "        times_measured = []\n",
    "        times_asked = []\n",
    "\n",
    "        n_calc_before = n_calc[0]\n",
    "        tic_for_func = default_timer()\n",
    "        cpu_percent() # call starts the cpu_percent averaging\n",
    "        for time_asked in linspace(0., MAX_TIME, 200):\n",
    "            #if int(time_asked*10000)%10==0:\n",
    "            #    print(time_asked)\n",
    "            for i in range(10):\n",
    "                tic = default_timer()\n",
    "                func(time_asked)\n",
    "                toc = default_timer()\n",
    "                times_measured.append(toc - tic)\n",
    "                times_asked.append(time_asked)\n",
    "        cpu_percents = cpu_percent()\n",
    "        toc_for_func = default_timer()\n",
    "        calc_done = (n_calc[0] - n_calc_before)/(toc_for_func - tic_for_func)\n",
    "        plot(times_asked, times_measured, '.')\n",
    "        plot([0, MAX_TIME], [0, MAX_TIME])\n",
    "        xlabel(\"time asked\")\n",
    "        ylabel(\"time measured\")\n",
    "        xlim(0, MAX_TIME)\n",
    "        ylim(0, MAX_TIME)\n",
    "        title(label + ' cpu_percent=' + str(cpu_percents) + ' calc/s=' + str(int(calc_done)))\n",
    "        if timer_on_off:\n",
    "            dirname = './images/with_timer/'\n",
    "        else:\n",
    "            dirname = './images/without_timer/'\n",
    "        fig.savefig(dirname + label + '.png')\n",
    "        timer.stop()\n",
    "        close('all')\n",
    "        for i in range(1000000):\n",
    "            APP.processEvents()\n",
    "timer.stop()"
   ]
  },
  {
   "cell_type": "code",
   "execution_count": null,
   "metadata": {
    "collapsed": false
   },
   "outputs": [],
   "source": [
    "%pylab qt\n",
    "import quamash\n",
    "from PyQt4 import QtCore, QtGui\n",
    "import asyncio\n",
    "\n",
    "from psutil import cpu_percent\n",
    "from time import sleep\n",
    "from timeit import default_timer\n",
    "APP = QtGui.QApplication.instance()\n",
    "\n",
    "\n",
    "n_calc = [0]\n",
    "def calculate():\n",
    "    sin(rand(1000))\n",
    "    n_calc[0]+=1\n",
    "    timer.start()\n",
    "\n",
    "timer = QtCore.QTimer()\n",
    "timer.setInterval(0)\n",
    "timer.setSingleShot(True)\n",
    "timer.timeout.connect(calculate)\n",
    "\n",
    "MAX_TIME = 0.005\n",
    "loop = quamash.QEventLoop()\n",
    "asyncio.set_event_loop(loop) \n",
    "\n",
    "async def sleep_coroutine(delay):\n",
    "    await asyncio.sleep(delay)\n",
    "    #tic = default_timer()\n",
    "    #if delay>0.001:\n",
    "        #await asyncio.sleep(delay - 0.001)\n",
    "    #while default_timer() < tic + delay:\n",
    "    #    APP.processEvents()\n",
    "\n",
    "timer.start()\n",
    "\n",
    "label = \"asyncio\"\n",
    "async def run():\n",
    "    fig = figure()\n",
    "    times_measured = []\n",
    "    times_asked = []\n",
    "\n",
    "    n_calc_before = n_calc[0]\n",
    "    tic_for_func = default_timer()\n",
    "    cpu_percent() # call starts the cpu_percent averaging\n",
    "    for time_asked in linspace(0., MAX_TIME, 200):\n",
    "        #if int(time_asked*10000)%10==0:\n",
    "        #    print(time_asked)\n",
    "        for i in range(10):\n",
    "            tic = default_timer()\n",
    "            await sleep_coroutine(time_asked)\n",
    "            toc = default_timer()\n",
    "            times_measured.append(toc - tic)\n",
    "            times_asked.append(time_asked)\n",
    "    cpu_percents = cpu_percent()\n",
    "    toc_for_func = default_timer()\n",
    "    calc_done = (n_calc[0] - n_calc_before)/(toc_for_func - tic_for_func)\n",
    "    plot(times_asked, times_measured, '.')\n",
    "    plot([0, MAX_TIME], [0, MAX_TIME])\n",
    "    xlabel(\"time asked\")\n",
    "    ylabel(\"time measured\")\n",
    "    xlim(0, MAX_TIME)\n",
    "    ylim(0, MAX_TIME)\n",
    "    title(label + ' cpu_percent=' + str(cpu_percents) + ' calc/s=' + str(int(calc_done)))\n",
    "    timer.stop()\n",
    "    fig.savefig('asyncio_no_correction.png')"
   ]
  },
  {
   "cell_type": "code",
   "execution_count": null,
   "metadata": {
    "collapsed": false
   },
   "outputs": [],
   "source": [
    "asyncio.ensure_future(run())\n",
    "#loop.run_forever() # this would be to launch the "
   ]
  },
  {
   "cell_type": "code",
   "execution_count": null,
   "metadata": {
    "collapsed": false
   },
   "outputs": [],
   "source": [
    "%pylab qt\n",
    "import asyncio\n",
    "import scipy.fftpack\n",
    "import quamash\n",
    "from PyQt4 import QtCore, QtGui\n",
    "import asyncio\n",
    "loop = quamash.QEventLoop()\n",
    "asyncio.set_event_loop(loop) \n",
    "\n",
    "\n",
    "class Scope(object):\n",
    "    async def run_single(self, avg):\n",
    "        y_avg = zeros(100)\n",
    "        for i in range(avg):\n",
    "            await asyncio.sleep(1)\n",
    "            y_avg+=rand(100)\n",
    "        return y_avg\n",
    "\n",
    "class SpecAn(object):\n",
    "    scope = Scope()\n",
    "    \n",
    "    async def run_single(self, avg):\n",
    "        y = zeros(100, dtype=complex)\n",
    "        for i in range(avg):\n",
    "            trace = await self.scope.run_single(1)\n",
    "            y+= scipy.fftpack.fft(trace)\n",
    "        return y\n",
    "            \n",
    "sa = SpecAn()\n",
    "scope = Scope()"
   ]
  },
  {
   "cell_type": "code",
   "execution_count": null,
   "metadata": {
    "collapsed": false
   },
   "outputs": [],
   "source": [
    "v = asyncio.ensure_future(sa.run_single(10))"
   ]
  },
  {
   "cell_type": "code",
   "execution_count": null,
   "metadata": {
    "collapsed": false
   },
   "outputs": [],
   "source": [
    "v.result()"
   ]
  },
  {
   "cell_type": "code",
   "execution_count": null,
   "metadata": {
    "collapsed": true
   },
   "outputs": [],
   "source": [
    "async def my_loop():\n",
    "    for i in range(10):\n",
    "        "
   ]
  },
  {
   "cell_type": "code",
   "execution_count": null,
   "metadata": {
    "collapsed": false
   },
   "outputs": [],
   "source": [
    "%pylab qt\n",
    "import asyncio\n",
    "import scipy.fftpack\n",
    "import quamash\n",
    "from PyQt4 import QtCore, QtGui\n",
    "APP = QtGui.QApplication.instance()\n",
    "import asyncio\n",
    "from promise import Promise\n",
    "loop = quamash.QEventLoop()\n",
    "asyncio.set_event_loop(loop) \n",
    "\n",
    "\n",
    "class MyPromise(Promise):\n",
    "    def get(self):\n",
    "        while self.is_pending:\n",
    "            APP.processEvents()\n",
    "        return super(MyPromise, self).get()\n",
    "\n",
    "\n",
    "class Scope(object):\n",
    "    def __init__(self):\n",
    "        self.timer = QtCore.QTimer()\n",
    "        self.timer.setSingleShot(True)\n",
    "        self.timer.setInterval(1000)\n",
    "        self.timer.timeout.connect(self.check_for_curve)\n",
    "\n",
    "    def run_single(self, avg):\n",
    "        self.current_avg = 0\n",
    "        self.avg = avg\n",
    "        self.y_avg = zeros(100)\n",
    "        self.p = MyPromise()\n",
    "        self.timer.start()\n",
    "        return self.p\n",
    "\n",
    "    def check_for_curve(self):\n",
    "        if self.current_avg<self.avg:\n",
    "            self.y_avg += rand(100)\n",
    "            self.current_avg += 1\n",
    "            self.timer.start()\n",
    "        else:\n",
    "            self.p.fulfill(self.y_avg)\n",
    "\n",
    "\n",
    "class SpecAn(object):\n",
    "    scope = Scope()\n",
    "\n",
    "    def __init__(self):\n",
    "        timer = QtCore.QTimer()\n",
    "        timer.setSingleShot(True)\n",
    "        timer.setInterval(1000)\n",
    "\n",
    "    def run_single(self, avg):\n",
    "        self.avg = avg\n",
    "        self.current_avg = 0\n",
    "        self.y_avg = zeros(100, dtype=complex)\n",
    "        p = self.scope.run_single(1)\n",
    "        p.then(self.average_one_curve)\n",
    "        self.p = MyPromise()\n",
    "        return self.p\n",
    "\n",
    "    def average_one_curve(self, trace):\n",
    "        print('av')\n",
    "        self.current_avg+=1\n",
    "        self.y_avg+=scipy.fftpack.fft(trace)\n",
    "        if self.current_avg>=self.avg:\n",
    "            self.p.fulfill(self.y_avg)\n",
    "        else:\n",
    "            p = self.scope.run_single(1)\n",
    "            p.then(self.average_one_curve)\n",
    "\n",
    "sa = SpecAn()"
   ]
  },
  {
   "cell_type": "code",
   "execution_count": null,
   "metadata": {
    "collapsed": false
   },
   "outputs": [],
   "source": [
    "p = sa.run_single(3)"
   ]
  },
  {
   "cell_type": "code",
   "execution_count": null,
   "metadata": {
    "collapsed": false
   },
   "outputs": [],
   "source": [
    "p.is_fulfilled"
   ]
  },
  {
   "cell_type": "code",
   "execution_count": null,
   "metadata": {
    "collapsed": false
   },
   "outputs": [],
   "source": [
    "p.get()"
   ]
  },
  {
   "cell_type": "code",
   "execution_count": null,
   "metadata": {
    "collapsed": false
   },
   "outputs": [],
   "source": [
    "sa.avg"
   ]
  },
  {
   "cell_type": "code",
   "execution_count": null,
   "metadata": {
    "collapsed": false
   },
   "outputs": [],
   "source": [
    "s"
   ]
  },
  {
   "cell_type": "code",
   "execution_count": 23,
   "metadata": {
    "collapsed": false
   },
   "outputs": [
    {
     "name": "stdout",
     "output_type": "stream",
     "text": [
      "Populating the interactive namespace from numpy and matplotlib\n"
     ]
    }
   ],
   "source": [
    "%pylab qt\n",
    "import asyncio\n",
    "import scipy.fftpack\n",
    "import quamash\n",
    "from PyQt4 import QtCore, QtGui\n",
    "import asyncio\n",
    "loop = quamash.QEventLoop()\n",
    "asyncio.set_event_loop(loop) \n",
    "\n",
    "\n",
    "class Scope(object):\n",
    "    async def run_single(self, avg):\n",
    "        y_avg = zeros(100)\n",
    "        for i in range(avg):\n",
    "            await asyncio.sleep(1)\n",
    "            y_avg+=rand(100)\n",
    "        return y_avg\n",
    "\n",
    "\n",
    "class Na(object):\n",
    "    async def run_single(self, avg):\n",
    "        y_avg = zeros(100)\n",
    "        for i in range(avg):\n",
    "            await asyncio.sleep(1)\n",
    "            y_avg+=rand(100)\n",
    "        return y_avg\n",
    "\n",
    "scope = Scope()\n",
    "na = Na()"
   ]
  },
  {
   "cell_type": "code",
   "execution_count": 24,
   "metadata": {
    "collapsed": false
   },
   "outputs": [],
   "source": [
    "async def my_coroutine(n):\n",
    "    c1 = zeros(100)\n",
    "    c2 = zeros(100)\n",
    "\n",
    "    for i in range(n):\n",
    "        print(\"launching f\")\n",
    "        f = asyncio.ensure_future(scope.run_single(1))\n",
    "        print(\"launching g\")\n",
    "        g = asyncio.ensure_future(na.run_single(1))\n",
    "        print(\"=======\")\n",
    "        c1+= await f\n",
    "        c2+= await g\n",
    "        print(\"f returned\")\n",
    "        print(\"g returned\")\n",
    "\n",
    "    return c1 + c2"
   ]
  },
  {
   "cell_type": "code",
   "execution_count": 25,
   "metadata": {
    "collapsed": false
   },
   "outputs": [
    {
     "name": "stdout",
     "output_type": "stream",
     "text": [
      "launching f\n",
      "launching g\n",
      "=======\n",
      "f returned\n",
      "g returned\n",
      "launching f\n",
      "launching g\n",
      "=======\n",
      "f returned\n",
      "g returned\n",
      "launching f\n",
      "launching g\n",
      "=======\n",
      "f returned\n",
      "g returned\n"
     ]
    }
   ],
   "source": [
    "p = asyncio.ensure_future(my_coroutine(3))"
   ]
  },
  {
   "cell_type": "code",
   "execution_count": 19,
   "metadata": {
    "collapsed": false
   },
   "outputs": [
    {
     "data": {
      "text/plain": [
       "array([ 2.06045693,  2.9179318 ,  2.99285774,  4.42323972,  2.75317522,\n",
       "        3.62473716,  3.71125516,  1.735322  ,  2.64976214,  3.31580937,\n",
       "        2.92686454,  2.28429018,  3.36139367,  2.32059774,  2.83418701,\n",
       "        2.69074394,  2.19039055,  1.94149109,  3.05290117,  2.78291437,\n",
       "        3.19430861,  3.2765257 ,  3.40944194,  3.02525901,  2.58175383,\n",
       "        4.1429917 ,  2.8406369 ,  3.3005495 ,  2.76131675,  2.26251878,\n",
       "        2.14933285,  3.54406952,  3.17758626,  2.87736436,  2.53237128,\n",
       "        3.43577588,  3.67120035,  2.82549016,  3.12102662,  3.88246031,\n",
       "        2.8460274 ,  2.04802908,  3.35135133,  2.97627906,  3.24942346,\n",
       "        1.96564731,  3.85017412,  3.67758924,  2.86476129,  4.3136306 ,\n",
       "        1.81448007,  2.63321507,  2.90885966,  1.71713038,  1.12230296,\n",
       "        4.00504812,  2.81465738,  3.18881776,  2.93669662,  4.14013229,\n",
       "        3.29903387,  2.48488255,  1.84620898,  3.09649301,  3.83207594,\n",
       "        3.22461578,  3.17417224,  4.00152432,  2.75193527,  3.27911734,\n",
       "        2.58635942,  2.19515375,  3.40545061,  2.91533342,  2.39408974,\n",
       "        3.92414672,  1.43711029,  2.35801015,  3.02525742,  2.85934506,\n",
       "        4.0146302 ,  3.59406169,  2.46770552,  3.76312595,  4.16812033,\n",
       "        2.48321563,  3.64846303,  1.79564204,  3.84469071,  2.14625161,\n",
       "        3.33640845,  3.52055625,  2.49327058,  3.21618778,  3.01544764,\n",
       "        4.05944429,  3.56884632,  2.09874416,  2.82216462,  3.09847295])"
      ]
     },
     "execution_count": 19,
     "metadata": {},
     "output_type": "execute_result"
    }
   ],
   "source": [
    "p.result()"
   ]
  },
  {
   "cell_type": "code",
   "execution_count": null,
   "metadata": {
    "collapsed": false
   },
   "outputs": [],
   "source": [
    "p.result?"
   ]
  },
  {
   "cell_type": "code",
   "execution_count": 26,
   "metadata": {
    "collapsed": false
   },
   "outputs": [
    {
     "data": {
      "text/plain": [
       "<bound method Future.__iter__ of <Task finished coro=<my_coroutine() done, defined at <ipython-input-24-415a0bb4873c>:1> result=array([ 3.446...  3.25914873])>>"
      ]
     },
     "execution_count": 26,
     "metadata": {},
     "output_type": "execute_result"
    }
   ],
   "source": [
    "my_coroutine"
   ]
  },
  {
   "cell_type": "code",
   "execution_count": 28,
   "metadata": {
    "collapsed": false
   },
   "outputs": [
    {
     "data": {
      "text/plain": [
       "<Task pending coro=<my_coroutine() running at <ipython-input-24-415a0bb4873c>:1>>"
      ]
     },
     "execution_count": 28,
     "metadata": {},
     "output_type": "execute_result"
    },
    {
     "name": "stdout",
     "output_type": "stream",
     "text": [
      "launching f\n",
      "launching g\n",
      "=======\n",
      "f returned\n",
      "g returned\n"
     ]
    }
   ],
   "source": [
    "asyncio.ensure_future(my_coroutine(1))"
   ]
  },
  {
   "cell_type": "code",
   "execution_count": 30,
   "metadata": {
    "collapsed": false
   },
   "outputs": [],
   "source": [
    "obj = my_coroutine(1)"
   ]
  },
  {
   "cell_type": "code",
   "execution_count": 32,
   "metadata": {
    "collapsed": false
   },
   "outputs": [
    {
     "data": {
      "text/plain": [
       "<method-wrapper '__await__' of coroutine object at 0x000001CA2B160830>"
      ]
     },
     "execution_count": 32,
     "metadata": {},
     "output_type": "execute_result"
    }
   ],
   "source": [
    "obj.__await__"
   ]
  },
  {
   "cell_type": "code",
   "execution_count": 41,
   "metadata": {
    "collapsed": true
   },
   "outputs": [],
   "source": [
    "class MyAwaitable(object):\n",
    "    def __await__(self):\n",
    "        return ((x for x in range(5)))"
   ]
  },
  {
   "cell_type": "code",
   "execution_count": 44,
   "metadata": {
    "collapsed": false
   },
   "outputs": [],
   "source": [
    "m = MyAwaitable()"
   ]
  },
  {
   "cell_type": "code",
   "execution_count": 45,
   "metadata": {
    "collapsed": false
   },
   "outputs": [],
   "source": [
    "p = asyncio.ensure_future(m)"
   ]
  },
  {
   "cell_type": "code",
   "execution_count": 47,
   "metadata": {
    "collapsed": false
   },
   "outputs": [
    {
     "ename": "RuntimeError",
     "evalue": "Task got bad yield: 0",
     "output_type": "error",
     "traceback": [
      "\u001b[0;31m---------------------------------------------------------------------------\u001b[0m",
      "\u001b[0;31mRuntimeError\u001b[0m                              Traceback (most recent call last)",
      "\u001b[0;32m<ipython-input-47-5800f638b421>\u001b[0m in \u001b[0;36m<module>\u001b[0;34m()\u001b[0m\n\u001b[0;32m----> 1\u001b[0;31m \u001b[0mp\u001b[0m\u001b[1;33m.\u001b[0m\u001b[0mresult\u001b[0m\u001b[1;33m(\u001b[0m\u001b[1;33m)\u001b[0m\u001b[1;33m\u001b[0m\u001b[0m\n\u001b[0m",
      "\u001b[0;32mC:\\Users\\Samuel\\Anaconda3\\lib\\asyncio\\futures.py\u001b[0m in \u001b[0;36mresult\u001b[0;34m(self)\u001b[0m\n\u001b[1;32m    291\u001b[0m             \u001b[0mself\u001b[0m\u001b[1;33m.\u001b[0m\u001b[0m_tb_logger\u001b[0m \u001b[1;33m=\u001b[0m \u001b[1;32mNone\u001b[0m\u001b[1;33m\u001b[0m\u001b[0m\n\u001b[1;32m    292\u001b[0m         \u001b[1;32mif\u001b[0m \u001b[0mself\u001b[0m\u001b[1;33m.\u001b[0m\u001b[0m_exception\u001b[0m \u001b[1;32mis\u001b[0m \u001b[1;32mnot\u001b[0m \u001b[1;32mNone\u001b[0m\u001b[1;33m:\u001b[0m\u001b[1;33m\u001b[0m\u001b[0m\n\u001b[0;32m--> 293\u001b[0;31m             \u001b[1;32mraise\u001b[0m \u001b[0mself\u001b[0m\u001b[1;33m.\u001b[0m\u001b[0m_exception\u001b[0m\u001b[1;33m\u001b[0m\u001b[0m\n\u001b[0m\u001b[1;32m    294\u001b[0m         \u001b[1;32mreturn\u001b[0m \u001b[0mself\u001b[0m\u001b[1;33m.\u001b[0m\u001b[0m_result\u001b[0m\u001b[1;33m\u001b[0m\u001b[0m\n\u001b[1;32m    295\u001b[0m \u001b[1;33m\u001b[0m\u001b[0m\n",
      "\u001b[0;32mC:\\Users\\Samuel\\Anaconda3\\lib\\asyncio\\tasks.py\u001b[0m in \u001b[0;36m_step\u001b[0;34m(***failed resolving arguments***)\u001b[0m\n\u001b[1;32m    239\u001b[0m                 \u001b[0mresult\u001b[0m \u001b[1;33m=\u001b[0m \u001b[0mcoro\u001b[0m\u001b[1;33m.\u001b[0m\u001b[0msend\u001b[0m\u001b[1;33m(\u001b[0m\u001b[1;32mNone\u001b[0m\u001b[1;33m)\u001b[0m\u001b[1;33m\u001b[0m\u001b[0m\n\u001b[1;32m    240\u001b[0m             \u001b[1;32melse\u001b[0m\u001b[1;33m:\u001b[0m\u001b[1;33m\u001b[0m\u001b[0m\n\u001b[0;32m--> 241\u001b[0;31m                 \u001b[0mresult\u001b[0m \u001b[1;33m=\u001b[0m \u001b[0mcoro\u001b[0m\u001b[1;33m.\u001b[0m\u001b[0mthrow\u001b[0m\u001b[1;33m(\u001b[0m\u001b[0mexc\u001b[0m\u001b[1;33m)\u001b[0m\u001b[1;33m\u001b[0m\u001b[0m\n\u001b[0m\u001b[1;32m    242\u001b[0m         \u001b[1;32mexcept\u001b[0m \u001b[0mStopIteration\u001b[0m \u001b[1;32mas\u001b[0m \u001b[0mexc\u001b[0m\u001b[1;33m:\u001b[0m\u001b[1;33m\u001b[0m\u001b[0m\n\u001b[1;32m    243\u001b[0m             \u001b[0mself\u001b[0m\u001b[1;33m.\u001b[0m\u001b[0mset_result\u001b[0m\u001b[1;33m(\u001b[0m\u001b[0mexc\u001b[0m\u001b[1;33m.\u001b[0m\u001b[0mvalue\u001b[0m\u001b[1;33m)\u001b[0m\u001b[1;33m\u001b[0m\u001b[0m\n",
      "\u001b[0;32mC:\\Users\\Samuel\\Anaconda3\\lib\\asyncio\\tasks.py\u001b[0m in \u001b[0;36m_wrap_awaitable\u001b[0;34m(awaitable)\u001b[0m\n\u001b[1;32m    575\u001b[0m     \u001b[0mthat\u001b[0m \u001b[0mwill\u001b[0m \u001b[0mlater\u001b[0m \u001b[0mbe\u001b[0m \u001b[0mwrapped\u001b[0m \u001b[1;32min\u001b[0m \u001b[0ma\u001b[0m \u001b[0mTask\u001b[0m \u001b[0mby\u001b[0m \u001b[0mensure_future\u001b[0m\u001b[1;33m(\u001b[0m\u001b[1;33m)\u001b[0m\u001b[1;33m.\u001b[0m\u001b[1;33m\u001b[0m\u001b[0m\n\u001b[1;32m    576\u001b[0m     \"\"\"\n\u001b[0;32m--> 577\u001b[0;31m     \u001b[1;32mreturn\u001b[0m \u001b[1;33m(\u001b[0m\u001b[1;32myield\u001b[0m \u001b[1;32mfrom\u001b[0m \u001b[0mawaitable\u001b[0m\u001b[1;33m.\u001b[0m\u001b[0m__await__\u001b[0m\u001b[1;33m(\u001b[0m\u001b[1;33m)\u001b[0m\u001b[1;33m)\u001b[0m\u001b[1;33m\u001b[0m\u001b[0m\n\u001b[0m\u001b[1;32m    578\u001b[0m \u001b[1;33m\u001b[0m\u001b[0m\n\u001b[1;32m    579\u001b[0m \u001b[1;33m\u001b[0m\u001b[0m\n",
      "\u001b[0;32m<ipython-input-41-f701dff9b3a1>\u001b[0m in \u001b[0;36m<genexpr>\u001b[0;34m(.0)\u001b[0m\n\u001b[1;32m      1\u001b[0m \u001b[1;32mclass\u001b[0m \u001b[0mMyAwaitable\u001b[0m\u001b[1;33m(\u001b[0m\u001b[0mobject\u001b[0m\u001b[1;33m)\u001b[0m\u001b[1;33m:\u001b[0m\u001b[1;33m\u001b[0m\u001b[0m\n\u001b[1;32m      2\u001b[0m     \u001b[1;32mdef\u001b[0m \u001b[0m__await__\u001b[0m\u001b[1;33m(\u001b[0m\u001b[0mself\u001b[0m\u001b[1;33m)\u001b[0m\u001b[1;33m:\u001b[0m\u001b[1;33m\u001b[0m\u001b[0m\n\u001b[0;32m----> 3\u001b[0;31m         \u001b[1;32mreturn\u001b[0m \u001b[1;33m(\u001b[0m\u001b[1;33m(\u001b[0m\u001b[0mx\u001b[0m \u001b[1;32mfor\u001b[0m \u001b[0mx\u001b[0m \u001b[1;32min\u001b[0m \u001b[0mrange\u001b[0m\u001b[1;33m(\u001b[0m\u001b[1;36m5\u001b[0m\u001b[1;33m)\u001b[0m\u001b[1;33m)\u001b[0m\u001b[1;33m)\u001b[0m\u001b[1;33m\u001b[0m\u001b[0m\n\u001b[0m",
      "\u001b[0;31mRuntimeError\u001b[0m: Task got bad yield: 0"
     ]
    }
   ],
   "source": [
    "p.result()"
   ]
  },
  {
   "cell_type": "code",
   "execution_count": 49,
   "metadata": {
    "collapsed": true
   },
   "outputs": [],
   "source": []
  },
  {
   "cell_type": "code",
   "execution_count": 72,
   "metadata": {
    "collapsed": false
   },
   "outputs": [],
   "source": []
  },
  {
   "cell_type": "code",
   "execution_count": 52,
   "metadata": {
    "collapsed": true
   },
   "outputs": [],
   "source": [
    "m = MyFuture()"
   ]
  },
  {
   "cell_type": "code",
   "execution_count": 56,
   "metadata": {
    "collapsed": false
   },
   "outputs": [],
   "source": [
    "p = asyncio.ensure_future(m)"
   ]
  },
  {
   "cell_type": "code",
   "execution_count": 57,
   "metadata": {
    "collapsed": false
   },
   "outputs": [
    {
     "data": {
      "text/plain": [
       "False"
      ]
     },
     "execution_count": 57,
     "metadata": {},
     "output_type": "execute_result"
    }
   ],
   "source": [
    "p.done()"
   ]
  },
  {
   "cell_type": "code",
   "execution_count": 58,
   "metadata": {
    "collapsed": true
   },
   "outputs": [],
   "source": [
    "m.set_result(5)"
   ]
  },
  {
   "cell_type": "code",
   "execution_count": 59,
   "metadata": {
    "collapsed": false
   },
   "outputs": [
    {
     "data": {
      "text/plain": [
       "<MyFuture finished result=5>"
      ]
     },
     "execution_count": 59,
     "metadata": {},
     "output_type": "execute_result"
    }
   ],
   "source": [
    "p"
   ]
  },
  {
   "cell_type": "code",
   "execution_count": 60,
   "metadata": {
    "collapsed": false
   },
   "outputs": [
    {
     "data": {
      "text/plain": [
       "5"
      ]
     },
     "execution_count": 60,
     "metadata": {},
     "output_type": "execute_result"
    }
   ],
   "source": [
    "p.result()"
   ]
  },
  {
   "cell_type": "code",
   "execution_count": 94,
   "metadata": {
    "collapsed": false
   },
   "outputs": [],
   "source": [
    "from asyncio.futures import Future\n",
    "\n",
    "class MyFuture(Future):\n",
    "    def __await__(self):\n",
    "        self.timer = QtCore.QTimer()\n",
    "        self.timer.timeout.connect(lambda : self.set_result(rand(100)))\n",
    "        self.timer.setSingleShot(True)\n",
    "        self.timer.setInterval(1000)\n",
    "        self.timer.start()\n",
    "        print('awaiting')\n",
    "        \n",
    "class AsyncScope(object):\n",
    "    def run_single(self, avg):\n",
    "        self.f = MyFuture()\n",
    "        return self.f\n",
    "    \n",
    "a = AsyncScope()"
   ]
  },
  {
   "cell_type": "code",
   "execution_count": 83,
   "metadata": {
    "collapsed": false
   },
   "outputs": [
    {
     "data": {
      "text/plain": [
       "<MyFuture pending>"
      ]
     },
     "execution_count": 83,
     "metadata": {},
     "output_type": "execute_result"
    }
   ],
   "source": [
    "f"
   ]
  },
  {
   "cell_type": "code",
   "execution_count": 75,
   "metadata": {
    "collapsed": false
   },
   "outputs": [],
   "source": [
    "f = a.run_single(3)"
   ]
  },
  {
   "cell_type": "code",
   "execution_count": 67,
   "metadata": {
    "collapsed": false
   },
   "outputs": [],
   "source": [
    "a.f.set_result(6)"
   ]
  },
  {
   "cell_type": "code",
   "execution_count": 68,
   "metadata": {
    "collapsed": false
   },
   "outputs": [
    {
     "data": {
      "text/plain": [
       "<MyFuture finished result=6>"
      ]
     },
     "execution_count": 68,
     "metadata": {},
     "output_type": "execute_result"
    }
   ],
   "source": [
    "f"
   ]
  },
  {
   "cell_type": "code",
   "execution_count": 97,
   "metadata": {
    "collapsed": false
   },
   "outputs": [],
   "source": [
    "p = asyncio.ensure_future(a.run_single(3))"
   ]
  },
  {
   "cell_type": "code",
   "execution_count": 96,
   "metadata": {
    "collapsed": false
   },
   "outputs": [
    {
     "data": {
      "text/plain": [
       "False"
      ]
     },
     "execution_count": 96,
     "metadata": {},
     "output_type": "execute_result"
    }
   ],
   "source": [
    "p.done()"
   ]
  },
  {
   "cell_type": "code",
   "execution_count": 100,
   "metadata": {
    "collapsed": false
   },
   "outputs": [
    {
     "name": "stdout",
     "output_type": "stream",
     "text": [
      "awaiting\n"
     ]
    }
   ],
   "source": [
    "p.__await__()"
   ]
  },
  {
   "cell_type": "code",
   "execution_count": 101,
   "metadata": {
    "collapsed": false
   },
   "outputs": [
    {
     "data": {
      "text/plain": [
       "array([ 0.33594229,  0.59536305,  0.47270123,  0.73282475,  0.18595786,\n",
       "        0.78269574,  0.65690543,  0.00856754,  0.3781265 ,  0.70170189,\n",
       "        0.58660523,  0.26950735,  0.83684049,  0.09522667,  0.77477601,\n",
       "        0.89018801,  0.53134898,  0.83955146,  0.13956472,  0.78778865,\n",
       "        0.37838448,  0.94765879,  0.05130469,  0.85490265,  0.047397  ,\n",
       "        0.81234497,  0.09754679,  0.20567203,  0.66152909,  0.81729331,\n",
       "        0.24675232,  0.8831066 ,  0.80437425,  0.09911961,  0.28980736,\n",
       "        0.6457419 ,  0.75490596,  0.68170566,  0.19117391,  0.07139178,\n",
       "        0.54292759,  0.8990052 ,  0.92828782,  0.38504936,  0.53139293,\n",
       "        0.30167843,  0.21626188,  0.95429376,  0.89264698,  0.2920714 ,\n",
       "        0.91751696,  0.22926605,  0.29159616,  0.66521474,  0.3997597 ,\n",
       "        0.59588074,  0.36224699,  0.00990077,  0.8124636 ,  0.73675774,\n",
       "        0.47215568,  0.20821203,  0.35135282,  0.52779868,  0.54637853,\n",
       "        0.80010143,  0.88699185,  0.47527497,  0.76666108,  0.74707484,\n",
       "        0.45664393,  0.18701287,  0.50620854,  0.83291155,  0.69894546,\n",
       "        0.37331379,  0.14862719,  0.04270862,  0.13300369,  0.31427229,\n",
       "        0.07469842,  0.0023586 ,  0.98475699,  0.89988534,  0.74578374,\n",
       "        0.53762751,  0.67031401,  0.25773766,  0.72435274,  0.34668022,\n",
       "        0.77118081,  0.72607112,  0.38975339,  0.27951084,  0.79308681,\n",
       "        0.14124586,  0.8460668 ,  0.0213881 ,  0.36743338,  0.38776967])"
      ]
     },
     "execution_count": 101,
     "metadata": {},
     "output_type": "execute_result"
    }
   ],
   "source": [
    "p.result()"
   ]
  },
  {
   "cell_type": "code",
   "execution_count": null,
   "metadata": {
    "collapsed": true
   },
   "outputs": [],
   "source": []
  }
 ],
 "metadata": {
  "kernelspec": {
   "display_name": "Python 3",
   "language": "python",
   "name": "python3"
  },
  "language_info": {
   "codemirror_mode": {
    "name": "ipython",
    "version": 3
   },
   "file_extension": ".py",
   "mimetype": "text/x-python",
   "name": "python",
   "nbconvert_exporter": "python",
   "pygments_lexer": "ipython3",
   "version": "3.5.3"
  }
 },
 "nbformat": 4,
 "nbformat_minor": 2
}
