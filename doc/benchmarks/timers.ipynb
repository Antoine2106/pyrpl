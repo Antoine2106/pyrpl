{
 "cells": [
  {
   "cell_type": "code",
   "execution_count": 1,
   "metadata": {
    "collapsed": false
   },
   "outputs": [
    {
     "name": "stdout",
     "output_type": "stream",
     "text": [
      "Populating the interactive namespace from numpy and matplotlib\n"
     ]
    }
   ],
   "source": [
    "%pylab qt"
   ]
  },
  {
   "cell_type": "code",
   "execution_count": 2,
   "metadata": {
    "collapsed": false
   },
   "outputs": [],
   "source": [
    "from PyQt4 import QtCore, QtGui\n",
    "n_calc = [0]\n",
    "def calculate():\n",
    "    sin(rand(1000))\n",
    "    n_calc[0]+=1\n",
    "    timer.start()\n",
    "\n",
    "timer = QtCore.QTimer()\n",
    "timer.setInterval(0)\n",
    "timer.setSingleShot(True)\n",
    "timer.timeout.connect(calculate)"
   ]
  },
  {
   "cell_type": "code",
   "execution_count": 3,
   "metadata": {
    "collapsed": false
   },
   "outputs": [],
   "source": [
    "from PyQt4 import QtCore, QtGui\n",
    "from psutil import cpu_percent\n",
    "APP = QtGui.QApplication.instance()\n",
    "\n",
    "close('all')\n",
    "\n",
    "n_calc[0] = 0\n",
    "\n",
    "from time import time\n",
    "def sleep_loop(delay):\n",
    "   loop = QtCore.QEventLoop()\n",
    "   timer = QtCore.QTimer()\n",
    "   timer.setInterval(delay*1000)\n",
    "   timer.setSingleShot(True)\n",
    "   timer.timeout.connect(loop.quit)\n",
    "   timer.start()\n",
    "   loop.exec() # la loop prend en charge elle-même l'évenement du timer qui va la faire mourir après delay.\n",
    "\n",
    "def sleep_pe(delay):\n",
    "   time0 = time()\n",
    "   while(time()<time0+delay):\n",
    "       APP.processEvents()\n",
    "\n",
    "def my_sleep(delay):\n",
    "    tic = default_timer()\n",
    "    if delay>1e-3:\n",
    "        sleep_loop(delay - 1e-3)\n",
    "    while(default_timer()<tic+delay):\n",
    "        pass\n",
    "   \n",
    "    \n",
    "from time import sleep\n",
    "from timeit import default_timer\n",
    "MAX_TIME = 0.005\n",
    "\n",
    "for timer_on_off in (False, True):\n",
    "    for index, (func, label) in enumerate([(sleep_loop, \"qeventloop\"),\n",
    "                        (sleep_pe, \"processEvents\"),\n",
    "                        (sleep, \"time.sleep\"),\n",
    "                        (my_sleep, \"my_sleep\"), \n",
    "                       ]):\n",
    "        if timer_on_off:\n",
    "            timer.start()\n",
    "        fig = figure()\n",
    "        times_measured = []\n",
    "        times_asked = []\n",
    "\n",
    "        n_calc_before = n_calc[0]\n",
    "        tic_for_func = default_timer()\n",
    "        cpu_percent() # call starts the cpu_percent averaging\n",
    "        for time_asked in linspace(0., MAX_TIME, 200):\n",
    "            #if int(time_asked*10000)%10==0:\n",
    "            #    print(time_asked)\n",
    "            for i in range(10):\n",
    "                tic = default_timer()\n",
    "                func(time_asked)\n",
    "                toc = default_timer()\n",
    "                times_measured.append(toc - tic)\n",
    "                times_asked.append(time_asked)\n",
    "        cpu_percents = cpu_percent()\n",
    "        toc_for_func = default_timer()\n",
    "        calc_done = (n_calc[0] - n_calc_before)/(toc_for_func - tic_for_func)\n",
    "        plot(times_asked, times_measured, '.')\n",
    "        plot([0, MAX_TIME], [0, MAX_TIME])\n",
    "        xlabel(\"time asked\")\n",
    "        ylabel(\"time measured\")\n",
    "        xlim(0, MAX_TIME)\n",
    "        ylim(0, MAX_TIME)\n",
    "        title(label + ' cpu_percent=' + str(cpu_percents) + ' calc/s=' + str(int(calc_done)))\n",
    "        if timer_on_off:\n",
    "            dirname = './images/with_timer/'\n",
    "        else:\n",
    "            dirname = './images/without_timer/'\n",
    "        fig.savefig(dirname + label + '.png')\n",
    "        timer.stop()\n",
    "        close('all')\n",
    "        for i in range(1000000):\n",
    "            APP.processEvents()\n",
    "timer.stop()"
   ]
  },
  {
   "cell_type": "code",
   "execution_count": null,
   "metadata": {
    "collapsed": false
   },
   "outputs": [],
   "source": []
  },
  {
   "cell_type": "code",
   "execution_count": null,
   "metadata": {
    "collapsed": true
   },
   "outputs": [],
   "source": []
  }
 ],
 "metadata": {
  "kernelspec": {
   "display_name": "Python 3",
   "language": "python",
   "name": "python3"
  },
  "language_info": {
   "codemirror_mode": {
    "name": "ipython",
    "version": 3
   },
   "file_extension": ".py",
   "mimetype": "text/x-python",
   "name": "python",
   "nbconvert_exporter": "python",
   "pygments_lexer": "ipython3",
   "version": "3.5.3"
  }
 },
 "nbformat": 4,
 "nbformat_minor": 2
}
