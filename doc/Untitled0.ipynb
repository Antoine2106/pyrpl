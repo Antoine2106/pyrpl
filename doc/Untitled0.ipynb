{
 "metadata": {
  "name": "",
  "signature": "sha256:8947ea91235f0008ba3603a59701c3027221ddd981df16fd9bec6a1048eec466"
 },
 "nbformat": 3,
 "nbformat_minor": 0,
 "worksheets": [
  {
   "cells": [
    {
     "cell_type": "code",
     "collapsed": false,
     "input": [
      "from users.membranes.optics.motor_scan_pyrpl import gui\n",
      "r = gui()"
     ],
     "language": "python",
     "metadata": {},
     "outputs": [
      {
       "output_type": "stream",
       "stream": "stderr",
       "text": [
        "DEBUG:pyrpl.memory:Loading config file C:\\Users\\Membranes\\Documents\\GitHub\\pyrpl\\pyrpl\\config\\global_config.yml\n"
       ]
      },
      {
       "output_type": "stream",
       "stream": "stderr",
       "text": [
        "DEBUG:pyrpl.memory:Loading config file C:\\Users\\Membranes\\Documents\\GitHub\\pyrpl\\pyrpl\\config\\Membrane.yml\n"
       ]
      },
      {
       "output_type": "stream",
       "stream": "stderr",
       "text": [
        "INFO:pyrpl.sshshell:>\n"
       ]
      },
      {
       "output_type": "stream",
       "stream": "stderr",
       "text": [
        "INFO:pyrpl.sshshell:>\n"
       ]
      },
      {
       "output_type": "stream",
       "stream": "stderr",
       "text": [
        "INFO:pyrpl.sshshell:>\n"
       ]
      },
      {
       "output_type": "stream",
       "stream": "stderr",
       "text": [
        "INFO:pyrpl.sshshell:Server application started on port 2222\n"
       ]
      },
      {
       "output_type": "stream",
       "stream": "stderr",
       "text": [
        "C:\\Users\\Membranes\\Documents\\GitHub\\pyrpl\\pyrpl\\redpitaya_modules.py:158: DeprecationWarning: object() takes no parameters\n",
        "  return super(HK, cls).__new__(cls, *args, **kwargs)\n",
        "\n"
       ]
      },
      {
       "output_type": "stream",
       "stream": "stderr",
       "text": [
        "WARNING:py.warnings:C:\\Users\\Membranes\\Documents\\GitHub\\pyrpl\\pyrpl\\redpitaya_modules.py:158: DeprecationWarning: object() takes no parameters\n",
        "  return super(HK, cls).__new__(cls, *args, **kwargs)\n",
        "\n"
       ]
      },
      {
       "output_type": "stream",
       "stream": "stderr",
       "text": [
        "ERROR:pyrpl.monitor_client:Timeout or socket error.\n"
       ]
      },
      {
       "output_type": "stream",
       "stream": "stderr",
       "text": [
        "ERROR:pyrpl.monitor_client:Error occured in reading attempt 0. Trying another time to read from redpitaya. \n"
       ]
      },
      {
       "output_type": "stream",
       "stream": "stderr",
       "text": [
        "INFO:pyrpl.sshshell:>\n"
       ]
      },
      {
       "output_type": "stream",
       "stream": "stderr",
       "text": [
        "INFO:pyrpl.sshshell:Server application started on port 2222\n"
       ]
      },
      {
       "output_type": "stream",
       "stream": "stderr",
       "text": [
        "ERROR:pyrpl.monitor_client:Timeout or socket error.\n"
       ]
      },
      {
       "output_type": "stream",
       "stream": "stderr",
       "text": [
        "ERROR:pyrpl.monitor_client:Error occured in reading attempt 1. Trying another time to read from redpitaya. \n"
       ]
      },
      {
       "output_type": "stream",
       "stream": "stderr",
       "text": [
        "INFO:pyrpl.sshshell:>\n"
       ]
      },
      {
       "output_type": "stream",
       "stream": "stderr",
       "text": [
        "INFO:pyrpl.sshshell:Server application started on port 2222\n"
       ]
      },
      {
       "output_type": "stream",
       "stream": "stderr",
       "text": [
        "ERROR:pyrpl.monitor_client:Timeout or socket error.\n"
       ]
      },
      {
       "output_type": "stream",
       "stream": "stderr",
       "text": [
        "ERROR:pyrpl.monitor_client:Error occured in reading attempt 2. Trying another time to read from redpitaya. \n"
       ]
      },
      {
       "output_type": "stream",
       "stream": "stderr",
       "text": [
        "INFO:pyrpl.sshshell:>\n"
       ]
      },
      {
       "output_type": "stream",
       "stream": "stderr",
       "text": [
        "INFO:pyrpl.sshshell:Server application started on port 2222\n"
       ]
      },
      {
       "output_type": "stream",
       "stream": "stderr",
       "text": [
        "INFO:pyrpl.sshshell:Client started with success\n"
       ]
      },
      {
       "output_type": "stream",
       "stream": "stderr",
       "text": [
        "INFO:pyrpl.pyrpl:Lockbox 'membrane' initialized!\n"
       ]
      },
      {
       "output_type": "stream",
       "stream": "stderr",
       "text": [
        "WARNING:pyrpl.pyrpl:Gui is not started. Cannot save position.\n"
       ]
      },
      {
       "output_type": "stream",
       "stream": "stderr",
       "text": [
        "WARNING:pyrpl.pyrpl:Gui is not started. Cannot save position.\n"
       ]
      },
      {
       "output_type": "stream",
       "stream": "stdout",
       "text": [
        "setting  <users.membranes.optics.motor_scan_pyrpl.MotorScanWidget object at 0x13884228> lambda_start 1055.0\n",
        "setting  <users.membranes.optics.motor_scan_pyrpl.MotorScanWidget object at 0x13884228> lambda_stop 1080.0\n",
        "setting  <users.membranes.optics.motor_scan_pyrpl.MotorScanWidget object at 0x13884228> threshold 0.05\n",
        "setting  <users.membranes.optics.motor_scan_pyrpl.LiveFitBis object at 0x13884618> length 0.0157\n",
        "setting  <users.membranes.optics.motor_scan_pyrpl.LiveFitBis object at 0x13884618> mod_freq 50000000.0\n"
       ]
      },
      {
       "output_type": "stream",
       "stream": "stderr",
       "text": [
        "ERROR:pyrpl.monitor_client:Timeout or socket error.\n"
       ]
      },
      {
       "output_type": "stream",
       "stream": "stderr",
       "text": [
        "ERROR:pyrpl.monitor_client:Error occured in reading attempt 0. Trying another time to read from redpitaya. \n"
       ]
      },
      {
       "output_type": "stream",
       "stream": "stderr",
       "text": [
        "INFO:pyrpl.sshshell:>\n"
       ]
      },
      {
       "output_type": "stream",
       "stream": "stderr",
       "text": [
        "INFO:pyrpl.sshshell:Server application started on port 2222\n"
       ]
      },
      {
       "output_type": "stream",
       "stream": "stderr",
       "text": [
        "ERROR:pyrpl.monitor_client:Timeout or socket error.\n"
       ]
      },
      {
       "output_type": "stream",
       "stream": "stderr",
       "text": [
        "ERROR:pyrpl.monitor_client:Error occured in reading attempt 1. Trying another time to read from redpitaya. \n"
       ]
      },
      {
       "output_type": "stream",
       "stream": "stderr",
       "text": [
        "INFO:pyrpl.sshshell:>\n"
       ]
      },
      {
       "output_type": "stream",
       "stream": "stderr",
       "text": [
        "INFO:pyrpl.sshshell:Server application started on port 2222\n"
       ]
      },
      {
       "output_type": "stream",
       "stream": "stderr",
       "text": [
        "ERROR:pyrpl.monitor_client:Timeout or socket error.\n"
       ]
      },
      {
       "output_type": "stream",
       "stream": "stderr",
       "text": [
        "ERROR:pyrpl.monitor_client:Error occured in reading attempt 2. Trying another time to read from redpitaya. \n"
       ]
      },
      {
       "output_type": "stream",
       "stream": "stderr",
       "text": [
        "INFO:pyrpl.sshshell:>\n"
       ]
      },
      {
       "output_type": "stream",
       "stream": "stderr",
       "text": [
        "INFO:pyrpl.sshshell:Server application started on port 2222\n"
       ]
      },
      {
       "output_type": "stream",
       "stream": "stderr",
       "text": [
        "ERROR:pyrpl.monitor_client:Timeout or socket error.\n"
       ]
      },
      {
       "output_type": "stream",
       "stream": "stderr",
       "text": [
        "ERROR:pyrpl.monitor_client:Error occured in reading attempt 0. Trying another time to read from redpitaya. \n"
       ]
      },
      {
       "output_type": "stream",
       "stream": "stderr",
       "text": [
        "INFO:pyrpl.sshshell:>\n"
       ]
      },
      {
       "output_type": "stream",
       "stream": "stderr",
       "text": [
        "INFO:pyrpl.sshshell:Server application started on port 2222\n"
       ]
      },
      {
       "output_type": "stream",
       "stream": "stderr",
       "text": [
        "ERROR:pyrpl.monitor_client:Timeout or socket error.\n"
       ]
      },
      {
       "output_type": "stream",
       "stream": "stderr",
       "text": [
        "ERROR:pyrpl.monitor_client:Error occured in reading attempt 1. Trying another time to read from redpitaya. \n"
       ]
      },
      {
       "output_type": "stream",
       "stream": "stderr",
       "text": [
        "INFO:pyrpl.sshshell:>\n"
       ]
      },
      {
       "output_type": "stream",
       "stream": "stderr",
       "text": [
        "INFO:pyrpl.sshshell:Server application started on port 2222\n"
       ]
      },
      {
       "output_type": "stream",
       "stream": "stderr",
       "text": [
        "ERROR:pyrpl.monitor_client:Timeout or socket error.\n"
       ]
      },
      {
       "output_type": "stream",
       "stream": "stderr",
       "text": [
        "ERROR:pyrpl.monitor_client:Error occured in reading attempt 2. Trying another time to read from redpitaya. \n"
       ]
      },
      {
       "output_type": "stream",
       "stream": "stderr",
       "text": [
        "INFO:pyrpl.sshshell:>\n"
       ]
      },
      {
       "output_type": "stream",
       "stream": "stderr",
       "text": [
        "INFO:pyrpl.sshshell:Server application started on port 2222\n"
       ]
      }
     ],
     "prompt_number": 1
    },
    {
     "cell_type": "code",
     "collapsed": false,
     "input": [
      "w = r.rp.iq_widget\n",
      "\n",
      "prop = w.properties[\"phase\"]\n",
      "prop.the_widget.move(100,200)"
     ],
     "language": "python",
     "metadata": {},
     "outputs": [],
     "prompt_number": 3
    },
    {
     "cell_type": "code",
     "collapsed": false,
     "input": [
      "from PyQt4 import QtCore, QtGui\n",
      "b = QtGui.QPushButton(\"coucou\")\n",
      "w.scene.addWidget(p.the_widget)"
     ],
     "language": "python",
     "metadata": {},
     "outputs": [
      {
       "metadata": {},
       "output_type": "pyout",
       "prompt_number": 23,
       "text": [
        "<PyQt4.QtGui.QGraphicsProxyWidget at 0x1976ca50>"
       ]
      }
     ],
     "prompt_number": 23
    },
    {
     "cell_type": "code",
     "collapsed": false,
     "input": [
      "p.the_widget.move(100,100)"
     ],
     "language": "python",
     "metadata": {},
     "outputs": [],
     "prompt_number": 24
    },
    {
     "cell_type": "code",
     "collapsed": false,
     "input": [
      "r.rp.iq2.input = \"adc1\"\n",
      "r.rp.iq2.amplitude = 1.\n",
      "r.rp.iq2.frequency = 200\n",
      "r.rp.iq2.bandwidth = [50,50]\n",
      "r.rp.iq2.output_direct = 'out2'\n",
      "r.rp.iq2.quadrature_factor = 0.01\n",
      "r.rp.iq2.output_signal = 'quadrature'"
     ],
     "language": "python",
     "metadata": {},
     "outputs": [
      {
       "output_type": "stream",
       "stream": "stderr",
       "text": [
        "WARNING:pyrpl.signal:Implemented value for proportional of output piezo_direct has saturated more than 10% away from desired value. Try to modify analog gains.\n"
       ]
      },
      {
       "output_type": "stream",
       "stream": "stderr",
       "text": [
        "WARNING:pyrpl.signal:Implemented value for setpoint of output piezo_direct has saturated more than 10% away from desired value. Try to modify analog gains.\n"
       ]
      },
      {
       "output_type": "stream",
       "stream": "stderr",
       "text": [
        "WARNING:pyrpl.signal:Implemented value for proportional of output piezo_direct has saturated more than 10% away from desired value. Try to modify analog gains.\n"
       ]
      },
      {
       "output_type": "stream",
       "stream": "stderr",
       "text": [
        "WARNING:pyrpl.signal:Implemented value for setpoint of output piezo_direct has saturated more than 10% away from desired value. Try to modify analog gains.\n"
       ]
      },
      {
       "output_type": "stream",
       "stream": "stderr",
       "text": [
        "WARNING:pyrpl.signal:Implemented value for proportional of output piezo_direct has saturated more than 10% away from desired value. Try to modify analog gains.\n"
       ]
      },
      {
       "output_type": "stream",
       "stream": "stderr",
       "text": [
        "WARNING:pyrpl.signal:Implemented value for setpoint of output piezo_direct has saturated more than 10% away from desired value. Try to modify analog gains.\n"
       ]
      }
     ],
     "prompt_number": 25
    },
    {
     "cell_type": "code",
     "collapsed": false,
     "input": [
      "r.rp.iq"
     ],
     "language": "python",
     "metadata": {},
     "outputs": [
      {
       "ename": "NameError",
       "evalue": "name 'r' is not defined",
       "output_type": "pyerr",
       "traceback": [
        "\u001b[1;31m---------------------------------------------------------------------------\u001b[0m\n\u001b[1;31mNameError\u001b[0m                                 Traceback (most recent call last)",
        "\u001b[1;32m<ipython-input-1-6b35944109de>\u001b[0m in \u001b[0;36m<module>\u001b[1;34m()\u001b[0m\n\u001b[1;32m----> 1\u001b[1;33m \u001b[0mr\u001b[0m\u001b[1;33m.\u001b[0m\u001b[0mrp\u001b[0m\u001b[1;33m.\u001b[0m\u001b[0miq\u001b[0m\u001b[1;33m\u001b[0m\u001b[0m\n\u001b[0m",
        "\u001b[1;31mNameError\u001b[0m: name 'r' is not defined"
       ]
      }
     ],
     "prompt_number": 1
    },
    {
     "cell_type": "code",
     "collapsed": false,
     "input": [
      "r.rp.iq1.output_directs\n",
      "from pyrpl.pyrpl_utils import sleep\n",
      "gains = logspace(0,3, 50)\n",
      "for g in gains:\n",
      "    r.rp.pid2.i = g\n",
      "    sleep(0.1)\n",
      "    l.append(r.relative_pdh_rms(avg=5))\n",
      "    \n"
     ],
     "language": "python",
     "metadata": {},
     "outputs": [
      {
       "ename": "NameError",
       "evalue": "name 'l' is not defined",
       "output_type": "pyerr",
       "traceback": [
        "\u001b[1;31m---------------------------------------------------------------------------\u001b[0m\n\u001b[1;31mNameError\u001b[0m                                 Traceback (most recent call last)",
        "\u001b[1;32m<ipython-input-15-8153b033fb1f>\u001b[0m in \u001b[0;36m<module>\u001b[1;34m()\u001b[0m\n\u001b[0;32m      5\u001b[0m     \u001b[0mr\u001b[0m\u001b[1;33m.\u001b[0m\u001b[0mrp\u001b[0m\u001b[1;33m.\u001b[0m\u001b[0mpid2\u001b[0m\u001b[1;33m.\u001b[0m\u001b[0mi\u001b[0m \u001b[1;33m=\u001b[0m \u001b[0mg\u001b[0m\u001b[1;33m\u001b[0m\u001b[0m\n\u001b[0;32m      6\u001b[0m     \u001b[0msleep\u001b[0m\u001b[1;33m(\u001b[0m\u001b[1;36m0.1\u001b[0m\u001b[1;33m)\u001b[0m\u001b[1;33m\u001b[0m\u001b[0m\n\u001b[1;32m----> 7\u001b[1;33m     \u001b[0ml\u001b[0m\u001b[1;33m.\u001b[0m\u001b[0mappend\u001b[0m\u001b[1;33m(\u001b[0m\u001b[0mr\u001b[0m\u001b[1;33m.\u001b[0m\u001b[0mrelative_pdh_rms\u001b[0m\u001b[1;33m(\u001b[0m\u001b[0mavg\u001b[0m\u001b[1;33m=\u001b[0m\u001b[1;36m5\u001b[0m\u001b[1;33m)\u001b[0m\u001b[1;33m)\u001b[0m\u001b[1;33m\u001b[0m\u001b[0m\n\u001b[0m\u001b[0;32m      8\u001b[0m \u001b[1;33m\u001b[0m\u001b[0m\n",
        "\u001b[1;31mNameError\u001b[0m: name 'l' is not defined"
       ]
      }
     ],
     "prompt_number": 15
    },
    {
     "cell_type": "code",
     "collapsed": false,
     "input": [
      "r.rp.iq1.output_directs"
     ],
     "language": "python",
     "metadata": {},
     "outputs": [
      {
       "metadata": {},
       "output_type": "pyout",
       "prompt_number": 16,
       "text": [
        "['both', 'out2', 'off', 'out1']"
       ]
      },
      {
       "output_type": "stream",
       "stream": "stderr",
       "text": [
        "C:\\Python27\\lib\\site-packages\\pyqtgraph\\graphicsItems\\ScatterPlotItem.py:186: VisibleDeprecationWarning: using a non-integer number instead of an integer will result in an error in the future\n",
        "  self.atlasData[x:x+w, y:y+h] = rendered[key]\n",
        "\n"
       ]
      },
      {
       "output_type": "stream",
       "stream": "stderr",
       "text": [
        "WARNING:py.warnings:C:\\Python27\\lib\\site-packages\\pyqtgraph\\graphicsItems\\ScatterPlotItem.py:186: VisibleDeprecationWarning: using a non-integer number instead of an integer will result in an error in the future\n",
        "  self.atlasData[x:x+w, y:y+h] = rendered[key]\n",
        "\n"
       ]
      },
      {
       "output_type": "stream",
       "stream": "stderr",
       "text": [
        "C:\\Python27\\lib\\site-packages\\pyqtgraph\\graphicsItems\\ScatterPlotItem.py:148: VisibleDeprecationWarning: using a non-integer number instead of an integer will result in an error in the future\n",
        "  arr = self.atlasData[x:x+w, y:y+w]\n",
        "\n"
       ]
      },
      {
       "output_type": "stream",
       "stream": "stderr",
       "text": [
        "WARNING:py.warnings:C:\\Python27\\lib\\site-packages\\pyqtgraph\\graphicsItems\\ScatterPlotItem.py:148: VisibleDeprecationWarning: using a non-integer number instead of an integer will result in an error in the future\n",
        "  arr = self.atlasData[x:x+w, y:y+w]\n",
        "\n"
       ]
      },
      {
       "output_type": "stream",
       "stream": "stderr",
       "text": [
        "C:\\Python27\\lib\\site-packages\\pyqtgraph\\graphicsItems\\ScatterPlotItem.py:183: VisibleDeprecationWarning: using a non-integer number instead of an integer will result in an error in the future\n",
        "  self.atlasData = np.zeros((width, height, 4), dtype=np.ubyte)\n",
        "\n"
       ]
      },
      {
       "output_type": "stream",
       "stream": "stderr",
       "text": [
        "WARNING:py.warnings:C:\\Python27\\lib\\site-packages\\pyqtgraph\\graphicsItems\\ScatterPlotItem.py:183: VisibleDeprecationWarning: using a non-integer number instead of an integer will result in an error in the future\n",
        "  self.atlasData = np.zeros((width, height, 4), dtype=np.ubyte)\n",
        "\n"
       ]
      }
     ],
     "prompt_number": 16
    },
    {
     "cell_type": "code",
     "collapsed": false,
     "input": [
      "r.rp.scope.setup()\n",
      "r.rp.scope._trigger_source = 'off'\n",
      "r.rp.scope._trigger_armed = True"
     ],
     "language": "python",
     "metadata": {},
     "outputs": [],
     "prompt_number": 10
    },
    {
     "cell_type": "code",
     "collapsed": false,
     "input": [
      "r.rp.scope_widget.stop()\n",
      "r.rp.scope_widget.run_continuous()"
     ],
     "language": "python",
     "metadata": {},
     "outputs": [],
     "prompt_number": 3
    },
    {
     "cell_type": "code",
     "collapsed": false,
     "input": [
      "figure()\n",
      "plot(gains, l)\n",
      "gca().set_xscale('log')"
     ],
     "language": "python",
     "metadata": {},
     "outputs": [
      {
       "output_type": "stream",
       "stream": "stderr",
       "text": [
        "WARNING:pyrpl.signal:Implemented value for setpoint of output piezo_direct has saturated more than 10% away from desired value. Try to modify analog gains.\n"
       ]
      },
      {
       "output_type": "stream",
       "stream": "stderr",
       "text": [
        "WARNING:pyrpl.signal:Implemented value for differentiator of output current has saturated more than 10% away from desired value. Try to modify analog gains.\n"
       ]
      },
      {
       "output_type": "stream",
       "stream": "stderr",
       "text": [
        "WARNING:pyrpl.signal:Implemented value for setpoint of output piezo_direct has saturated more than 10% away from desired value. Try to modify analog gains.\n"
       ]
      },
      {
       "output_type": "stream",
       "stream": "stderr",
       "text": [
        "WARNING:pyrpl.signal:Implemented value for differentiator of output current has saturated more than 10% away from desired value. Try to modify analog gains.\n"
       ]
      }
     ],
     "prompt_number": 136
    },
    {
     "cell_type": "code",
     "collapsed": false,
     "input": [
      "r.relative_pdh_rms(5)\n"
     ],
     "language": "python",
     "metadata": {},
     "outputs": [
      {
       "metadata": {},
       "output_type": "pyout",
       "prompt_number": 14,
       "text": [
        "0.05336791917518395"
       ]
      },
      {
       "output_type": "stream",
       "stream": "stderr",
       "text": [
        "WARNING:pyrpl.signal:Implemented value for proportional of output piezo_direct has saturated more than 10% away from desired value. Try to modify analog gains.\n"
       ]
      },
      {
       "output_type": "stream",
       "stream": "stderr",
       "text": [
        "WARNING:pyrpl.signal:Implemented value for differentiator of output current has saturated more than 10% away from desired value. Try to modify analog gains.\n"
       ]
      },
      {
       "output_type": "stream",
       "stream": "stderr",
       "text": [
        "WARNING:pyrpl.signal:Implemented value for proportional of output piezo_direct has saturated more than 10% away from desired value. Try to modify analog gains.\n"
       ]
      },
      {
       "output_type": "stream",
       "stream": "stderr",
       "text": [
        "WARNING:pyrpl.signal:Implemented value for differentiator of output current has saturated more than 10% away from desired value. Try to modify analog gains.\n"
       ]
      },
      {
       "output_type": "stream",
       "stream": "stderr",
       "text": [
        "WARNING:pyrpl.signal:Implemented value for proportional of output piezo_direct has saturated more than 10% away from desired value. Try to modify analog gains.\n"
       ]
      },
      {
       "output_type": "stream",
       "stream": "stderr",
       "text": [
        "WARNING:pyrpl.signal:Implemented value for setpoint of output piezo_direct has saturated more than 10% away from desired value. Try to modify analog gains.\n"
       ]
      },
      {
       "output_type": "stream",
       "stream": "stderr",
       "text": [
        "WARNING:pyrpl.signal:Implemented value for proportional of output piezo_direct has saturated more than 10% away from desired value. Try to modify analog gains.\n"
       ]
      },
      {
       "output_type": "stream",
       "stream": "stderr",
       "text": [
        "WARNING:pyrpl.signal:Implemented value for setpoint of output piezo_direct has saturated more than 10% away from desired value. Try to modify analog gains.\n"
       ]
      },
      {
       "output_type": "stream",
       "stream": "stderr",
       "text": [
        "WARNING:pyrpl.signal:Implemented value for proportional of output piezo_direct has saturated more than 10% away from desired value. Try to modify analog gains.\n"
       ]
      },
      {
       "output_type": "stream",
       "stream": "stderr",
       "text": [
        "WARNING:pyrpl.signal:Implemented value for setpoint of output piezo_direct has saturated more than 10% away from desired value. Try to modify analog gains.\n"
       ]
      },
      {
       "output_type": "stream",
       "stream": "stderr",
       "text": [
        "WARNING:pyrpl.signal:Implemented value for proportional of output piezo_direct has saturated more than 10% away from desired value. Try to modify analog gains.\n"
       ]
      },
      {
       "output_type": "stream",
       "stream": "stderr",
       "text": [
        "WARNING:pyrpl.signal:Implemented value for setpoint of output piezo_direct has saturated more than 10% away from desired value. Try to modify analog gains.\n"
       ]
      },
      {
       "output_type": "stream",
       "stream": "stderr",
       "text": [
        "WARNING:pyrpl.signal:Implemented value for proportional of output piezo_direct has saturated more than 10% away from desired value. Try to modify analog gains.\n"
       ]
      },
      {
       "output_type": "stream",
       "stream": "stderr",
       "text": [
        "WARNING:pyrpl.signal:Implemented value for setpoint of output piezo_direct has saturated more than 10% away from desired value. Try to modify analog gains.\n"
       ]
      },
      {
       "output_type": "stream",
       "stream": "stderr",
       "text": [
        "WARNING:pyrpl.signal:Implemented value for proportional of output piezo_direct has saturated more than 10% away from desired value. Try to modify analog gains.\n"
       ]
      },
      {
       "output_type": "stream",
       "stream": "stderr",
       "text": [
        "WARNING:pyrpl.signal:Implemented value for setpoint of output piezo_direct has saturated more than 10% away from desired value. Try to modify analog gains.\n"
       ]
      },
      {
       "output_type": "stream",
       "stream": "stderr",
       "text": [
        "WARNING:pyrpl.signal:Implemented value for proportional of output piezo_direct has saturated more than 10% away from desired value. Try to modify analog gains.\n"
       ]
      },
      {
       "output_type": "stream",
       "stream": "stderr",
       "text": [
        "WARNING:pyrpl.signal:Implemented value for differentiator of output current has saturated more than 10% away from desired value. Try to modify analog gains.\n"
       ]
      },
      {
       "output_type": "stream",
       "stream": "stderr",
       "text": [
        "WARNING:pyrpl.signal:Implemented value for proportional of output piezo_direct has saturated more than 10% away from desired value. Try to modify analog gains.\n"
       ]
      },
      {
       "output_type": "stream",
       "stream": "stderr",
       "text": [
        "WARNING:pyrpl.signal:Implemented value for setpoint of output piezo_direct has saturated more than 10% away from desired value. Try to modify analog gains.\n"
       ]
      },
      {
       "output_type": "stream",
       "stream": "stderr",
       "text": [
        "WARNING:pyrpl.signal:Implemented value for proportional of output piezo_direct has saturated more than 10% away from desired value. Try to modify analog gains.\n"
       ]
      },
      {
       "output_type": "stream",
       "stream": "stderr",
       "text": [
        "WARNING:pyrpl.signal:Implemented value for differentiator of output current has saturated more than 10% away from desired value. Try to modify analog gains.\n"
       ]
      },
      {
       "output_type": "stream",
       "stream": "stderr",
       "text": [
        "WARNING:pyrpl.signal:Implemented value for proportional of output piezo_direct has saturated more than 10% away from desired value. Try to modify analog gains.\n"
       ]
      },
      {
       "output_type": "stream",
       "stream": "stderr",
       "text": [
        "WARNING:pyrpl.signal:Implemented value for setpoint of output piezo_direct has saturated more than 10% away from desired value. Try to modify analog gains.\n"
       ]
      },
      {
       "output_type": "stream",
       "stream": "stderr",
       "text": [
        "WARNING:pyrpl.signal:Implemented value for proportional of output piezo_direct has saturated more than 10% away from desired value. Try to modify analog gains.\n"
       ]
      },
      {
       "output_type": "stream",
       "stream": "stderr",
       "text": [
        "WARNING:pyrpl.signal:Implemented value for differentiator of output current has saturated more than 10% away from desired value. Try to modify analog gains.\n"
       ]
      },
      {
       "output_type": "stream",
       "stream": "stderr",
       "text": [
        "WARNING:pyrpl.signal:Implemented value for proportional of output piezo_direct has saturated more than 10% away from desired value. Try to modify analog gains.\n"
       ]
      },
      {
       "output_type": "stream",
       "stream": "stderr",
       "text": [
        "WARNING:pyrpl.signal:Implemented value for setpoint of output piezo_direct has saturated more than 10% away from desired value. Try to modify analog gains.\n"
       ]
      },
      {
       "output_type": "stream",
       "stream": "stderr",
       "text": [
        "WARNING:pyrpl.signal:Implemented value for proportional of output piezo_direct has saturated more than 10% away from desired value. Try to modify analog gains.\n"
       ]
      },
      {
       "output_type": "stream",
       "stream": "stderr",
       "text": [
        "WARNING:pyrpl.signal:Implemented value for differentiator of output current has saturated more than 10% away from desired value. Try to modify analog gains.\n"
       ]
      },
      {
       "output_type": "stream",
       "stream": "stderr",
       "text": [
        "WARNING:pyrpl.signal:Implemented value for proportional of output piezo_direct has saturated more than 10% away from desired value. Try to modify analog gains.\n"
       ]
      },
      {
       "output_type": "stream",
       "stream": "stderr",
       "text": [
        "WARNING:pyrpl.signal:Implemented value for setpoint of output piezo_direct has saturated more than 10% away from desired value. Try to modify analog gains.\n"
       ]
      },
      {
       "output_type": "stream",
       "stream": "stderr",
       "text": [
        "WARNING:pyrpl.signal:Implemented value for proportional of output piezo_direct has saturated more than 10% away from desired value. Try to modify analog gains.\n"
       ]
      },
      {
       "output_type": "stream",
       "stream": "stderr",
       "text": [
        "WARNING:pyrpl.signal:Implemented value for setpoint of output piezo_direct has saturated more than 10% away from desired value. Try to modify analog gains.\n"
       ]
      },
      {
       "output_type": "stream",
       "stream": "stderr",
       "text": [
        "WARNING:pyrpl.signal:Implemented value for proportional of output piezo_direct has saturated more than 10% away from desired value. Try to modify analog gains.\n"
       ]
      },
      {
       "output_type": "stream",
       "stream": "stderr",
       "text": [
        "WARNING:pyrpl.signal:Implemented value for setpoint of output piezo_direct has saturated more than 10% away from desired value. Try to modify analog gains.\n"
       ]
      },
      {
       "output_type": "stream",
       "stream": "stderr",
       "text": [
        "WARNING:pyrpl.signal:Implemented value for proportional of output piezo_direct has saturated more than 10% away from desired value. Try to modify analog gains.\n"
       ]
      },
      {
       "output_type": "stream",
       "stream": "stderr",
       "text": [
        "WARNING:pyrpl.signal:Implemented value for differentiator of output current has saturated more than 10% away from desired value. Try to modify analog gains.\n"
       ]
      },
      {
       "output_type": "stream",
       "stream": "stderr",
       "text": [
        "WARNING:pyrpl.signal:Implemented value for proportional of output piezo_direct has saturated more than 10% away from desired value. Try to modify analog gains.\n"
       ]
      },
      {
       "output_type": "stream",
       "stream": "stderr",
       "text": [
        "WARNING:pyrpl.signal:Implemented value for setpoint of output piezo_direct has saturated more than 10% away from desired value. Try to modify analog gains.\n"
       ]
      },
      {
       "output_type": "stream",
       "stream": "stderr",
       "text": [
        "WARNING:pyrpl.signal:Implemented value for proportional of output piezo_direct has saturated more than 10% away from desired value. Try to modify analog gains.\n"
       ]
      },
      {
       "output_type": "stream",
       "stream": "stderr",
       "text": [
        "WARNING:pyrpl.signal:Implemented value for setpoint of output piezo_direct has saturated more than 10% away from desired value. Try to modify analog gains.\n"
       ]
      },
      {
       "output_type": "stream",
       "stream": "stderr",
       "text": [
        "WARNING:pyrpl.signal:Implemented value for proportional of output piezo_direct has saturated more than 10% away from desired value. Try to modify analog gains.\n"
       ]
      },
      {
       "output_type": "stream",
       "stream": "stderr",
       "text": [
        "WARNING:pyrpl.signal:Implemented value for setpoint of output piezo_direct has saturated more than 10% away from desired value. Try to modify analog gains.\n"
       ]
      },
      {
       "output_type": "stream",
       "stream": "stderr",
       "text": [
        "WARNING:pyrpl.signal:Implemented value for proportional of output piezo_direct has saturated more than 10% away from desired value. Try to modify analog gains.\n"
       ]
      },
      {
       "output_type": "stream",
       "stream": "stderr",
       "text": [
        "WARNING:pyrpl.signal:Implemented value for setpoint of output piezo_direct has saturated more than 10% away from desired value. Try to modify analog gains.\n"
       ]
      },
      {
       "output_type": "stream",
       "stream": "stderr",
       "text": [
        "WARNING:pyrpl.signal:Implemented value for proportional of output piezo_direct has saturated more than 10% away from desired value. Try to modify analog gains.\n"
       ]
      },
      {
       "output_type": "stream",
       "stream": "stderr",
       "text": [
        "WARNING:pyrpl.signal:Implemented value for setpoint of output piezo_direct has saturated more than 10% away from desired value. Try to modify analog gains.\n"
       ]
      },
      {
       "output_type": "stream",
       "stream": "stderr",
       "text": [
        "WARNING:pyrpl.signal:Implemented value for proportional of output piezo_direct has saturated more than 10% away from desired value. Try to modify analog gains.\n"
       ]
      },
      {
       "output_type": "stream",
       "stream": "stderr",
       "text": [
        "WARNING:pyrpl.signal:Implemented value for setpoint of output piezo_direct has saturated more than 10% away from desired value. Try to modify analog gains.\n"
       ]
      },
      {
       "output_type": "stream",
       "stream": "stderr",
       "text": [
        "WARNING:pyrpl.signal:Implemented value for proportional of output piezo_direct has saturated more than 10% away from desired value. Try to modify analog gains.\n"
       ]
      },
      {
       "output_type": "stream",
       "stream": "stderr",
       "text": [
        "WARNING:pyrpl.signal:Implemented value for setpoint of output piezo_direct has saturated more than 10% away from desired value. Try to modify analog gains.\n"
       ]
      },
      {
       "output_type": "stream",
       "stream": "stderr",
       "text": [
        "WARNING:pyrpl.signal:Implemented value for proportional of output piezo_direct has saturated more than 10% away from desired value. Try to modify analog gains.\n"
       ]
      },
      {
       "output_type": "stream",
       "stream": "stderr",
       "text": [
        "WARNING:pyrpl.signal:Implemented value for setpoint of output piezo_direct has saturated more than 10% away from desired value. Try to modify analog gains.\n"
       ]
      },
      {
       "output_type": "stream",
       "stream": "stderr",
       "text": [
        "WARNING:pyrpl.signal:Implemented value for proportional of output piezo_direct has saturated more than 10% away from desired value. Try to modify analog gains.\n"
       ]
      },
      {
       "output_type": "stream",
       "stream": "stderr",
       "text": [
        "WARNING:pyrpl.signal:Implemented value for setpoint of output piezo_direct has saturated more than 10% away from desired value. Try to modify analog gains.\n"
       ]
      },
      {
       "output_type": "stream",
       "stream": "stderr",
       "text": [
        "WARNING:pyrpl.signal:Implemented value for proportional of output piezo_direct has saturated more than 10% away from desired value. Try to modify analog gains.\n"
       ]
      },
      {
       "output_type": "stream",
       "stream": "stderr",
       "text": [
        "WARNING:pyrpl.signal:Implemented value for setpoint of output piezo_direct has saturated more than 10% away from desired value. Try to modify analog gains.\n"
       ]
      },
      {
       "output_type": "stream",
       "stream": "stderr",
       "text": [
        "WARNING:pyrpl.signal:Implemented value for proportional of output piezo_direct has saturated more than 10% away from desired value. Try to modify analog gains.\n"
       ]
      },
      {
       "output_type": "stream",
       "stream": "stderr",
       "text": [
        "WARNING:pyrpl.signal:Implemented value for setpoint of output piezo_direct has saturated more than 10% away from desired value. Try to modify analog gains.\n"
       ]
      },
      {
       "output_type": "stream",
       "stream": "stderr",
       "text": [
        "WARNING:pyrpl.signal:Implemented value for proportional of output piezo_direct has saturated more than 10% away from desired value. Try to modify analog gains.\n"
       ]
      },
      {
       "output_type": "stream",
       "stream": "stderr",
       "text": [
        "WARNING:pyrpl.signal:Implemented value for setpoint of output piezo_direct has saturated more than 10% away from desired value. Try to modify analog gains.\n"
       ]
      },
      {
       "output_type": "stream",
       "stream": "stderr",
       "text": [
        "WARNING:pyrpl.signal:Implemented value for proportional of output piezo_direct has saturated more than 10% away from desired value. Try to modify analog gains.\n"
       ]
      },
      {
       "output_type": "stream",
       "stream": "stderr",
       "text": [
        "WARNING:pyrpl.signal:Implemented value for setpoint of output piezo_direct has saturated more than 10% away from desired value. Try to modify analog gains.\n"
       ]
      },
      {
       "output_type": "stream",
       "stream": "stderr",
       "text": [
        "WARNING:pyrpl.signal:Implemented value for proportional of output piezo_direct has saturated more than 10% away from desired value. Try to modify analog gains.\n"
       ]
      },
      {
       "output_type": "stream",
       "stream": "stderr",
       "text": [
        "WARNING:pyrpl.signal:Implemented value for differentiator of output current has saturated more than 10% away from desired value. Try to modify analog gains.\n"
       ]
      },
      {
       "output_type": "stream",
       "stream": "stderr",
       "text": [
        "WARNING:pyrpl.signal:Implemented value for proportional of output piezo_direct has saturated more than 10% away from desired value. Try to modify analog gains.\n"
       ]
      },
      {
       "output_type": "stream",
       "stream": "stderr",
       "text": [
        "WARNING:pyrpl.signal:Implemented value for setpoint of output piezo_direct has saturated more than 10% away from desired value. Try to modify analog gains.\n"
       ]
      },
      {
       "output_type": "stream",
       "stream": "stderr",
       "text": [
        "WARNING:pyrpl.signal:Implemented value for proportional of output piezo_direct has saturated more than 10% away from desired value. Try to modify analog gains.\n"
       ]
      },
      {
       "output_type": "stream",
       "stream": "stderr",
       "text": [
        "WARNING:pyrpl.signal:Implemented value for differentiator of output current has saturated more than 10% away from desired value. Try to modify analog gains.\n"
       ]
      },
      {
       "output_type": "stream",
       "stream": "stderr",
       "text": [
        "WARNING:pyrpl.signal:Implemented value for proportional of output piezo_direct has saturated more than 10% away from desired value. Try to modify analog gains.\n"
       ]
      },
      {
       "output_type": "stream",
       "stream": "stderr",
       "text": [
        "WARNING:pyrpl.signal:Implemented value for setpoint of output piezo_direct has saturated more than 10% away from desired value. Try to modify analog gains.\n"
       ]
      },
      {
       "output_type": "stream",
       "stream": "stderr",
       "text": [
        "WARNING:pyrpl.signal:Implemented value for proportional of output piezo_direct has saturated more than 10% away from desired value. Try to modify analog gains.\n"
       ]
      },
      {
       "output_type": "stream",
       "stream": "stderr",
       "text": [
        "WARNING:pyrpl.signal:Implemented value for differentiator of output current has saturated more than 10% away from desired value. Try to modify analog gains.\n"
       ]
      },
      {
       "output_type": "stream",
       "stream": "stderr",
       "text": [
        "WARNING:pyrpl.signal:Implemented value for proportional of output piezo_direct has saturated more than 10% away from desired value. Try to modify analog gains.\n"
       ]
      },
      {
       "output_type": "stream",
       "stream": "stderr",
       "text": [
        "WARNING:pyrpl.signal:Implemented value for setpoint of output piezo_direct has saturated more than 10% away from desired value. Try to modify analog gains.\n"
       ]
      },
      {
       "output_type": "stream",
       "stream": "stderr",
       "text": [
        "WARNING:pyrpl.signal:Implemented value for proportional of output piezo_direct has saturated more than 10% away from desired value. Try to modify analog gains.\n"
       ]
      },
      {
       "output_type": "stream",
       "stream": "stderr",
       "text": [
        "WARNING:pyrpl.signal:Implemented value for setpoint of output piezo_direct has saturated more than 10% away from desired value. Try to modify analog gains.\n"
       ]
      },
      {
       "output_type": "stream",
       "stream": "stderr",
       "text": [
        "WARNING:pyrpl.signal:Implemented value for proportional of output piezo_direct has saturated more than 10% away from desired value. Try to modify analog gains.\n"
       ]
      },
      {
       "output_type": "stream",
       "stream": "stderr",
       "text": [
        "WARNING:pyrpl.signal:Implemented value for differentiator of output current has saturated more than 10% away from desired value. Try to modify analog gains.\n"
       ]
      },
      {
       "output_type": "stream",
       "stream": "stderr",
       "text": [
        "WARNING:pyrpl.signal:Implemented value for proportional of output piezo_direct has saturated more than 10% away from desired value. Try to modify analog gains.\n"
       ]
      },
      {
       "output_type": "stream",
       "stream": "stderr",
       "text": [
        "WARNING:pyrpl.signal:Implemented value for setpoint of output piezo_direct has saturated more than 10% away from desired value. Try to modify analog gains.\n"
       ]
      },
      {
       "output_type": "stream",
       "stream": "stderr",
       "text": [
        "WARNING:pyrpl.signal:Implemented value for proportional of output piezo_direct has saturated more than 10% away from desired value. Try to modify analog gains.\n"
       ]
      },
      {
       "output_type": "stream",
       "stream": "stderr",
       "text": [
        "WARNING:pyrpl.signal:Implemented value for differentiator of output current has saturated more than 10% away from desired value. Try to modify analog gains.\n"
       ]
      },
      {
       "output_type": "stream",
       "stream": "stderr",
       "text": [
        "WARNING:pyrpl.signal:Implemented value for proportional of output piezo_direct has saturated more than 10% away from desired value. Try to modify analog gains.\n"
       ]
      },
      {
       "output_type": "stream",
       "stream": "stderr",
       "text": [
        "WARNING:pyrpl.signal:Implemented value for setpoint of output piezo_direct has saturated more than 10% away from desired value. Try to modify analog gains.\n"
       ]
      },
      {
       "output_type": "stream",
       "stream": "stderr",
       "text": [
        "WARNING:pyrpl.signal:Implemented value for proportional of output piezo_direct has saturated more than 10% away from desired value. Try to modify analog gains.\n"
       ]
      },
      {
       "output_type": "stream",
       "stream": "stderr",
       "text": [
        "WARNING:pyrpl.signal:Implemented value for differentiator of output current has saturated more than 10% away from desired value. Try to modify analog gains.\n"
       ]
      },
      {
       "output_type": "stream",
       "stream": "stderr",
       "text": [
        "WARNING:pyrpl.signal:Implemented value for proportional of output piezo_direct has saturated more than 10% away from desired value. Try to modify analog gains.\n"
       ]
      },
      {
       "output_type": "stream",
       "stream": "stderr",
       "text": [
        "WARNING:pyrpl.signal:Implemented value for setpoint of output piezo_direct has saturated more than 10% away from desired value. Try to modify analog gains.\n"
       ]
      },
      {
       "output_type": "stream",
       "stream": "stderr",
       "text": [
        "WARNING:pyrpl.signal:Implemented value for proportional of output piezo_direct has saturated more than 10% away from desired value. Try to modify analog gains.\n"
       ]
      },
      {
       "output_type": "stream",
       "stream": "stderr",
       "text": [
        "WARNING:pyrpl.signal:Implemented value for setpoint of output piezo_direct has saturated more than 10% away from desired value. Try to modify analog gains.\n"
       ]
      },
      {
       "output_type": "stream",
       "stream": "stderr",
       "text": [
        "WARNING:pyrpl.signal:Implemented value for proportional of output piezo_direct has saturated more than 10% away from desired value. Try to modify analog gains.\n"
       ]
      },
      {
       "output_type": "stream",
       "stream": "stderr",
       "text": [
        "WARNING:pyrpl.signal:Implemented value for differentiator of output current has saturated more than 10% away from desired value. Try to modify analog gains.\n"
       ]
      },
      {
       "output_type": "stream",
       "stream": "stderr",
       "text": [
        "WARNING:pyrpl.signal:Implemented value for proportional of output piezo_direct has saturated more than 10% away from desired value. Try to modify analog gains.\n"
       ]
      },
      {
       "output_type": "stream",
       "stream": "stderr",
       "text": [
        "WARNING:pyrpl.signal:Implemented value for setpoint of output piezo_direct has saturated more than 10% away from desired value. Try to modify analog gains.\n"
       ]
      },
      {
       "output_type": "stream",
       "stream": "stderr",
       "text": [
        "WARNING:pyrpl.signal:Implemented value for proportional of output piezo_direct has saturated more than 10% away from desired value. Try to modify analog gains.\n"
       ]
      },
      {
       "output_type": "stream",
       "stream": "stderr",
       "text": [
        "WARNING:pyrpl.signal:Implemented value for setpoint of output piezo_direct has saturated more than 10% away from desired value. Try to modify analog gains.\n"
       ]
      },
      {
       "output_type": "stream",
       "stream": "stderr",
       "text": [
        "WARNING:pyrpl.signal:Implemented value for proportional of output piezo_direct has saturated more than 10% away from desired value. Try to modify analog gains.\n"
       ]
      },
      {
       "output_type": "stream",
       "stream": "stderr",
       "text": [
        "WARNING:pyrpl.signal:Implemented value for setpoint of output piezo_direct has saturated more than 10% away from desired value. Try to modify analog gains.\n"
       ]
      },
      {
       "output_type": "stream",
       "stream": "stderr",
       "text": [
        "WARNING:pyrpl.signal:Implemented value for proportional of output piezo_direct has saturated more than 10% away from desired value. Try to modify analog gains.\n"
       ]
      },
      {
       "output_type": "stream",
       "stream": "stderr",
       "text": [
        "WARNING:pyrpl.signal:Implemented value for differentiator of output current has saturated more than 10% away from desired value. Try to modify analog gains.\n"
       ]
      },
      {
       "output_type": "stream",
       "stream": "stderr",
       "text": [
        "WARNING:pyrpl.signal:Implemented value for proportional of output piezo_direct has saturated more than 10% away from desired value. Try to modify analog gains.\n"
       ]
      },
      {
       "output_type": "stream",
       "stream": "stderr",
       "text": [
        "WARNING:pyrpl.signal:Implemented value for setpoint of output piezo_direct has saturated more than 10% away from desired value. Try to modify analog gains.\n"
       ]
      },
      {
       "output_type": "stream",
       "stream": "stderr",
       "text": [
        "WARNING:pyrpl.signal:Implemented value for proportional of output piezo_direct has saturated more than 10% away from desired value. Try to modify analog gains.\n"
       ]
      },
      {
       "output_type": "stream",
       "stream": "stderr",
       "text": [
        "WARNING:pyrpl.signal:Implemented value for setpoint of output piezo_direct has saturated more than 10% away from desired value. Try to modify analog gains.\n"
       ]
      },
      {
       "output_type": "stream",
       "stream": "stderr",
       "text": [
        "WARNING:pyrpl.signal:Implemented value for proportional of output piezo_direct has saturated more than 10% away from desired value. Try to modify analog gains.\n"
       ]
      },
      {
       "output_type": "stream",
       "stream": "stderr",
       "text": [
        "WARNING:pyrpl.signal:Implemented value for setpoint of output piezo_direct has saturated more than 10% away from desired value. Try to modify analog gains.\n"
       ]
      },
      {
       "output_type": "stream",
       "stream": "stderr",
       "text": [
        "WARNING:pyrpl.signal:Implemented value for proportional of output piezo_direct has saturated more than 10% away from desired value. Try to modify analog gains.\n"
       ]
      },
      {
       "output_type": "stream",
       "stream": "stderr",
       "text": [
        "WARNING:pyrpl.signal:Implemented value for differentiator of output current has saturated more than 10% away from desired value. Try to modify analog gains.\n"
       ]
      },
      {
       "output_type": "stream",
       "stream": "stderr",
       "text": [
        "WARNING:pyrpl.signal:Implemented value for proportional of output piezo_direct has saturated more than 10% away from desired value. Try to modify analog gains.\n"
       ]
      },
      {
       "output_type": "stream",
       "stream": "stderr",
       "text": [
        "WARNING:pyrpl.signal:Implemented value for setpoint of output piezo_direct has saturated more than 10% away from desired value. Try to modify analog gains.\n"
       ]
      },
      {
       "output_type": "stream",
       "stream": "stderr",
       "text": [
        "WARNING:pyrpl.signal:Implemented value for proportional of output piezo_direct has saturated more than 10% away from desired value. Try to modify analog gains.\n"
       ]
      },
      {
       "output_type": "stream",
       "stream": "stderr",
       "text": [
        "WARNING:pyrpl.signal:Implemented value for setpoint of output piezo_direct has saturated more than 10% away from desired value. Try to modify analog gains.\n"
       ]
      },
      {
       "output_type": "stream",
       "stream": "stderr",
       "text": [
        "WARNING:pyrpl.signal:Implemented value for proportional of output piezo_direct has saturated more than 10% away from desired value. Try to modify analog gains.\n"
       ]
      },
      {
       "output_type": "stream",
       "stream": "stderr",
       "text": [
        "WARNING:pyrpl.signal:Implemented value for differentiator of output current has saturated more than 10% away from desired value. Try to modify analog gains.\n"
       ]
      },
      {
       "output_type": "stream",
       "stream": "stderr",
       "text": [
        "WARNING:pyrpl.signal:Implemented value for proportional of output piezo_direct has saturated more than 10% away from desired value. Try to modify analog gains.\n"
       ]
      },
      {
       "output_type": "stream",
       "stream": "stderr",
       "text": [
        "WARNING:pyrpl.signal:Implemented value for setpoint of output piezo_direct has saturated more than 10% away from desired value. Try to modify analog gains.\n"
       ]
      },
      {
       "output_type": "stream",
       "stream": "stderr",
       "text": [
        "WARNING:pyrpl.signal:Implemented value for proportional of output piezo_direct has saturated more than 10% away from desired value. Try to modify analog gains.\n"
       ]
      },
      {
       "output_type": "stream",
       "stream": "stderr",
       "text": [
        "WARNING:pyrpl.signal:Implemented value for differentiator of output current has saturated more than 10% away from desired value. Try to modify analog gains.\n"
       ]
      },
      {
       "output_type": "stream",
       "stream": "stderr",
       "text": [
        "WARNING:pyrpl.signal:Implemented value for proportional of output piezo_direct has saturated more than 10% away from desired value. Try to modify analog gains.\n"
       ]
      },
      {
       "output_type": "stream",
       "stream": "stderr",
       "text": [
        "WARNING:pyrpl.signal:Implemented value for setpoint of output piezo_direct has saturated more than 10% away from desired value. Try to modify analog gains.\n"
       ]
      },
      {
       "output_type": "stream",
       "stream": "stderr",
       "text": [
        "WARNING:pyrpl.signal:Implemented value for proportional of output piezo_direct has saturated more than 10% away from desired value. Try to modify analog gains.\n"
       ]
      },
      {
       "output_type": "stream",
       "stream": "stderr",
       "text": [
        "WARNING:pyrpl.signal:Implemented value for differentiator of output current has saturated more than 10% away from desired value. Try to modify analog gains.\n"
       ]
      },
      {
       "output_type": "stream",
       "stream": "stderr",
       "text": [
        "WARNING:pyrpl.signal:Implemented value for proportional of output piezo_direct has saturated more than 10% away from desired value. Try to modify analog gains.\n"
       ]
      },
      {
       "output_type": "stream",
       "stream": "stderr",
       "text": [
        "WARNING:pyrpl.signal:Implemented value for setpoint of output piezo_direct has saturated more than 10% away from desired value. Try to modify analog gains.\n"
       ]
      },
      {
       "output_type": "stream",
       "stream": "stderr",
       "text": [
        "WARNING:pyrpl.signal:Implemented value for proportional of output piezo_direct has saturated more than 10% away from desired value. Try to modify analog gains.\n"
       ]
      },
      {
       "output_type": "stream",
       "stream": "stderr",
       "text": [
        "WARNING:pyrpl.signal:Implemented value for differentiator of output current has saturated more than 10% away from desired value. Try to modify analog gains.\n"
       ]
      },
      {
       "output_type": "stream",
       "stream": "stderr",
       "text": [
        "WARNING:pyrpl.signal:Implemented value for proportional of output piezo_direct has saturated more than 10% away from desired value. Try to modify analog gains.\n"
       ]
      },
      {
       "output_type": "stream",
       "stream": "stderr",
       "text": [
        "WARNING:pyrpl.signal:Implemented value for setpoint of output piezo_direct has saturated more than 10% away from desired value. Try to modify analog gains.\n"
       ]
      },
      {
       "output_type": "stream",
       "stream": "stderr",
       "text": [
        "WARNING:pyrpl.signal:Implemented value for proportional of output piezo_direct has saturated more than 10% away from desired value. Try to modify analog gains.\n"
       ]
      },
      {
       "output_type": "stream",
       "stream": "stderr",
       "text": [
        "WARNING:pyrpl.signal:Implemented value for differentiator of output current has saturated more than 10% away from desired value. Try to modify analog gains.\n"
       ]
      },
      {
       "output_type": "stream",
       "stream": "stderr",
       "text": [
        "WARNING:pyrpl.signal:Implemented value for proportional of output piezo_direct has saturated more than 10% away from desired value. Try to modify analog gains.\n"
       ]
      },
      {
       "output_type": "stream",
       "stream": "stderr",
       "text": [
        "WARNING:pyrpl.signal:Implemented value for setpoint of output piezo_direct has saturated more than 10% away from desired value. Try to modify analog gains.\n"
       ]
      },
      {
       "output_type": "stream",
       "stream": "stderr",
       "text": [
        "WARNING:pyrpl.signal:Implemented value for proportional of output piezo_direct has saturated more than 10% away from desired value. Try to modify analog gains.\n"
       ]
      },
      {
       "output_type": "stream",
       "stream": "stderr",
       "text": [
        "WARNING:pyrpl.signal:Implemented value for differentiator of output current has saturated more than 10% away from desired value. Try to modify analog gains.\n"
       ]
      },
      {
       "output_type": "stream",
       "stream": "stderr",
       "text": [
        "WARNING:pyrpl.signal:Implemented value for proportional of output piezo_direct has saturated more than 10% away from desired value. Try to modify analog gains.\n"
       ]
      },
      {
       "output_type": "stream",
       "stream": "stderr",
       "text": [
        "WARNING:pyrpl.signal:Implemented value for differentiator of output current has saturated more than 10% away from desired value. Try to modify analog gains.\n"
       ]
      },
      {
       "output_type": "stream",
       "stream": "stderr",
       "text": [
        "WARNING:pyrpl.signal:Implemented value for proportional of output piezo_direct has saturated more than 10% away from desired value. Try to modify analog gains.\n"
       ]
      },
      {
       "output_type": "stream",
       "stream": "stderr",
       "text": [
        "WARNING:pyrpl.signal:Implemented value for setpoint of output piezo_direct has saturated more than 10% away from desired value. Try to modify analog gains.\n"
       ]
      },
      {
       "output_type": "stream",
       "stream": "stderr",
       "text": [
        "WARNING:pyrpl.signal:Implemented value for proportional of output piezo_direct has saturated more than 10% away from desired value. Try to modify analog gains.\n"
       ]
      },
      {
       "output_type": "stream",
       "stream": "stderr",
       "text": [
        "WARNING:pyrpl.signal:Implemented value for setpoint of output piezo_direct has saturated more than 10% away from desired value. Try to modify analog gains.\n"
       ]
      },
      {
       "output_type": "stream",
       "stream": "stderr",
       "text": [
        "WARNING:pyrpl.signal:Implemented value for proportional of output piezo_direct has saturated more than 10% away from desired value. Try to modify analog gains.\n"
       ]
      },
      {
       "output_type": "stream",
       "stream": "stderr",
       "text": [
        "WARNING:pyrpl.signal:Implemented value for differentiator of output current has saturated more than 10% away from desired value. Try to modify analog gains.\n"
       ]
      },
      {
       "output_type": "stream",
       "stream": "stderr",
       "text": [
        "WARNING:pyrpl.signal:Implemented value for proportional of output piezo_direct has saturated more than 10% away from desired value. Try to modify analog gains.\n"
       ]
      },
      {
       "output_type": "stream",
       "stream": "stderr",
       "text": [
        "WARNING:pyrpl.signal:Implemented value for differentiator of output current has saturated more than 10% away from desired value. Try to modify analog gains.\n"
       ]
      },
      {
       "output_type": "stream",
       "stream": "stderr",
       "text": [
        "WARNING:pyrpl.signal:Implemented value for proportional of output piezo_direct has saturated more than 10% away from desired value. Try to modify analog gains.\n"
       ]
      },
      {
       "output_type": "stream",
       "stream": "stderr",
       "text": [
        "WARNING:pyrpl.signal:Implemented value for differentiator of output current has saturated more than 10% away from desired value. Try to modify analog gains.\n"
       ]
      },
      {
       "output_type": "stream",
       "stream": "stderr",
       "text": [
        "WARNING:pyrpl.signal:Implemented value for proportional of output piezo_direct has saturated more than 10% away from desired value. Try to modify analog gains.\n"
       ]
      },
      {
       "output_type": "stream",
       "stream": "stderr",
       "text": [
        "WARNING:pyrpl.signal:Implemented value for differentiator of output current has saturated more than 10% away from desired value. Try to modify analog gains.\n"
       ]
      }
     ],
     "prompt_number": 14
    },
    {
     "cell_type": "code",
     "collapsed": false,
     "input": [
      "from pyinstruments import CurveDB\n",
      "c = CurveDB.objects.get(id=224592)\n",
      "#figure()\n",
      "plot(real(c.data), imag(c.data))\n",
      "gca().set_aspect('equal')"
     ],
     "language": "python",
     "metadata": {},
     "outputs": [
      {
       "output_type": "stream",
       "stream": "stderr",
       "text": [
        "C:\\Users\\Membranes\\Documents\\GitHub\\pyrpl\\pyrpl\\gui\\redpitaya_gui.py:1005: VisibleDeprecationWarning: using a non-integer number instead of an integer will result in an error in the future\n",
        "  self.data = np.zeros(self.module.points, dtype=complex)\n",
        "\n"
       ]
      },
      {
       "output_type": "stream",
       "stream": "stderr",
       "text": [
        "WARNING:py.warnings:C:\\Users\\Membranes\\Documents\\GitHub\\pyrpl\\pyrpl\\gui\\redpitaya_gui.py:1005: VisibleDeprecationWarning: using a non-integer number instead of an integer will result in an error in the future\n",
        "  self.data = np.zeros(self.module.points, dtype=complex)\n",
        "\n"
       ]
      },
      {
       "output_type": "stream",
       "stream": "stderr",
       "text": [
        "C:\\Users\\Membranes\\Documents\\GitHub\\pyrpl\\pyrpl\\gui\\redpitaya_gui.py:1006: VisibleDeprecationWarning: using a non-integer number instead of an integer will result in an error in the future\n",
        "  self.x = np.empty(self.module.points)\n",
        "\n"
       ]
      },
      {
       "output_type": "stream",
       "stream": "stderr",
       "text": [
        "WARNING:py.warnings:C:\\Users\\Membranes\\Documents\\GitHub\\pyrpl\\pyrpl\\gui\\redpitaya_gui.py:1006: VisibleDeprecationWarning: using a non-integer number instead of an integer will result in an error in the future\n",
        "  self.x = np.empty(self.module.points)\n",
        "\n"
       ]
      }
     ],
     "prompt_number": 22
    },
    {
     "cell_type": "code",
     "collapsed": false,
     "input": [
      "r.lock(firststage='pdh', detuning=0.05)"
     ],
     "language": "python",
     "metadata": {},
     "outputs": [
      {
       "output_type": "stream",
       "stream": "stderr",
       "text": [
        "WARNING:pyrpl.signal:Implemented value for differentiator of output current has saturated more than 10% away from desired value. Try to modify analog gains.\n"
       ]
      },
      {
       "output_type": "stream",
       "stream": "stderr",
       "text": [
        "WARNING:pyrpl.signal:Implemented value for setpoint of output piezo_direct has saturated more than 10% away from desired value. Try to modify analog gains.\n"
       ]
      },
      {
       "output_type": "stream",
       "stream": "stderr",
       "text": [
        "WARNING:pyrpl.signal:Implemented value for differentiator of output current has saturated more than 10% away from desired value. Try to modify analog gains.\n"
       ]
      },
      {
       "output_type": "stream",
       "stream": "stderr",
       "text": [
        "WARNING:pyrpl.signal:Implemented value for setpoint of output piezo_direct has saturated more than 10% away from desired value. Try to modify analog gains.\n"
       ]
      },
      {
       "output_type": "stream",
       "stream": "stderr",
       "text": [
        "WARNING:pyrpl.signal:Implemented value for differentiator of output current has saturated more than 10% away from desired value. Try to modify analog gains.\n"
       ]
      },
      {
       "output_type": "stream",
       "stream": "stderr",
       "text": [
        "WARNING:pyrpl.signal:Implemented value for setpoint of output piezo_direct has saturated more than 10% away from desired value. Try to modify analog gains.\n"
       ]
      },
      {
       "output_type": "stream",
       "stream": "stderr",
       "text": [
        "WARNING:pyrpl.signal:Implemented value for differentiator of output current has saturated more than 10% away from desired value. Try to modify analog gains.\n"
       ]
      },
      {
       "output_type": "stream",
       "stream": "stderr",
       "text": [
        "WARNING:pyrpl.signal:Implemented value for setpoint of output piezo_direct has saturated more than 10% away from desired value. Try to modify analog gains.\n"
       ]
      },
      {
       "output_type": "stream",
       "stream": "stderr",
       "text": [
        "WARNING:pyrpl.signal:Implemented value for differentiator of output current has saturated more than 10% away from desired value. Try to modify analog gains.\n"
       ]
      },
      {
       "output_type": "stream",
       "stream": "stderr",
       "text": [
        "WARNING:pyrpl.signal:Implemented value for setpoint of output piezo_direct has saturated more than 10% away from desired value. Try to modify analog gains.\n"
       ]
      },
      {
       "output_type": "stream",
       "stream": "stderr",
       "text": [
        "WARNING:pyrpl.signal:Implemented value for differentiator of output current has saturated more than 10% away from desired value. Try to modify analog gains.\n"
       ]
      },
      {
       "output_type": "stream",
       "stream": "stderr",
       "text": [
        "WARNING:pyrpl.signal:Implemented value for setpoint of output piezo_direct has saturated more than 10% away from desired value. Try to modify analog gains.\n"
       ]
      },
      {
       "output_type": "stream",
       "stream": "stderr",
       "text": [
        "WARNING:pyrpl.signal:Implemented value for differentiator of output current has saturated more than 10% away from desired value. Try to modify analog gains.\n"
       ]
      },
      {
       "output_type": "stream",
       "stream": "stderr",
       "text": [
        "WARNING:pyrpl.signal:Implemented value for setpoint of output piezo_direct has saturated more than 10% away from desired value. Try to modify analog gains.\n"
       ]
      },
      {
       "output_type": "stream",
       "stream": "stderr",
       "text": [
        "WARNING:pyrpl.signal:Implemented value for differentiator of output current has saturated more than 10% away from desired value. Try to modify analog gains.\n"
       ]
      },
      {
       "output_type": "stream",
       "stream": "stderr",
       "text": [
        "WARNING:pyrpl.signal:Implemented value for setpoint of output piezo_direct has saturated more than 10% away from desired value. Try to modify analog gains.\n"
       ]
      },
      {
       "output_type": "stream",
       "stream": "stderr",
       "text": [
        "WARNING:pyrpl.signal:Implemented value for differentiator of output current has saturated more than 10% away from desired value. Try to modify analog gains.\n"
       ]
      },
      {
       "output_type": "stream",
       "stream": "stderr",
       "text": [
        "WARNING:pyrpl.signal:Implemented value for setpoint of output piezo_direct has saturated more than 10% away from desired value. Try to modify analog gains.\n"
       ]
      },
      {
       "output_type": "stream",
       "stream": "stderr",
       "text": [
        "WARNING:pyrpl.signal:Implemented value for differentiator of output current has saturated more than 10% away from desired value. Try to modify analog gains.\n"
       ]
      },
      {
       "output_type": "stream",
       "stream": "stderr",
       "text": [
        "WARNING:pyrpl.signal:Implemented value for setpoint of output piezo_direct has saturated more than 10% away from desired value. Try to modify analog gains.\n"
       ]
      },
      {
       "output_type": "stream",
       "stream": "stderr",
       "text": [
        "WARNING:pyrpl.signal:Implemented value for differentiator of output current has saturated more than 10% away from desired value. Try to modify analog gains.\n"
       ]
      },
      {
       "output_type": "stream",
       "stream": "stderr",
       "text": [
        "WARNING:pyrpl.signal:Implemented value for setpoint of output piezo_direct has saturated more than 10% away from desired value. Try to modify analog gains.\n"
       ]
      },
      {
       "output_type": "stream",
       "stream": "stderr",
       "text": [
        "WARNING:pyrpl.signal:Implemented value for differentiator of output current has saturated more than 10% away from desired value. Try to modify analog gains.\n"
       ]
      },
      {
       "output_type": "stream",
       "stream": "stderr",
       "text": [
        "WARNING:pyrpl.signal:Implemented value for differentiator of output current has saturated more than 10% away from desired value. Try to modify analog gains.\n"
       ]
      },
      {
       "output_type": "stream",
       "stream": "stderr",
       "text": [
        "WARNING:pyrpl.signal:Implemented value for setpoint of output piezo_direct has saturated more than 10% away from desired value. Try to modify analog gains.\n"
       ]
      },
      {
       "output_type": "stream",
       "stream": "stderr",
       "text": [
        "WARNING:pyrpl.signal:Implemented value for differentiator of output current has saturated more than 10% away from desired value. Try to modify analog gains.\n"
       ]
      },
      {
       "output_type": "stream",
       "stream": "stderr",
       "text": [
        "WARNING:pyrpl.signal:Implemented value for setpoint of output piezo_direct has saturated more than 10% away from desired value. Try to modify analog gains.\n"
       ]
      },
      {
       "output_type": "stream",
       "stream": "stderr",
       "text": [
        "WARNING:pyrpl.signal:Implemented value for differentiator of output current has saturated more than 10% away from desired value. Try to modify analog gains.\n"
       ]
      },
      {
       "output_type": "stream",
       "stream": "stderr",
       "text": [
        "WARNING:pyrpl.signal:Implemented value for setpoint of output piezo_direct has saturated more than 10% away from desired value. Try to modify analog gains.\n"
       ]
      },
      {
       "output_type": "stream",
       "stream": "stderr",
       "text": [
        "WARNING:pyrpl.signal:Implemented value for differentiator of output current has saturated more than 10% away from desired value. Try to modify analog gains.\n"
       ]
      },
      {
       "output_type": "stream",
       "stream": "stderr",
       "text": [
        "C:\\Python27\\lib\\site-packages\\pyqtgraph\\graphicsItems\\ScatterPlotItem.py:186: VisibleDeprecationWarning: using a non-integer number instead of an integer will result in an error in the future\n",
        "  self.atlasData[x:x+w, y:y+h] = rendered[key]\n",
        "\n"
       ]
      },
      {
       "output_type": "stream",
       "stream": "stderr",
       "text": [
        "WARNING:py.warnings:C:\\Python27\\lib\\site-packages\\pyqtgraph\\graphicsItems\\ScatterPlotItem.py:186: VisibleDeprecationWarning: using a non-integer number instead of an integer will result in an error in the future\n",
        "  self.atlasData[x:x+w, y:y+h] = rendered[key]\n",
        "\n"
       ]
      },
      {
       "output_type": "stream",
       "stream": "stderr",
       "text": [
        "C:\\Python27\\lib\\site-packages\\pyqtgraph\\graphicsItems\\ScatterPlotItem.py:148: VisibleDeprecationWarning: using a non-integer number instead of an integer will result in an error in the future\n",
        "  arr = self.atlasData[x:x+w, y:y+w]\n",
        "\n"
       ]
      },
      {
       "output_type": "stream",
       "stream": "stderr",
       "text": [
        "WARNING:py.warnings:C:\\Python27\\lib\\site-packages\\pyqtgraph\\graphicsItems\\ScatterPlotItem.py:148: VisibleDeprecationWarning: using a non-integer number instead of an integer will result in an error in the future\n",
        "  arr = self.atlasData[x:x+w, y:y+w]\n",
        "\n"
       ]
      },
      {
       "output_type": "stream",
       "stream": "stderr",
       "text": [
        "C:\\Python27\\lib\\site-packages\\pyqtgraph\\graphicsItems\\ScatterPlotItem.py:183: VisibleDeprecationWarning: using a non-integer number instead of an integer will result in an error in the future\n",
        "  self.atlasData = np.zeros((width, height, 4), dtype=np.ubyte)\n",
        "\n"
       ]
      },
      {
       "output_type": "stream",
       "stream": "stderr",
       "text": [
        "WARNING:py.warnings:C:\\Python27\\lib\\site-packages\\pyqtgraph\\graphicsItems\\ScatterPlotItem.py:183: VisibleDeprecationWarning: using a non-integer number instead of an integer will result in an error in the future\n",
        "  self.atlasData = np.zeros((width, height, 4), dtype=np.ubyte)\n",
        "\n"
       ]
      }
     ],
     "prompt_number": 16
    },
    {
     "cell_type": "code",
     "collapsed": false,
     "input": [
      "1./(0.0001/20)"
     ],
     "language": "python",
     "metadata": {},
     "outputs": [
      {
       "metadata": {},
       "output_type": "pyout",
       "prompt_number": 6,
       "text": [
        "199999.99999999997"
       ]
      },
      {
       "output_type": "stream",
       "stream": "stderr",
       "text": [
        "WARNING:pyrpl.signal:Implemented value for setpoint of output piezo_direct has saturated more than 10% away from desired value. Try to modify analog gains.\n"
       ]
      },
      {
       "output_type": "stream",
       "stream": "stderr",
       "text": [
        "WARNING:pyrpl.signal:Implemented value for differentiator of output current has saturated more than 10% away from desired value. Try to modify analog gains.\n"
       ]
      },
      {
       "output_type": "stream",
       "stream": "stderr",
       "text": [
        "WARNING:pyrpl.signal:Implemented value for setpoint of output piezo_direct has saturated more than 10% away from desired value. Try to modify analog gains.\n"
       ]
      },
      {
       "output_type": "stream",
       "stream": "stderr",
       "text": [
        "WARNING:pyrpl.signal:Implemented value for differentiator of output current has saturated more than 10% away from desired value. Try to modify analog gains.\n"
       ]
      },
      {
       "output_type": "stream",
       "stream": "stderr",
       "text": [
        "WARNING:pyrpl.signal:Implemented value for setpoint of output piezo_direct has saturated more than 10% away from desired value. Try to modify analog gains.\n"
       ]
      },
      {
       "output_type": "stream",
       "stream": "stderr",
       "text": [
        "WARNING:pyrpl.signal:Implemented value for setpoint of output piezo_direct has saturated more than 10% away from desired value. Try to modify analog gains.\n"
       ]
      },
      {
       "output_type": "stream",
       "stream": "stderr",
       "text": [
        "WARNING:pyrpl.signal:Implemented value for setpoint of output piezo_direct has saturated more than 10% away from desired value. Try to modify analog gains.\n"
       ]
      },
      {
       "output_type": "stream",
       "stream": "stderr",
       "text": [
        "WARNING:pyrpl.signal:Implemented value for setpoint of output piezo_direct has saturated more than 10% away from desired value. Try to modify analog gains.\n"
       ]
      },
      {
       "output_type": "stream",
       "stream": "stderr",
       "text": [
        "WARNING:pyrpl.signal:Implemented value for setpoint of output piezo_direct has saturated more than 10% away from desired value. Try to modify analog gains.\n"
       ]
      },
      {
       "output_type": "stream",
       "stream": "stderr",
       "text": [
        "WARNING:pyrpl.signal:Implemented value for setpoint of output piezo_direct has saturated more than 10% away from desired value. Try to modify analog gains.\n"
       ]
      },
      {
       "output_type": "stream",
       "stream": "stderr",
       "text": [
        "WARNING:pyrpl.signal:Implemented value for differentiator of output current has saturated more than 10% away from desired value. Try to modify analog gains.\n"
       ]
      },
      {
       "output_type": "stream",
       "stream": "stderr",
       "text": [
        "WARNING:pyrpl.signal:Implemented value for setpoint of output piezo_direct has saturated more than 10% away from desired value. Try to modify analog gains.\n"
       ]
      },
      {
       "output_type": "stream",
       "stream": "stderr",
       "text": [
        "WARNING:pyrpl.signal:Implemented value for differentiator of output current has saturated more than 10% away from desired value. Try to modify analog gains.\n"
       ]
      },
      {
       "output_type": "stream",
       "stream": "stderr",
       "text": [
        "WARNING:pyrpl.signal:Implemented value for setpoint of output piezo_direct has saturated more than 10% away from desired value. Try to modify analog gains.\n"
       ]
      },
      {
       "output_type": "stream",
       "stream": "stderr",
       "text": [
        "WARNING:pyrpl.signal:Implemented value for differentiator of output current has saturated more than 10% away from desired value. Try to modify analog gains.\n"
       ]
      },
      {
       "output_type": "stream",
       "stream": "stderr",
       "text": [
        "WARNING:pyrpl.signal:Implemented value for setpoint of output piezo_direct has saturated more than 10% away from desired value. Try to modify analog gains.\n"
       ]
      },
      {
       "output_type": "stream",
       "stream": "stderr",
       "text": [
        "WARNING:pyrpl.signal:Implemented value for differentiator of output current has saturated more than 10% away from desired value. Try to modify analog gains.\n"
       ]
      },
      {
       "output_type": "stream",
       "stream": "stderr",
       "text": [
        "WARNING:pyrpl.signal:Implemented value for setpoint of output piezo_direct has saturated more than 10% away from desired value. Try to modify analog gains.\n"
       ]
      },
      {
       "output_type": "stream",
       "stream": "stderr",
       "text": [
        "WARNING:pyrpl.signal:Implemented value for differentiator of output current has saturated more than 10% away from desired value. Try to modify analog gains.\n"
       ]
      },
      {
       "output_type": "stream",
       "stream": "stderr",
       "text": [
        "WARNING:pyrpl.signal:Implemented value for setpoint of output piezo_direct has saturated more than 10% away from desired value. Try to modify analog gains.\n"
       ]
      },
      {
       "output_type": "stream",
       "stream": "stderr",
       "text": [
        "WARNING:pyrpl.signal:Implemented value for differentiator of output current has saturated more than 10% away from desired value. Try to modify analog gains.\n"
       ]
      },
      {
       "output_type": "stream",
       "stream": "stderr",
       "text": [
        "WARNING:pyrpl.signal:Implemented value for setpoint of output piezo_direct has saturated more than 10% away from desired value. Try to modify analog gains.\n"
       ]
      },
      {
       "output_type": "stream",
       "stream": "stderr",
       "text": [
        "WARNING:pyrpl.signal:Implemented value for differentiator of output current has saturated more than 10% away from desired value. Try to modify analog gains.\n"
       ]
      },
      {
       "output_type": "stream",
       "stream": "stderr",
       "text": [
        "WARNING:pyrpl.signal:Implemented value for setpoint of output piezo_direct has saturated more than 10% away from desired value. Try to modify analog gains.\n"
       ]
      },
      {
       "output_type": "stream",
       "stream": "stderr",
       "text": [
        "WARNING:pyrpl.signal:Implemented value for differentiator of output current has saturated more than 10% away from desired value. Try to modify analog gains.\n"
       ]
      },
      {
       "output_type": "stream",
       "stream": "stderr",
       "text": [
        "WARNING:pyrpl.signal:Implemented value for setpoint of output piezo_direct has saturated more than 10% away from desired value. Try to modify analog gains.\n"
       ]
      }
     ],
     "prompt_number": 6
    },
    {
     "cell_type": "code",
     "collapsed": false,
     "input": [
      "x = logspace(2,5)\n",
      "c = r.rp.pid2.transfer_function(x)"
     ],
     "language": "python",
     "metadata": {},
     "outputs": [],
     "prompt_number": 5
    },
    {
     "cell_type": "code",
     "collapsed": false,
     "input": [
      "\n"
     ],
     "language": "python",
     "metadata": {},
     "outputs": [],
     "prompt_number": 5
    },
    {
     "cell_type": "code",
     "collapsed": false,
     "input": [
      "loglog()"
     ],
     "language": "python",
     "metadata": {},
     "outputs": [
      {
       "metadata": {},
       "output_type": "pyout",
       "prompt_number": 63,
       "text": [
        "[]"
       ]
      },
      {
       "output_type": "stream",
       "stream": "stderr",
       "text": [
        "C:\\Python27\\lib\\site-packages\\numpy\\ma\\core.py:4139: UserWarning: Warning: converting a masked element to nan.\n",
        "  warnings.warn(\"Warning: converting a masked element to nan.\")\n",
        "\n"
       ]
      },
      {
       "output_type": "stream",
       "stream": "stderr",
       "text": [
        "WARNING:py.warnings:C:\\Python27\\lib\\site-packages\\numpy\\ma\\core.py:4139: UserWarning: Warning: converting a masked element to nan.\n",
        "  warnings.warn(\"Warning: converting a masked element to nan.\")\n",
        "\n"
       ]
      }
     ],
     "prompt_number": 63
    },
    {
     "cell_type": "code",
     "collapsed": false,
     "input": [
      "curve.argmax()"
     ],
     "language": "python",
     "metadata": {},
     "outputs": [
      {
       "metadata": {},
       "output_type": "pyout",
       "prompt_number": 5,
       "text": [
        "8192"
       ]
      }
     ],
     "prompt_number": 5
    },
    {
     "cell_type": "code",
     "collapsed": false,
     "input": [
      "len(curve)/2"
     ],
     "language": "python",
     "metadata": {},
     "outputs": [
      {
       "metadata": {},
       "output_type": "pyout",
       "prompt_number": 6,
       "text": [
        "8192"
       ]
      }
     ],
     "prompt_number": 6
    },
    {
     "cell_type": "code",
     "collapsed": false,
     "input": [
      "r.model.sweep()"
     ],
     "language": "python",
     "metadata": {},
     "outputs": [],
     "prompt_number": 6
    },
    {
     "cell_type": "code",
     "collapsed": false,
     "input": [
      "r.model.zoom"
     ],
     "language": "python",
     "metadata": {},
     "outputs": [
      {
       "metadata": {},
       "output_type": "pyout",
       "prompt_number": 9,
       "text": [
        "<bound method FPMembranes.zoom of <pyrpl.models.fabryperotmembranes.FPMembranes object at 0x112DC870>>"
       ]
      }
     ],
     "prompt_number": 9
    },
    {
     "cell_type": "code",
     "collapsed": false,
     "input": [
      "t._config"
     ],
     "language": "python",
     "metadata": {},
     "outputs": [
      {
       "metadata": {},
       "output_type": "pyout",
       "prompt_number": 7,
       "text": [
        "MemoryBranch(['rms', 'offset_subtraction', 'trigger_delay', 'autosave', 'hysteresis', 'duration', 'trigger_source', 'peak', 'offset', 'threshold', 'V_per_V', 'acquire_timeout', 'unit', 'min', 'average', 'curve', 'raw_per_V', 'points', 'max', 'redpitaya_input', 'mean'])"
       ]
      }
     ],
     "prompt_number": 7
    },
    {
     "cell_type": "code",
     "collapsed": false,
     "input": [
      "figure()\n",
      "x = logspace(0,5)\n",
      "y = r.rp.pid1.transfer_function(x)\n",
      "loglog(x, abs(y))"
     ],
     "language": "python",
     "metadata": {},
     "outputs": [
      {
       "metadata": {},
       "output_type": "pyout",
       "prompt_number": 140,
       "text": [
        "[<matplotlib.lines.Line2D at 0x1b1b7450>]"
       ]
      },
      {
       "output_type": "stream",
       "stream": "stderr",
       "text": [
        "WARNING:pyrpl.signal:Implemented value for setpoint of output piezo_direct has saturated more than 10% away from desired value. Try to modify analog gains.\n"
       ]
      },
      {
       "output_type": "stream",
       "stream": "stderr",
       "text": [
        "WARNING:pyrpl.signal:Implemented value for differentiator of output current has saturated more than 10% away from desired value. Try to modify analog gains.\n"
       ]
      },
      {
       "output_type": "stream",
       "stream": "stderr",
       "text": [
        "WARNING:pyrpl.signal:Implemented value for setpoint of output piezo_direct has saturated more than 10% away from desired value. Try to modify analog gains.\n"
       ]
      },
      {
       "output_type": "stream",
       "stream": "stderr",
       "text": [
        "WARNING:pyrpl.signal:Implemented value for differentiator of output current has saturated more than 10% away from desired value. Try to modify analog gains.\n"
       ]
      },
      {
       "output_type": "stream",
       "stream": "stderr",
       "text": [
        "WARNING:pyrpl.signal:Implemented value for setpoint of output piezo_direct has saturated more than 10% away from desired value. Try to modify analog gains.\n"
       ]
      },
      {
       "output_type": "stream",
       "stream": "stderr",
       "text": [
        "WARNING:pyrpl.signal:Implemented value for differentiator of output current has saturated more than 10% away from desired value. Try to modify analog gains.\n"
       ]
      },
      {
       "output_type": "stream",
       "stream": "stderr",
       "text": [
        "C:\\Users\\Membranes\\Documents\\GitHub\\pyrpl\\pyrpl\\gui\\redpitaya_gui.py:996: VisibleDeprecationWarning: using a non-integer number instead of an integer will result in an error in the future\n",
        "  self.save_curve(self.x[:self.last_valid_point],\n",
        "\n"
       ]
      },
      {
       "output_type": "stream",
       "stream": "stderr",
       "text": [
        "WARNING:py.warnings:C:\\Users\\Membranes\\Documents\\GitHub\\pyrpl\\pyrpl\\gui\\redpitaya_gui.py:996: VisibleDeprecationWarning: using a non-integer number instead of an integer will result in an error in the future\n",
        "  self.save_curve(self.x[:self.last_valid_point],\n",
        "\n"
       ]
      },
      {
       "output_type": "stream",
       "stream": "stderr",
       "text": [
        "C:\\Users\\Membranes\\Documents\\GitHub\\pyrpl\\pyrpl\\gui\\redpitaya_gui.py:997: VisibleDeprecationWarning: using a non-integer number instead of an integer will result in an error in the future\n",
        "  self.data[:self.last_valid_point],\n",
        "\n"
       ]
      },
      {
       "output_type": "stream",
       "stream": "stderr",
       "text": [
        "WARNING:py.warnings:C:\\Users\\Membranes\\Documents\\GitHub\\pyrpl\\pyrpl\\gui\\redpitaya_gui.py:997: VisibleDeprecationWarning: using a non-integer number instead of an integer will result in an error in the future\n",
        "  self.data[:self.last_valid_point],\n",
        "\n"
       ]
      },
      {
       "output_type": "stream",
       "stream": "stderr",
       "text": [
        "WARNING:pyrpl.signal:Implemented value for setpoint of output piezo_direct has saturated more than 10% away from desired value. Try to modify analog gains.\n"
       ]
      },
      {
       "output_type": "stream",
       "stream": "stderr",
       "text": [
        "WARNING:pyrpl.signal:Implemented value for differentiator of output current has saturated more than 10% away from desired value. Try to modify analog gains.\n"
       ]
      },
      {
       "output_type": "stream",
       "stream": "stderr",
       "text": [
        "WARNING:pyrpl.signal:Implemented value for setpoint of output piezo_direct has saturated more than 10% away from desired value. Try to modify analog gains.\n"
       ]
      },
      {
       "output_type": "stream",
       "stream": "stderr",
       "text": [
        "WARNING:pyrpl.signal:Implemented value for differentiator of output current has saturated more than 10% away from desired value. Try to modify analog gains.\n"
       ]
      },
      {
       "output_type": "stream",
       "stream": "stderr",
       "text": [
        "WARNING:pyrpl.signal:Implemented value for setpoint of output piezo_direct has saturated more than 10% away from desired value. Try to modify analog gains.\n"
       ]
      },
      {
       "output_type": "stream",
       "stream": "stderr",
       "text": [
        "WARNING:pyrpl.signal:Implemented value for differentiator of output current has saturated more than 10% away from desired value. Try to modify analog gains.\n"
       ]
      },
      {
       "output_type": "stream",
       "stream": "stderr",
       "text": [
        "WARNING:pyrpl.signal:Implemented value for setpoint of output piezo_direct has saturated more than 10% away from desired value. Try to modify analog gains.\n"
       ]
      },
      {
       "output_type": "stream",
       "stream": "stderr",
       "text": [
        "WARNING:pyrpl.signal:Implemented value for differentiator of output current has saturated more than 10% away from desired value. Try to modify analog gains.\n"
       ]
      },
      {
       "output_type": "stream",
       "stream": "stderr",
       "text": [
        "WARNING:pyrpl.signal:Implemented value for setpoint of output piezo_direct has saturated more than 10% away from desired value. Try to modify analog gains.\n"
       ]
      },
      {
       "output_type": "stream",
       "stream": "stderr",
       "text": [
        "WARNING:pyrpl.signal:Implemented value for differentiator of output current has saturated more than 10% away from desired value. Try to modify analog gains.\n"
       ]
      }
     ],
     "prompt_number": 140
    },
    {
     "cell_type": "code",
     "collapsed": false,
     "input": [
      "val = 0.1\n",
      "rp.pid3.ival = val"
     ],
     "language": "python",
     "metadata": {},
     "outputs": [],
     "prompt_number": 12
    },
    {
     "cell_type": "code",
     "collapsed": false,
     "input": [
      "from pyrpl.pyrpl_utils import sleep\n",
      "sleep(0.1)"
     ],
     "language": "python",
     "metadata": {},
     "outputs": [],
     "prompt_number": 16
    },
    {
     "cell_type": "code",
     "collapsed": false,
     "input": [
      "if(rp.scope.voltage1>self.inputs['transmission'].max * 0.7):\n",
      "    print \"yes\""
     ],
     "language": "python",
     "metadata": {},
     "outputs": [],
     "prompt_number": 14
    },
    {
     "cell_type": "code",
     "collapsed": false,
     "input": [
      "rp.scope.voltage1"
     ],
     "language": "python",
     "metadata": {},
     "outputs": [
      {
       "metadata": {},
       "output_type": "pyout",
       "prompt_number": 17,
       "text": [
        "-0.0098876953125"
       ]
      }
     ],
     "prompt_number": 17
    },
    {
     "cell_type": "code",
     "collapsed": false,
     "input": [
      "\n",
      "t = self.inputs['transmission']"
     ],
     "language": "python",
     "metadata": {},
     "outputs": [],
     "prompt_number": 20
    },
    {
     "cell_type": "code",
     "collapsed": false,
     "input": [
      "t._config.max"
     ],
     "language": "python",
     "metadata": {},
     "outputs": [
      {
       "metadata": {},
       "output_type": "pyout",
       "prompt_number": 23,
       "text": [
        "0.39"
       ]
      }
     ],
     "prompt_number": 23
    },
    {
     "cell_type": "code",
     "collapsed": false,
     "input": [
      "2./1.35"
     ],
     "language": "python",
     "metadata": {},
     "outputs": [
      {
       "metadata": {},
       "output_type": "pyout",
       "prompt_number": 4,
       "text": [
        "1.4814814814814814"
       ]
      }
     ],
     "prompt_number": 4
    },
    {
     "cell_type": "code",
     "collapsed": false,
     "input": [
      "8.16/1.5"
     ],
     "language": "python",
     "metadata": {},
     "outputs": [
      {
       "metadata": {},
       "output_type": "pyout",
       "prompt_number": 5,
       "text": [
        "5.44"
       ]
      }
     ],
     "prompt_number": 5
    },
    {
     "cell_type": "code",
     "collapsed": false,
     "input": [
      "%restart"
     ],
     "language": "python",
     "metadata": {},
     "outputs": [
      {
       "output_type": "stream",
       "stream": "stderr",
       "text": [
        "ERROR: Line magic function `%restart` not found.\n"
       ]
      }
     ],
     "prompt_number": 4
    },
    {
     "cell_type": "code",
     "collapsed": false,
     "input": [
      "import numpy as np\n",
      "volt_peaks = [1.,3.2,5,4.4,6,3]\n",
      "np.argmin(np.abs(np.diff(volt_peaks)))"
     ],
     "language": "python",
     "metadata": {},
     "outputs": [
      {
       "metadata": {},
       "output_type": "pyout",
       "prompt_number": 8,
       "text": [
        "2"
       ]
      }
     ],
     "prompt_number": 8
    },
    {
     "cell_type": "code",
     "collapsed": false,
     "input": [
      "np.abs(np.diff(volt_peaks))"
     ],
     "language": "python",
     "metadata": {},
     "outputs": [
      {
       "metadata": {},
       "output_type": "pyout",
       "prompt_number": 9,
       "text": [
        "array([ 2.2,  1.8,  0.6,  1.6,  3. ])"
       ]
      }
     ],
     "prompt_number": 9
    },
    {
     "cell_type": "code",
     "collapsed": false,
     "input": [
      "volt_peaks[3]"
     ],
     "language": "python",
     "metadata": {},
     "outputs": [
      {
       "metadata": {},
       "output_type": "pyout",
       "prompt_number": 11,
       "text": [
        "4.4"
       ]
      }
     ],
     "prompt_number": 11
    },
    {
     "cell_type": "code",
     "collapsed": false,
     "input": [
      "%debug"
     ],
     "language": "python",
     "metadata": {},
     "outputs": [
      {
       "output_type": "stream",
       "stream": "stdout",
       "text": [
        "> \u001b[1;32mc:\\users\\membranes\\documents\\github\\pyrpl\\pyrpl\\models\\fabryperotmembranes.py\u001b[0m(37)\u001b[0;36mzoom\u001b[1;34m()\u001b[0m\n",
        "\u001b[1;32m     36 \u001b[1;33m            \u001b[1;32mif\u001b[0m \u001b[0mnp\u001b[0m\u001b[1;33m.\u001b[0m\u001b[0mmax\u001b[0m\u001b[1;33m(\u001b[0m\u001b[0mcurve\u001b[0m\u001b[1;33m)\u001b[0m\u001b[1;33m>\u001b[0m\u001b[0mthreshold\u001b[0m\u001b[1;33m:\u001b[0m\u001b[1;33m\u001b[0m\u001b[0m\n",
        "\u001b[0m\u001b[1;32m---> 37 \u001b[1;33m                \u001b[1;32mbreak\u001b[0m\u001b[1;33m\u001b[0m\u001b[0m\n",
        "\u001b[0m\u001b[1;32m     38 \u001b[1;33m        \u001b[0mscope\u001b[0m\u001b[1;33m.\u001b[0m\u001b[0mrun_continuous\u001b[0m\u001b[1;33m(\u001b[0m\u001b[1;33m)\u001b[0m\u001b[1;33m\u001b[0m\u001b[0m\n",
        "\u001b[0m\n"
       ]
      },
      {
       "name": "stdout",
       "output_type": "stream",
       "stream": "stdout",
       "text": [
        "ipdb> from matplotlib.pyplot import *\n"
       ]
      },
      {
       "name": "stdout",
       "output_type": "stream",
       "stream": "stdout",
       "text": [
        "ipdb> plot(curve)\n"
       ]
      },
      {
       "output_type": "stream",
       "stream": "stdout",
       "text": [
        "[<matplotlib.lines.Line2D object at 0x124366D0>]\n"
       ]
      },
      {
       "name": "stdout",
       "output_type": "stream",
       "stream": "stdout",
       "text": [
        "ipdb> show()\n"
       ]
      },
      {
       "name": "stdout",
       "output_type": "stream",
       "stream": "stdout",
       "text": [
        "ipdb> c\n"
       ]
      }
     ],
     "prompt_number": 3
    },
    {
     "cell_type": "code",
     "collapsed": false,
     "input": [
      "r.rp.scope_widget.run_continuous()"
     ],
     "language": "python",
     "metadata": {},
     "outputs": [],
     "prompt_number": 4
    },
    {
     "cell_type": "code",
     "collapsed": false,
     "input": [
      "r.lock(firststage='pdh', detuning=0.3)"
     ],
     "language": "python",
     "metadata": {},
     "outputs": [
      {
       "output_type": "stream",
       "stream": "stderr",
       "text": [
        "WARNING:pyrpl.signal:Implemented value for differentiator of output current has saturated more than 10% away from desired value. Try to modify analog gains.\n"
       ]
      },
      {
       "output_type": "stream",
       "stream": "stderr",
       "text": [
        "WARNING:pyrpl.signal:Implemented value for setpoint of output piezo_direct has saturated more than 10% away from desired value. Try to modify analog gains.\n"
       ]
      },
      {
       "output_type": "stream",
       "stream": "stderr",
       "text": [
        "WARNING:pyrpl.signal:Implemented value for differentiator of output current has saturated more than 10% away from desired value. Try to modify analog gains.\n"
       ]
      },
      {
       "output_type": "stream",
       "stream": "stderr",
       "text": [
        "WARNING:pyrpl.signal:Implemented value for setpoint of output piezo_direct has saturated more than 10% away from desired value. Try to modify analog gains.\n"
       ]
      },
      {
       "output_type": "stream",
       "stream": "stderr",
       "text": [
        "WARNING:pyrpl.signal:Implemented value for differentiator of output current has saturated more than 10% away from desired value. Try to modify analog gains.\n"
       ]
      },
      {
       "output_type": "stream",
       "stream": "stderr",
       "text": [
        "WARNING:pyrpl.signal:Implemented value for setpoint of output piezo_direct has saturated more than 10% away from desired value. Try to modify analog gains.\n"
       ]
      },
      {
       "output_type": "stream",
       "stream": "stderr",
       "text": [
        "WARNING:pyrpl.signal:Implemented value for differentiator of output current has saturated more than 10% away from desired value. Try to modify analog gains.\n"
       ]
      },
      {
       "output_type": "stream",
       "stream": "stderr",
       "text": [
        "WARNING:pyrpl.signal:Implemented value for setpoint of output piezo_direct has saturated more than 10% away from desired value. Try to modify analog gains.\n"
       ]
      },
      {
       "output_type": "stream",
       "stream": "stderr",
       "text": [
        "WARNING:pyrpl.signal:Implemented value for differentiator of output current has saturated more than 10% away from desired value. Try to modify analog gains.\n"
       ]
      },
      {
       "output_type": "stream",
       "stream": "stderr",
       "text": [
        "WARNING:pyrpl.signal:Implemented value for setpoint of output piezo_direct has saturated more than 10% away from desired value. Try to modify analog gains.\n"
       ]
      },
      {
       "output_type": "stream",
       "stream": "stderr",
       "text": [
        "WARNING:pyrpl.signal:Implemented value for differentiator of output current has saturated more than 10% away from desired value. Try to modify analog gains.\n"
       ]
      },
      {
       "output_type": "stream",
       "stream": "stderr",
       "text": [
        "WARNING:pyrpl.signal:Implemented value for setpoint of output piezo_direct has saturated more than 10% away from desired value. Try to modify analog gains.\n"
       ]
      },
      {
       "output_type": "stream",
       "stream": "stderr",
       "text": [
        "WARNING:pyrpl.signal:Implemented value for setpoint of output piezo_direct has saturated more than 10% away from desired value. Try to modify analog gains.\n"
       ]
      },
      {
       "output_type": "stream",
       "stream": "stderr",
       "text": [
        "WARNING:pyrpl.signal:Implemented value for differentiator of output current has saturated more than 10% away from desired value. Try to modify analog gains.\n"
       ]
      },
      {
       "output_type": "stream",
       "stream": "stderr",
       "text": [
        "WARNING:pyrpl.signal:Implemented value for setpoint of output piezo_direct has saturated more than 10% away from desired value. Try to modify analog gains.\n"
       ]
      },
      {
       "output_type": "stream",
       "stream": "stderr",
       "text": [
        "WARNING:pyrpl.signal:Implemented value for setpoint of output piezo_direct has saturated more than 10% away from desired value. Try to modify analog gains.\n"
       ]
      },
      {
       "output_type": "stream",
       "stream": "stderr",
       "text": [
        "WARNING:pyrpl.signal:Implemented value for differentiator of output current has saturated more than 10% away from desired value. Try to modify analog gains.\n"
       ]
      },
      {
       "output_type": "stream",
       "stream": "stderr",
       "text": [
        "WARNING:pyrpl.signal:Implemented value for setpoint of output piezo_direct has saturated more than 10% away from desired value. Try to modify analog gains.\n"
       ]
      },
      {
       "output_type": "stream",
       "stream": "stderr",
       "text": [
        "WARNING:pyrpl.signal:Implemented value for setpoint of output piezo_direct has saturated more than 10% away from desired value. Try to modify analog gains.\n"
       ]
      },
      {
       "output_type": "stream",
       "stream": "stderr",
       "text": [
        "WARNING:pyrpl.signal:Implemented value for setpoint of output piezo_direct has saturated more than 10% away from desired value. Try to modify analog gains.\n"
       ]
      },
      {
       "output_type": "stream",
       "stream": "stderr",
       "text": [
        "WARNING:pyrpl.signal:Implemented value for setpoint of output piezo_direct has saturated more than 10% away from desired value. Try to modify analog gains.\n"
       ]
      },
      {
       "output_type": "stream",
       "stream": "stderr",
       "text": [
        "WARNING:pyrpl.signal:Implemented value for setpoint of output piezo_direct has saturated more than 10% away from desired value. Try to modify analog gains.\n"
       ]
      },
      {
       "output_type": "stream",
       "stream": "stderr",
       "text": [
        "WARNING:pyrpl.signal:Implemented value for setpoint of output piezo_direct has saturated more than 10% away from desired value. Try to modify analog gains.\n"
       ]
      },
      {
       "output_type": "stream",
       "stream": "stderr",
       "text": [
        "WARNING:pyrpl.signal:Implemented value for setpoint of output piezo_direct has saturated more than 10% away from desired value. Try to modify analog gains.\n"
       ]
      },
      {
       "output_type": "stream",
       "stream": "stderr",
       "text": [
        "WARNING:pyrpl.signal:Implemented value for differentiator of output current has saturated more than 10% away from desired value. Try to modify analog gains.\n"
       ]
      },
      {
       "output_type": "stream",
       "stream": "stderr",
       "text": [
        "WARNING:pyrpl.signal:Implemented value for setpoint of output piezo_direct has saturated more than 10% away from desired value. Try to modify analog gains.\n"
       ]
      },
      {
       "output_type": "stream",
       "stream": "stderr",
       "text": [
        "WARNING:pyrpl.signal:Implemented value for setpoint of output piezo_direct has saturated more than 10% away from desired value. Try to modify analog gains.\n"
       ]
      },
      {
       "output_type": "stream",
       "stream": "stderr",
       "text": [
        "WARNING:pyrpl.signal:Implemented value for setpoint of output piezo_direct has saturated more than 10% away from desired value. Try to modify analog gains.\n"
       ]
      },
      {
       "output_type": "stream",
       "stream": "stderr",
       "text": [
        "WARNING:pyrpl.signal:Implemented value for setpoint of output piezo_direct has saturated more than 10% away from desired value. Try to modify analog gains.\n"
       ]
      },
      {
       "output_type": "stream",
       "stream": "stderr",
       "text": [
        "WARNING:pyrpl.signal:Implemented value for setpoint of output piezo_direct has saturated more than 10% away from desired value. Try to modify analog gains.\n"
       ]
      },
      {
       "output_type": "stream",
       "stream": "stderr",
       "text": [
        "WARNING:pyrpl.signal:Implemented value for setpoint of output piezo_direct has saturated more than 10% away from desired value. Try to modify analog gains.\n"
       ]
      },
      {
       "output_type": "stream",
       "stream": "stderr",
       "text": [
        "WARNING:pyrpl.signal:Implemented value for setpoint of output piezo_direct has saturated more than 10% away from desired value. Try to modify analog gains.\n"
       ]
      },
      {
       "output_type": "stream",
       "stream": "stderr",
       "text": [
        "WARNING:pyrpl.signal:Implemented value for differentiator of output current has saturated more than 10% away from desired value. Try to modify analog gains.\n"
       ]
      },
      {
       "output_type": "stream",
       "stream": "stderr",
       "text": [
        "WARNING:pyrpl.signal:Implemented value for setpoint of output piezo_direct has saturated more than 10% away from desired value. Try to modify analog gains.\n"
       ]
      },
      {
       "output_type": "stream",
       "stream": "stderr",
       "text": [
        "WARNING:pyrpl.signal:Implemented value for setpoint of output piezo_direct has saturated more than 10% away from desired value. Try to modify analog gains.\n"
       ]
      },
      {
       "output_type": "stream",
       "stream": "stderr",
       "text": [
        "WARNING:pyrpl.signal:Implemented value for setpoint of output piezo_direct has saturated more than 10% away from desired value. Try to modify analog gains.\n"
       ]
      },
      {
       "output_type": "stream",
       "stream": "stderr",
       "text": [
        "WARNING:pyrpl.signal:Implemented value for setpoint of output piezo_direct has saturated more than 10% away from desired value. Try to modify analog gains.\n"
       ]
      },
      {
       "output_type": "stream",
       "stream": "stderr",
       "text": [
        "WARNING:pyrpl.signal:Implemented value for setpoint of output piezo_direct has saturated more than 10% away from desired value. Try to modify analog gains.\n"
       ]
      },
      {
       "output_type": "stream",
       "stream": "stderr",
       "text": [
        "WARNING:pyrpl.signal:Implemented value for setpoint of output piezo_direct has saturated more than 10% away from desired value. Try to modify analog gains.\n"
       ]
      },
      {
       "output_type": "stream",
       "stream": "stderr",
       "text": [
        "WARNING:pyrpl.signal:Implemented value for setpoint of output piezo_direct has saturated more than 10% away from desired value. Try to modify analog gains.\n"
       ]
      },
      {
       "output_type": "stream",
       "stream": "stderr",
       "text": [
        "WARNING:pyrpl.signal:Implemented value for setpoint of output piezo_direct has saturated more than 10% away from desired value. Try to modify analog gains.\n"
       ]
      },
      {
       "output_type": "stream",
       "stream": "stderr",
       "text": [
        "WARNING:pyrpl.signal:Implemented value for setpoint of output piezo_direct has saturated more than 10% away from desired value. Try to modify analog gains.\n"
       ]
      },
      {
       "output_type": "stream",
       "stream": "stderr",
       "text": [
        "WARNING:pyrpl.signal:Implemented value for setpoint of output piezo_direct has saturated more than 10% away from desired value. Try to modify analog gains.\n"
       ]
      },
      {
       "output_type": "stream",
       "stream": "stderr",
       "text": [
        "WARNING:pyrpl.signal:Implemented value for setpoint of output piezo_direct has saturated more than 10% away from desired value. Try to modify analog gains.\n"
       ]
      },
      {
       "output_type": "stream",
       "stream": "stderr",
       "text": [
        "WARNING:pyrpl.signal:Implemented value for setpoint of output piezo_direct has saturated more than 10% away from desired value. Try to modify analog gains.\n"
       ]
      },
      {
       "output_type": "stream",
       "stream": "stderr",
       "text": [
        "WARNING:pyrpl.signal:Implemented value for setpoint of output piezo_direct has saturated more than 10% away from desired value. Try to modify analog gains.\n"
       ]
      },
      {
       "output_type": "stream",
       "stream": "stderr",
       "text": [
        "WARNING:pyrpl.signal:Implemented value for differentiator of output current has saturated more than 10% away from desired value. Try to modify analog gains.\n"
       ]
      },
      {
       "output_type": "stream",
       "stream": "stderr",
       "text": [
        "WARNING:pyrpl.signal:Implemented value for setpoint of output piezo_direct has saturated more than 10% away from desired value. Try to modify analog gains.\n"
       ]
      },
      {
       "output_type": "stream",
       "stream": "stderr",
       "text": [
        "WARNING:pyrpl.signal:Implemented value for differentiator of output current has saturated more than 10% away from desired value. Try to modify analog gains.\n"
       ]
      }
     ],
     "prompt_number": 9
    },
    {
     "cell_type": "code",
     "collapsed": false,
     "input": [
      "0.12/0.14"
     ],
     "language": "python",
     "metadata": {},
     "outputs": [
      {
       "metadata": {},
       "output_type": "pyout",
       "prompt_number": 10,
       "text": [
        "0.857142857142857"
       ]
      }
     ],
     "prompt_number": 10
    },
    {
     "cell_type": "code",
     "collapsed": false,
     "input": [
      "0.29/0.35"
     ],
     "language": "python",
     "metadata": {},
     "outputs": [
      {
       "metadata": {},
       "output_type": "pyout",
       "prompt_number": 11,
       "text": [
        "0.8285714285714285"
       ]
      },
      {
       "output_type": "stream",
       "stream": "stderr",
       "text": [
        "WARNING:pyrpl.signal:Implemented value for setpoint of output piezo_direct has saturated more than 10% away from desired value. Try to modify analog gains.\n"
       ]
      },
      {
       "output_type": "stream",
       "stream": "stderr",
       "text": [
        "WARNING:pyrpl.signal:Implemented value for differentiator of output current has saturated more than 10% away from desired value. Try to modify analog gains.\n"
       ]
      },
      {
       "output_type": "stream",
       "stream": "stderr",
       "text": [
        "WARNING:pyrpl.signal:Implemented value for setpoint of output piezo_direct has saturated more than 10% away from desired value. Try to modify analog gains.\n"
       ]
      },
      {
       "output_type": "stream",
       "stream": "stderr",
       "text": [
        "WARNING:pyrpl.signal:Implemented value for differentiator of output current has saturated more than 10% away from desired value. Try to modify analog gains.\n"
       ]
      },
      {
       "output_type": "stream",
       "stream": "stderr",
       "text": [
        "WARNING:pyrpl.signal:Implemented value for setpoint of output piezo_direct has saturated more than 10% away from desired value. Try to modify analog gains.\n"
       ]
      },
      {
       "output_type": "stream",
       "stream": "stderr",
       "text": [
        "WARNING:pyrpl.signal:Implemented value for differentiator of output current has saturated more than 10% away from desired value. Try to modify analog gains.\n"
       ]
      }
     ],
     "prompt_number": 11
    },
    {
     "cell_type": "code",
     "collapsed": false,
     "input": [
      "r.rp.iq1.output_direct"
     ],
     "language": "python",
     "metadata": {},
     "outputs": [
      {
       "metadata": {},
       "output_type": "pyout",
       "prompt_number": 12,
       "text": [
        "'out1'"
       ]
      }
     ],
     "prompt_number": 12
    },
    {
     "cell_type": "code",
     "collapsed": false,
     "input": [
      "r.rp.iq0.output_direct = 'out2'"
     ],
     "language": "python",
     "metadata": {},
     "outputs": [
      {
       "output_type": "stream",
       "stream": "stderr",
       "text": [
        "WARNING:pyrpl.signal:Implemented value for setpoint of output piezo_direct has saturated more than 10% away from desired value. Try to modify analog gains.\n"
       ]
      },
      {
       "output_type": "stream",
       "stream": "stderr",
       "text": [
        "WARNING:pyrpl.signal:Implemented value for differentiator of output current has saturated more than 10% away from desired value. Try to modify analog gains.\n"
       ]
      },
      {
       "output_type": "stream",
       "stream": "stderr",
       "text": [
        "WARNING:pyrpl.signal:Implemented value for setpoint of output piezo_direct has saturated more than 10% away from desired value. Try to modify analog gains.\n"
       ]
      },
      {
       "output_type": "stream",
       "stream": "stderr",
       "text": [
        "WARNING:pyrpl.signal:Implemented value for differentiator of output current has saturated more than 10% away from desired value. Try to modify analog gains.\n"
       ]
      },
      {
       "output_type": "stream",
       "stream": "stderr",
       "text": [
        "WARNING:pyrpl.signal:Implemented value for setpoint of output piezo_direct has saturated more than 10% away from desired value. Try to modify analog gains.\n"
       ]
      },
      {
       "output_type": "stream",
       "stream": "stderr",
       "text": [
        "WARNING:pyrpl.signal:Implemented value for differentiator of output current has saturated more than 10% away from desired value. Try to modify analog gains.\n"
       ]
      },
      {
       "output_type": "stream",
       "stream": "stderr",
       "text": [
        "WARNING:pyrpl.signal:Implemented value for setpoint of output piezo_direct has saturated more than 10% away from desired value. Try to modify analog gains.\n"
       ]
      },
      {
       "output_type": "stream",
       "stream": "stderr",
       "text": [
        "WARNING:pyrpl.signal:Implemented value for differentiator of output current has saturated more than 10% away from desired value. Try to modify analog gains.\n"
       ]
      }
     ],
     "prompt_number": 15
    },
    {
     "cell_type": "code",
     "collapsed": false,
     "input": [],
     "language": "python",
     "metadata": {},
     "outputs": []
    }
   ],
   "metadata": {}
  }
 ]
}